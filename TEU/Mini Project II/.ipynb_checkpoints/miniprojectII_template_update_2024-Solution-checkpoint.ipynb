{
 "cells": [
  {
   "cell_type": "markdown",
   "metadata": {},
   "source": [
    "# mini-project II: Mount Saint Helens' biodiversity after the ashes\n",
    "Elements of Data Science"
   ]
  },
  {
   "cell_type": "code",
   "execution_count": 1,
   "metadata": {
    "editable": true,
    "slideshow": {
     "slide_type": ""
    },
    "tags": []
   },
   "outputs": [],
   "source": [
    "# Enter your name as a string\n",
    "name = 'ERUPTOR'"
   ]
  },
  {
   "cell_type": "code",
   "execution_count": 2,
   "metadata": {
    "editable": true,
    "slideshow": {
     "slide_type": ""
    },
    "tags": []
   },
   "outputs": [],
   "source": [
    "import numpy as np\n",
    "from datascience import *\n",
    "%matplotlib inline\n",
    "import matplotlib.pyplot as plt\n",
    "plt.style.use('ggplot')\n",
    "import os\n",
    "user = os.getenv('JUPYTERHUB_USER')"
   ]
  },
  {
   "cell_type": "markdown",
   "metadata": {},
   "source": [
    "### Mount Saint Helens Eruption  8:32 A.M. on May 18, 1980\n",
    "We will explore data on ecosystem recovery following the volcanic eruption at Mount Saint Helens in Washington State.<br>\n",
    "<img src='data/Eruption.jpg'><br><img src='data/800px-1980_St._Helens_ashmap.png'>"
   ]
  },
  {
   "cell_type": "markdown",
   "metadata": {},
   "source": [
    "### <font color='green'>Data Sets\n",
    "<font color='red'>**Mount Saint Helens erupted at 8:32 A.M. on May 18, 1980.** </font>\n",
    "<br>\n",
    "Professor Roger del Morales at University of Washington https://faculty.washington.edu/moral/ and his team set up circular, 9 meter radius, land plots near the volcano once it was safe to initiate the study in 1984. These plots are located in several distinct regions near the volcano cone to study the return of vegetation and biodiversity to these plots located in different positions relative to the volcanic cone (see mapping below). We will use this data to assess the rate of plant succession. Measures in the data include yearly species richness, *RICHNESS*, defined as the number of species in a given region or in this case the 9 meter radius (250 m^2) land plot. We will use our data science tools to decide if the changes over time in *RICHNESS* are a pattern (Alternate hypothesis) or if they are just due to random fluctuations (NULL hypothesis). We will also study *COVER_%*, a measure that reflects plant coverage. In this case we will test whether growth has occured following the eruption. Plots are studied in 13 unique locations with different characteristics including the blast type which they experienced. In designing their study, the researchers also collected data in up to 10 adjacent plots with the same name in order to assess statistical variation across an area. \n",
    "\n",
    "**Our Overall Study Plan**\n",
    "1. Select two distinct plot names with contrasting characteristics\n",
    "2. Look at plant succcesion 10 years after the blast relative to first year of data available for a given plot. Here we use a paired t-test.\n",
    "3. Examine time trend for plant succession using changes function developed in Lab 07.\n",
    "\n",
    "**Data collected:**\n",
    "1. del Moral, Roger (2016): Thirty years of permanent vegetation plots, Mount St. Helens, Washington, USA. Wiley. Collection. https://doi.org/10.6084/m9.figshare.c.3303093.v1 \n",
    "Source: https://figshare.com/collections/Thirty_years_of_permanent_vegetation_plots_Mount_St_Helens_Washington_USA/3303093\n",
    "\n",
    "**Papers using this data:**\n",
    "1. Del Moral, R.; Magnússon, B., \"Surtsey and Mount St. Helens: a comparison of early succession rates\". Biogeosciences 2014, 11 (7), 2099-2111.\n",
    "https://faculty.washington.edu/moral/publications/2014%20delMoral%20Magnusson.pdf\n",
    "\n",
    "2.  Cook, James E.; Halpern, Charles B., \"Vegetation changes in blown-down and scorched forests 10–26 years after the eruption of Mount St. Helens, Washington, USA\". Plant Ecology 2018, 219 (8), 957-972.\n",
    "https://link.springer.com/content/pdf/10.1007/s11258-018-0849-8.pdf\n",
    "\n"
   ]
  },
  {
   "cell_type": "markdown",
   "metadata": {},
   "source": [
    "### <font color='green'>Video background"
   ]
  },
  {
   "cell_type": "code",
   "execution_count": 3,
   "metadata": {
    "editable": true,
    "slideshow": {
     "slide_type": ""
    },
    "tags": []
   },
   "outputs": [
    {
     "data": {
      "image/jpeg": "[encoded data removed]",
      "text/html": [
       "\n",
       "        <iframe\n",
       "            width=\"400\"\n",
       "            height=\"300\"\n",
       "            src=\"https://www.youtube.com/embed/UK--hvgP2uY\"\n",
       "            frameborder=\"0\"\n",
       "            allowfullscreen\n",
       "            \n",
       "        ></iframe>\n",
       "        "
      ],
      "text/plain": [
       "<IPython.lib.display.YouTubeVideo at 0x79c00a9e9cf0>"
      ]
     },
     "execution_count": 3,
     "metadata": {},
     "output_type": "execute_result"
    }
   ],
   "source": [
    "from IPython.display import YouTubeVideo\n",
    "YouTubeVideo(\"UK--hvgP2uY\")\n",
    "# https://youtu.be/UK--hvgP2uY"
   ]
  },
  {
   "cell_type": "markdown",
   "metadata": {},
   "source": [
    "[Google Earth 3D view](https://earth.google.com/web/search/Mount+Saint+Helens,+Washington/@46.19819667,-122.19529432,2095.30665214a,10392.19844707d,35y,224.30506563h,60t,0r/data=CigiJgokCcIkzMXzkzhAEcIkzMXzkzjAGcJo4PGMbkNAIYI6cQ6KIlHA)"
   ]
  },
  {
   "cell_type": "markdown",
   "metadata": {
    "editable": true,
    "slideshow": {
     "slide_type": ""
    },
    "tags": []
   },
   "source": [
    "### <font color='green'> ***Question 1***</font>\n",
    "We will first explore the different study plots where data was collected. They are located in different environments, elevations, and locations relative to the volcano cone. <br>Create initial data tables and plots to explore the nature of the different plots included in \"data/MSH_PLOT_DESCRIPTORS2.csv\". Variables to consider include elevation, slope, aspect (direction), impact type. You could use group or pivot methods here."
   ]
  },
  {
   "cell_type": "code",
   "execution_count": 4,
   "metadata": {},
   "outputs": [
    {
     "data": {
      "text/html": [
       "<table border=\"1\" class=\"dataframe\">\n",
       "    <thead>\n",
       "        <tr>\n",
       "            <th>PLOT_NAME</th> <th>PLOT_CODE</th> <th>FIRST_YEAR</th> <th>LAST_YEAR</th> <th>UTMGRID</th> <th>UTMEAST</th> <th>UTMNORTH</th> <th>LONG</th> <th>LAT</th> <th>POT._RAD.</th> <th>HEAT_LOAD</th> <th>ELEVATION(M)</th> <th>ASPECT</th> <th>SLOPE</th> <th>IMPACT_TYPE</th> <th>SUCCESSION_TYPE</th>\n",
       "        </tr>\n",
       "    </thead>\n",
       "    <tbody>\n",
       "        <tr>\n",
       "            <td>Toutle Ridge10</td> <td>TORD10   </td> <td>1981      </td> <td>1996     </td> <td>10T    </td> <td>559724 </td> <td>5118180 </td> <td>122.226</td> <td>46.2146</td> <td>0.769    </td> <td>0.796    </td> <td>1430        </td> <td>N     </td> <td>11   </td> <td>Blast edge </td> <td>Secondary      </td>\n",
       "        </tr>\n",
       "        <tr>\n",
       "            <td>Toutle Ridge09</td> <td>TORD09   </td> <td>1981      </td> <td>1997     </td> <td>10T    </td> <td>559599 </td> <td>5118216 </td> <td>122.227</td> <td>46.2149</td> <td>0.722    </td> <td>0.827    </td> <td>1417        </td> <td>NW    </td> <td>18   </td> <td>Blast edge </td> <td>Secondary      </td>\n",
       "        </tr>\n",
       "        <tr>\n",
       "            <td>Toutle Ridge08</td> <td>TORD08   </td> <td>1981      </td> <td>1997     </td> <td>10T    </td> <td>559565 </td> <td>5118281 </td> <td>122.228</td> <td>46.2155</td> <td>0.788    </td> <td>0.833    </td> <td>1401        </td> <td>NNW   </td> <td>10   </td> <td>Blast edge </td> <td>Secondary      </td>\n",
       "        </tr>\n",
       "        <tr>\n",
       "            <td>Toutle Ridge07</td> <td>TORD07   </td> <td>1981      </td> <td>1997     </td> <td>10T    </td> <td>559466 </td> <td>5118302 </td> <td>122.229</td> <td>46.2157</td> <td>0.756    </td> <td>0.786    </td> <td>1379        </td> <td>N     </td> <td>12   </td> <td>Blast edge </td> <td>Secondary      </td>\n",
       "        </tr>\n",
       "        <tr>\n",
       "            <td>Toutle Ridge06</td> <td>TORD06   </td> <td>1981      </td> <td>1997     </td> <td>10T    </td> <td>559413 </td> <td>5118329 </td> <td>122.23 </td> <td>46.2159</td> <td>0.835    </td> <td>0.877    </td> <td>1365        </td> <td>NW    </td> <td>7    </td> <td>Blast edge </td> <td>Secondary      </td>\n",
       "        </tr>\n",
       "        <tr>\n",
       "            <td>Toutle Ridge05</td> <td>TORD05   </td> <td>1981      </td> <td>1997     </td> <td>10T    </td> <td>559342 </td> <td>5118366 </td> <td>122.231</td> <td>46.2163</td> <td>0.822    </td> <td>0.854    </td> <td>1352        </td> <td>NNW   </td> <td>7    </td> <td>Blast edge </td> <td>Secondary      </td>\n",
       "        </tr>\n",
       "        <tr>\n",
       "            <td>Toutle Ridge04</td> <td>TORD04   </td> <td>1981      </td> <td>1997     </td> <td>10T    </td> <td>559279 </td> <td>5115125 </td> <td>122.232</td> <td>46.1871</td> <td>0.764    </td> <td>0.818    </td> <td>1340        </td> <td>NNW   </td> <td>12   </td> <td>Blast edge </td> <td>Secondary      </td>\n",
       "        </tr>\n",
       "        <tr>\n",
       "            <td>Toutle Ridge03</td> <td>TORD03   </td> <td>1981      </td> <td>1997     </td> <td>10T    </td> <td>559238 </td> <td>5118483 </td> <td>122.232</td> <td>46.2173</td> <td>0.764    </td> <td>0.818    </td> <td>1320        </td> <td>NNW   </td> <td>12   </td> <td>Blast edge </td> <td>Secondary      </td>\n",
       "        </tr>\n",
       "        <tr>\n",
       "            <td>Toutle Ridge02</td> <td>TORD02   </td> <td>1981      </td> <td>1997     </td> <td>10T    </td> <td>559091 </td> <td>5118480 </td> <td>122.234</td> <td>46.2173</td> <td>0.861    </td> <td>0.9      </td> <td>1294        </td> <td>WNW   </td> <td>6    </td> <td>Blast edge </td> <td>Secondary      </td>\n",
       "        </tr>\n",
       "        <tr>\n",
       "            <td>Toutle Ridge01</td> <td>TORD01   </td> <td>1981      </td> <td>1997     </td> <td>10T    </td> <td>558992 </td> <td>5118569 </td> <td>122.235</td> <td>46.2181</td> <td>0.874    </td> <td>0.9      </td> <td>1280        </td> <td>WNW   </td> <td>4    </td> <td>Blast edge </td> <td>Secondary      </td>\n",
       "        </tr>\n",
       "    </tbody>\n",
       "</table>\n",
       "<p>... (82 rows omitted)</p>"
      ],
      "text/plain": [
       "PLOT_NAME      | PLOT_CODE | FIRST_YEAR | LAST_YEAR | UTMGRID | UTMEAST | UTMNORTH | LONG    | LAT     | POT._RAD. | HEAT_LOAD | ELEVATION(M) | ASPECT | SLOPE | IMPACT_TYPE | SUCCESSION_TYPE\n",
       "Toutle Ridge10 | TORD10    | 1981       | 1996      | 10T     | 559724  | 5118180  | 122.226 | 46.2146 | 0.769     | 0.796     | 1430         | N      | 11    | Blast edge  | Secondary\n",
       "Toutle Ridge09 | TORD09    | 1981       | 1997      | 10T     | 559599  | 5118216  | 122.227 | 46.2149 | 0.722     | 0.827     | 1417         | NW     | 18    | Blast edge  | Secondary\n",
       "Toutle Ridge08 | TORD08    | 1981       | 1997      | 10T     | 559565  | 5118281  | 122.228 | 46.2155 | 0.788     | 0.833     | 1401         | NNW    | 10    | Blast edge  | Secondary\n",
       "Toutle Ridge07 | TORD07    | 1981       | 1997      | 10T     | 559466  | 5118302  | 122.229 | 46.2157 | 0.756     | 0.786     | 1379         | N      | 12    | Blast edge  | Secondary\n",
       "Toutle Ridge06 | TORD06    | 1981       | 1997      | 10T     | 559413  | 5118329  | 122.23  | 46.2159 | 0.835     | 0.877     | 1365         | NW     | 7     | Blast edge  | Secondary\n",
       "Toutle Ridge05 | TORD05    | 1981       | 1997      | 10T     | 559342  | 5118366  | 122.231 | 46.2163 | 0.822     | 0.854     | 1352         | NNW    | 7     | Blast edge  | Secondary\n",
       "Toutle Ridge04 | TORD04    | 1981       | 1997      | 10T     | 559279  | 5115125  | 122.232 | 46.1871 | 0.764     | 0.818     | 1340         | NNW    | 12    | Blast edge  | Secondary\n",
       "Toutle Ridge03 | TORD03    | 1981       | 1997      | 10T     | 559238  | 5118483  | 122.232 | 46.2173 | 0.764     | 0.818     | 1320         | NNW    | 12    | Blast edge  | Secondary\n",
       "Toutle Ridge02 | TORD02    | 1981       | 1997      | 10T     | 559091  | 5118480  | 122.234 | 46.2173 | 0.861     | 0.9       | 1294         | WNW    | 6     | Blast edge  | Secondary\n",
       "Toutle Ridge01 | TORD01    | 1981       | 1997      | 10T     | 558992  | 5118569  | 122.235 | 46.2181 | 0.874     | 0.9       | 1280         | WNW    | 4     | Blast edge  | Secondary\n",
       "... (82 rows omitted)"
      ]
     },
     "execution_count": 4,
     "metadata": {},
     "output_type": "execute_result"
    }
   ],
   "source": [
    "# Plot description dataset\n",
    "datafile = \"data/MSH_PLOT_DESCRIPTORS2.csv\"\n",
    "MSH_PLOT = Table.read_table(datafile)\n",
    "MSH_PLOT"
   ]
  },
  {
   "cell_type": "markdown",
   "metadata": {},
   "source": [
    "#### Plot Impact Type"
   ]
  },
  {
   "cell_type": "code",
   "execution_count": 5,
   "metadata": {},
   "outputs": [
    {
     "data": {
      "text/plain": [
       "array(['Blast', 'Blast edge', 'Blast; Scour; Pumice', 'Blast; pumice',\n",
       "       'Lahar-thick deposit', 'Scour-Mild',\n",
       "       'Scour-intense; Moderate deposit', 'Scour-moderate; Thin deposit',\n",
       "       'Tephra', 'Weak blast; tephra'],\n",
       "      dtype='<U31')"
      ]
     },
     "execution_count": 5,
     "metadata": {},
     "output_type": "execute_result"
    }
   ],
   "source": [
    "np.unique(MSH_PLOT['IMPACT_TYPE'])"
   ]
  },
  {
   "cell_type": "code",
   "execution_count": 6,
   "metadata": {
    "tags": []
   },
   "outputs": [
    {
     "data": {
      "text/html": [
       "<table border=\"1\" class=\"dataframe\">\n",
       "    <thead>\n",
       "        <tr>\n",
       "            <th>ASPECT</th> <th>count</th>\n",
       "        </tr>\n",
       "    </thead>\n",
       "    <tbody>\n",
       "        <tr>\n",
       "            <td>E     </td> <td>12   </td>\n",
       "        </tr>\n",
       "        <tr>\n",
       "            <td>ENE   </td> <td>2    </td>\n",
       "        </tr>\n",
       "        <tr>\n",
       "            <td>ESE   </td> <td>5    </td>\n",
       "        </tr>\n",
       "        <tr>\n",
       "            <td>N     </td> <td>5    </td>\n",
       "        </tr>\n",
       "        <tr>\n",
       "            <td>N     </td> <td>5    </td>\n",
       "        </tr>\n",
       "        <tr>\n",
       "            <td>NE    </td> <td>9    </td>\n",
       "        </tr>\n",
       "        <tr>\n",
       "            <td>NNE   </td> <td>3    </td>\n",
       "        </tr>\n",
       "        <tr>\n",
       "            <td>NNW   </td> <td>4    </td>\n",
       "        </tr>\n",
       "        <tr>\n",
       "            <td>NW    </td> <td>14   </td>\n",
       "        </tr>\n",
       "        <tr>\n",
       "            <td>S     </td> <td>2    </td>\n",
       "        </tr>\n",
       "    </tbody>\n",
       "</table>\n",
       "<p>... (6 rows omitted)</p>"
      ],
      "text/plain": [
       "ASPECT | count\n",
       "E      | 12\n",
       "ENE    | 2\n",
       "ESE    | 5\n",
       "N      | 5\n",
       "N      | 5\n",
       "NE     | 9\n",
       "NNE    | 3\n",
       "NNW    | 4\n",
       "NW     | 14\n",
       "S      | 2\n",
       "... (6 rows omitted)"
      ]
     },
     "execution_count": 6,
     "metadata": {},
     "output_type": "execute_result"
    }
   ],
   "source": [
    "### EDA\n",
    "MSH_PLOT.group('ASPECT')"
   ]
  },
  {
   "cell_type": "code",
   "execution_count": 7,
   "metadata": {
    "tags": []
   },
   "outputs": [
    {
     "data": {
      "text/html": [
       "<table border=\"1\" class=\"dataframe\">\n",
       "    <thead>\n",
       "        <tr>\n",
       "            <th>SUCCESSION_TYPE</th> <th>count</th>\n",
       "        </tr>\n",
       "    </thead>\n",
       "    <tbody>\n",
       "        <tr>\n",
       "            <td>Disturbance    </td> <td>20   </td>\n",
       "        </tr>\n",
       "        <tr>\n",
       "            <td>Primary        </td> <td>49   </td>\n",
       "        </tr>\n",
       "        <tr>\n",
       "            <td>Secondary      </td> <td>23   </td>\n",
       "        </tr>\n",
       "    </tbody>\n",
       "</table>"
      ],
      "text/plain": [
       "SUCCESSION_TYPE | count\n",
       "Disturbance     | 20\n",
       "Primary         | 49\n",
       "Secondary       | 23"
      ]
     },
     "execution_count": 7,
     "metadata": {},
     "output_type": "execute_result"
    }
   ],
   "source": [
    "MSH_PLOT.group('SUCCESSION_TYPE')"
   ]
  },
  {
   "cell_type": "code",
   "execution_count": 8,
   "metadata": {
    "tags": []
   },
   "outputs": [
    {
     "data": {
      "image/png": "[encoded data removed]",
      "text/plain": [
       "<Figure size 600x400 with 1 Axes>"
      ]
     },
     "metadata": {},
     "output_type": "display_data"
    }
   ],
   "source": [
    "MSH_PLOT.hist('ELEVATION(M)')"
   ]
  },
  {
   "cell_type": "code",
   "execution_count": 9,
   "metadata": {
    "tags": []
   },
   "outputs": [
    {
     "data": {
      "text/plain": [
       "array(['Abraham Plain01', 'Abraham Plain02', 'Abraham Plain03',\n",
       "       'Abraham Plain04', 'Abraham Plain05', 'Abraham Plain06',\n",
       "       'Abraham Plain07', 'Abraham Plain08', 'Abraham Plain09',\n",
       "       'Abraham Plain10', 'Butte CampA01', 'Butte CampA03',\n",
       "       'Butte CampA04', 'Butte CampB01', 'Butte CampB02', 'Butte CampB03',\n",
       "       'Butte CampB04', 'Butte CampB05', 'Butte CampB06', 'Butte CampB07',\n",
       "       'Butte CampC01', 'Butte CampC02', 'Butte CampC03', 'Butte CampD01',\n",
       "       'Butte CampD02', 'Butte CampD03', 'Butte CampD05', 'Lahar01',\n",
       "       'Lahar02', 'Lahar04', 'Lahar05', 'Lahar06', 'Lahar07', 'Lahar08',\n",
       "       'Pine CreekA01', 'Pine CreekA02', 'Pine CreekA03', 'Pine CreekA04',\n",
       "       'Pine CreekB01', 'Pine CreekB02', 'Pine CreekB03', 'Pine CreekB04',\n",
       "       'Pine CreekB05', 'Pine CrekE02', 'Pine CrekE03', 'Pine CrekE04',\n",
       "       'Pumice Plain01', 'Pumice Plain02', 'Pumice Plain03',\n",
       "       'Pumice Plain04', 'Pumice Plain05', 'Pumice Plain06',\n",
       "       'Pumice Plain07', 'Pumice Plain08', 'Pumice Plain09',\n",
       "       'Pumice Plain10', 'Pumice Plain11', 'Pumice Plain12',\n",
       "       'South Fork Toutle01', 'South Fork Toutle02', 'South Fork Toutle03',\n",
       "       'South Fork Toutle04', 'Studebaker Ridge01', 'Studebaker Ridge02',\n",
       "       'Studebaker Ridge03', 'Studebaker Ridge04', 'Studebaker Ridge05',\n",
       "       'Studebaker Ridge06', 'Studebaker Ridge07', 'Studebaker Ridge08',\n",
       "       'Studebaker Ridge09', 'Studebaker Ridge10', 'Studebaker Ridge11',\n",
       "       'Studebaker Ridge12', 'Studebaker Ridge13', 'Studebaker Ridge14',\n",
       "       'Studebaker Ridge15', 'Studebaker Ridge16', 'Studebaker Ridge17',\n",
       "       'Studebaker Ridge18', 'Studebaker Ridge19', 'Studebaker Ridge20',\n",
       "       'Toutle Ridge01', 'Toutle Ridge02', 'Toutle Ridge03',\n",
       "       'Toutle Ridge04', 'Toutle Ridge05', 'Toutle Ridge06',\n",
       "       'Toutle Ridge07', 'Toutle Ridge08', 'Toutle Ridge09',\n",
       "       'Toutle Ridge10'],\n",
       "      dtype='<U19')"
      ]
     },
     "execution_count": 9,
     "metadata": {},
     "output_type": "execute_result"
    }
   ],
   "source": [
    "np.unique(MSH_PLOT['PLOT_NAME'])"
   ]
  },
  {
   "cell_type": "markdown",
   "metadata": {},
   "source": [
    "#### Mapping Biodiversity Data Collected following Mount Saint Helens Eruption\n",
    "Data is collected anually on developing biodiversity on defined plots of land with given latitude and longitude. These locations can be mapped using the *map_table* method of a table object.  Plots are studied in 13 unique locations relative to the volcanic cone with different characteristics including the blast type which they experienced. Zoom in on map, click on each circle to view the label for the data series. There are replicate plots within each plot name in order assess statistical variation. The `.map_table()` method uses [Folium](https://realpython.com/python-folium-web-maps-from-data/), a powerful mapping and GeoJSON utility."
   ]
  },
  {
   "cell_type": "code",
   "execution_count": 10,
   "metadata": {
    "editable": true,
    "scrolled": true,
    "slideshow": {
     "slide_type": ""
    },
    "tags": []
   },
   "outputs": [
    {
     "data": {
      "text/html": [
       "<div style=\"width:100%;\"><div style=\"position:relative;width:100%;height:0;padding-bottom:60%;\"><span style=\"color:#565656\">Make this Notebook Trusted to load map: File -> Trust Notebook</span><iframe srcdoc=\"&lt;!DOCTYPE html&gt;\n",
       "&lt;html&gt;\n",
       "&lt;head&gt;\n",
       "    \n",
       "    &lt;meta http-equiv=&quot;content-type&quot; content=&quot;text/html; charset=UTF-8&quot; /&gt;\n",
       "    \n",
       "        &lt;script&gt;\n",
       "            L_NO_TOUCH = false;\n",
       "            L_DISABLE_3D = false;\n",
       "        &lt;/script&gt;\n",
       "    \n",
       "    &lt;style&gt;html, body {width: 100%;height: 100%;margin: 0;padding: 0;}&lt;/style&gt;\n",
       "    &lt;style&gt;#map {position:absolute;top:0;bottom:0;right:0;left:0;}&lt;/style&gt;\n",
       "    &lt;script src=&quot;https://cdn.jsdelivr.net/npm/leaflet@1.9.3/dist/leaflet.js&quot;&gt;&lt;/script&gt;\n",
       "    &lt;script src=&quot;https://code.jquery.com/jquery-1.12.4.min.js&quot;&gt;&lt;/script&gt;\n",
       "    &lt;script src=&quot;https://cdn.jsdelivr.net/npm/bootstrap@5.2.2/dist/js/bootstrap.bundle.min.js&quot;&gt;&lt;/script&gt;\n",
       "    &lt;script src=&quot;https://cdnjs.cloudflare.com/ajax/libs/Leaflet.awesome-markers/2.0.2/leaflet.awesome-markers.js&quot;&gt;&lt;/script&gt;\n",
       "    &lt;link rel=&quot;stylesheet&quot; href=&quot;https://cdn.jsdelivr.net/npm/leaflet@1.9.3/dist/leaflet.css&quot;/&gt;\n",
       "    &lt;link rel=&quot;stylesheet&quot; href=&quot;https://cdn.jsdelivr.net/npm/bootstrap@5.2.2/dist/css/bootstrap.min.css&quot;/&gt;\n",
       "    &lt;link rel=&quot;stylesheet&quot; href=&quot;https://netdna.bootstrapcdn.com/bootstrap/3.0.0/css/bootstrap.min.css&quot;/&gt;\n",
       "    &lt;link rel=&quot;stylesheet&quot; href=&quot;https://cdn.jsdelivr.net/npm/@fortawesome/fontawesome-free@6.2.0/css/all.min.css&quot;/&gt;\n",
       "    &lt;link rel=&quot;stylesheet&quot; href=&quot;https://cdnjs.cloudflare.com/ajax/libs/Leaflet.awesome-markers/2.0.2/leaflet.awesome-markers.css&quot;/&gt;\n",
       "    &lt;link rel=&quot;stylesheet&quot; href=&quot;https://cdn.jsdelivr.net/gh/python-visualization/folium/folium/templates/leaflet.awesome.rotate.min.css&quot;/&gt;\n",
       "    \n",
       "            &lt;meta name=&quot;viewport&quot; content=&quot;width=device-width,\n",
       "                initial-scale=1.0, maximum-scale=1.0, user-scalable=no&quot; /&gt;\n",
       "            &lt;style&gt;\n",
       "                #map_4aa7168e12f739e6cf27b55356e590e0 {\n",
       "                    position: relative;\n",
       "                    width: 500.0px;\n",
       "                    height: 500.0px;\n",
       "                    left: 0.0%;\n",
       "                    top: 0.0%;\n",
       "                }\n",
       "                .leaflet-container { font-size: 1rem; }\n",
       "            &lt;/style&gt;\n",
       "        \n",
       "&lt;/head&gt;\n",
       "&lt;body&gt;\n",
       "    \n",
       "    \n",
       "            &lt;div class=&quot;folium-map&quot; id=&quot;map_4aa7168e12f739e6cf27b55356e590e0&quot; &gt;&lt;/div&gt;\n",
       "        \n",
       "&lt;/body&gt;\n",
       "&lt;script&gt;\n",
       "    \n",
       "    \n",
       "            var map_4aa7168e12f739e6cf27b55356e590e0 = L.map(\n",
       "                &quot;map_4aa7168e12f739e6cf27b55356e590e0&quot;,\n",
       "                {\n",
       "                    center: [46.191387, -122.195618],\n",
       "                    crs: L.CRS.EPSG3857,\n",
       "                    zoom: 10,\n",
       "                    zoomControl: true,\n",
       "                    preferCanvas: false,\n",
       "                }\n",
       "            );\n",
       "\n",
       "            \n",
       "\n",
       "        \n",
       "    \n",
       "            var tile_layer_237af16ce7fe3330cc79f3ba2fc36c2c = L.tileLayer(\n",
       "                &quot;https://{s}.tile.openstreetmap.org/{z}/{x}/{y}.png&quot;,\n",
       "                {&quot;attribution&quot;: &quot;Data by \\u0026copy; \\u003ca target=\\&quot;_blank\\&quot; href=\\&quot;http://openstreetmap.org\\&quot;\\u003eOpenStreetMap\\u003c/a\\u003e, under \\u003ca target=\\&quot;_blank\\&quot; href=\\&quot;http://www.openstreetmap.org/copyright\\&quot;\\u003eODbL\\u003c/a\\u003e.&quot;, &quot;detectRetina&quot;: false, &quot;maxNativeZoom&quot;: 17, &quot;maxZoom&quot;: 17, &quot;minZoom&quot;: 8, &quot;noWrap&quot;: false, &quot;opacity&quot;: 1, &quot;subdomains&quot;: &quot;abc&quot;, &quot;tms&quot;: false}\n",
       "            ).addTo(map_4aa7168e12f739e6cf27b55356e590e0);\n",
       "        \n",
       "    \n",
       "            var circle_marker_9bbb18b7eb208589fe942a63fe679c20 = L.circleMarker(\n",
       "                [46.21457, -122.22569],\n",
       "                {&quot;bubblingMouseEvents&quot;: true, &quot;color&quot;: &quot;blue&quot;, &quot;dashArray&quot;: null, &quot;dashOffset&quot;: null, &quot;fill&quot;: true, &quot;fillColor&quot;: &quot;blue&quot;, &quot;fillOpacity&quot;: 0.01, &quot;fillRule&quot;: &quot;evenodd&quot;, &quot;lineCap&quot;: &quot;round&quot;, &quot;lineJoin&quot;: &quot;round&quot;, &quot;opacity&quot;: 1.0, &quot;radius&quot;: 10.0, &quot;stroke&quot;: true, &quot;weight&quot;: 3}\n",
       "            ).addTo(map_4aa7168e12f739e6cf27b55356e590e0);\n",
       "        \n",
       "    \n",
       "        var popup_736cafcbd74b0ebac0de1644532d74a8 = L.popup({&quot;maxWidth&quot;: &quot;100%&quot;});\n",
       "\n",
       "        \n",
       "            \n",
       "                var html_e009f63c17fef9f9d2edb4ac0184aa49 = $(`&lt;div id=&quot;html_e009f63c17fef9f9d2edb4ac0184aa49&quot; style=&quot;width: 100.0%; height: 100.0%;&quot;&gt;TORD10&lt;/div&gt;`)[0];\n",
       "                popup_736cafcbd74b0ebac0de1644532d74a8.setContent(html_e009f63c17fef9f9d2edb4ac0184aa49);\n",
       "            \n",
       "        \n",
       "\n",
       "        circle_marker_9bbb18b7eb208589fe942a63fe679c20.bindPopup(popup_736cafcbd74b0ebac0de1644532d74a8)\n",
       "        ;\n",
       "\n",
       "        \n",
       "    \n",
       "    \n",
       "            var circle_marker_b17d3d0f50ae71c39fd14065d8938ca9 = L.circleMarker(\n",
       "                [46.21491, -122.22731],\n",
       "                {&quot;bubblingMouseEvents&quot;: true, &quot;color&quot;: &quot;blue&quot;, &quot;dashArray&quot;: null, &quot;dashOffset&quot;: null, &quot;fill&quot;: true, &quot;fillColor&quot;: &quot;blue&quot;, &quot;fillOpacity&quot;: 0.01, &quot;fillRule&quot;: &quot;evenodd&quot;, &quot;lineCap&quot;: &quot;round&quot;, &quot;lineJoin&quot;: &quot;round&quot;, &quot;opacity&quot;: 1.0, &quot;radius&quot;: 10.0, &quot;stroke&quot;: true, &quot;weight&quot;: 3}\n",
       "            ).addTo(map_4aa7168e12f739e6cf27b55356e590e0);\n",
       "        \n",
       "    \n",
       "        var popup_0ab793784fe70687746c75de243d20f5 = L.popup({&quot;maxWidth&quot;: &quot;100%&quot;});\n",
       "\n",
       "        \n",
       "            \n",
       "                var html_0681573e71ce11a9f4927ab13dd12dea = $(`&lt;div id=&quot;html_0681573e71ce11a9f4927ab13dd12dea&quot; style=&quot;width: 100.0%; height: 100.0%;&quot;&gt;TORD09&lt;/div&gt;`)[0];\n",
       "                popup_0ab793784fe70687746c75de243d20f5.setContent(html_0681573e71ce11a9f4927ab13dd12dea);\n",
       "            \n",
       "        \n",
       "\n",
       "        circle_marker_b17d3d0f50ae71c39fd14065d8938ca9.bindPopup(popup_0ab793784fe70687746c75de243d20f5)\n",
       "        ;\n",
       "\n",
       "        \n",
       "    \n",
       "    \n",
       "            var circle_marker_b653c48d4329398910075f5515a5afb6 = L.circleMarker(\n",
       "                [46.2155, -122.22774],\n",
       "                {&quot;bubblingMouseEvents&quot;: true, &quot;color&quot;: &quot;blue&quot;, &quot;dashArray&quot;: null, &quot;dashOffset&quot;: null, &quot;fill&quot;: true, &quot;fillColor&quot;: &quot;blue&quot;, &quot;fillOpacity&quot;: 0.01, &quot;fillRule&quot;: &quot;evenodd&quot;, &quot;lineCap&quot;: &quot;round&quot;, &quot;lineJoin&quot;: &quot;round&quot;, &quot;opacity&quot;: 1.0, &quot;radius&quot;: 10.0, &quot;stroke&quot;: true, &quot;weight&quot;: 3}\n",
       "            ).addTo(map_4aa7168e12f739e6cf27b55356e590e0);\n",
       "        \n",
       "    \n",
       "        var popup_d8b9a0eabfca43ccb1c1c31ab9ee14c4 = L.popup({&quot;maxWidth&quot;: &quot;100%&quot;});\n",
       "\n",
       "        \n",
       "            \n",
       "                var html_896f0266305dd135a95878caf00d370a = $(`&lt;div id=&quot;html_896f0266305dd135a95878caf00d370a&quot; style=&quot;width: 100.0%; height: 100.0%;&quot;&gt;TORD08&lt;/div&gt;`)[0];\n",
       "                popup_d8b9a0eabfca43ccb1c1c31ab9ee14c4.setContent(html_896f0266305dd135a95878caf00d370a);\n",
       "            \n",
       "        \n",
       "\n",
       "        circle_marker_b653c48d4329398910075f5515a5afb6.bindPopup(popup_d8b9a0eabfca43ccb1c1c31ab9ee14c4)\n",
       "        ;\n",
       "\n",
       "        \n",
       "    \n",
       "    \n",
       "            var circle_marker_c81e1af71868df3798a35c3807746396 = L.circleMarker(\n",
       "                [46.21569, -122.22902],\n",
       "                {&quot;bubblingMouseEvents&quot;: true, &quot;color&quot;: &quot;blue&quot;, &quot;dashArray&quot;: null, &quot;dashOffset&quot;: null, &quot;fill&quot;: true, &quot;fillColor&quot;: &quot;blue&quot;, &quot;fillOpacity&quot;: 0.01, &quot;fillRule&quot;: &quot;evenodd&quot;, &quot;lineCap&quot;: &quot;round&quot;, &quot;lineJoin&quot;: &quot;round&quot;, &quot;opacity&quot;: 1.0, &quot;radius&quot;: 10.0, &quot;stroke&quot;: true, &quot;weight&quot;: 3}\n",
       "            ).addTo(map_4aa7168e12f739e6cf27b55356e590e0);\n",
       "        \n",
       "    \n",
       "        var popup_ced693e5321ee0280755706d6d75e3b4 = L.popup({&quot;maxWidth&quot;: &quot;100%&quot;});\n",
       "\n",
       "        \n",
       "            \n",
       "                var html_3e9a2e8d10176f158811e39f025cc616 = $(`&lt;div id=&quot;html_3e9a2e8d10176f158811e39f025cc616&quot; style=&quot;width: 100.0%; height: 100.0%;&quot;&gt;TORD07&lt;/div&gt;`)[0];\n",
       "                popup_ced693e5321ee0280755706d6d75e3b4.setContent(html_3e9a2e8d10176f158811e39f025cc616);\n",
       "            \n",
       "        \n",
       "\n",
       "        circle_marker_c81e1af71868df3798a35c3807746396.bindPopup(popup_ced693e5321ee0280755706d6d75e3b4)\n",
       "        ;\n",
       "\n",
       "        \n",
       "    \n",
       "    \n",
       "            var circle_marker_e45a1a6d033300fbd1bcbb029b16a00c = L.circleMarker(\n",
       "                [46.21594, -122.22971],\n",
       "                {&quot;bubblingMouseEvents&quot;: true, &quot;color&quot;: &quot;blue&quot;, &quot;dashArray&quot;: null, &quot;dashOffset&quot;: null, &quot;fill&quot;: true, &quot;fillColor&quot;: &quot;blue&quot;, &quot;fillOpacity&quot;: 0.01, &quot;fillRule&quot;: &quot;evenodd&quot;, &quot;lineCap&quot;: &quot;round&quot;, &quot;lineJoin&quot;: &quot;round&quot;, &quot;opacity&quot;: 1.0, &quot;radius&quot;: 10.0, &quot;stroke&quot;: true, &quot;weight&quot;: 3}\n",
       "            ).addTo(map_4aa7168e12f739e6cf27b55356e590e0);\n",
       "        \n",
       "    \n",
       "        var popup_68f634dd554a53bfb23055e0bd063114 = L.popup({&quot;maxWidth&quot;: &quot;100%&quot;});\n",
       "\n",
       "        \n",
       "            \n",
       "                var html_4461c309e64f837c8e56ea7b515afe9e = $(`&lt;div id=&quot;html_4461c309e64f837c8e56ea7b515afe9e&quot; style=&quot;width: 100.0%; height: 100.0%;&quot;&gt;TORD06&lt;/div&gt;`)[0];\n",
       "                popup_68f634dd554a53bfb23055e0bd063114.setContent(html_4461c309e64f837c8e56ea7b515afe9e);\n",
       "            \n",
       "        \n",
       "\n",
       "        circle_marker_e45a1a6d033300fbd1bcbb029b16a00c.bindPopup(popup_68f634dd554a53bfb23055e0bd063114)\n",
       "        ;\n",
       "\n",
       "        \n",
       "    \n",
       "    \n",
       "            var circle_marker_fd3149117a08f94de61d278c9acb7832 = L.circleMarker(\n",
       "                [46.21628, -122.23062],\n",
       "                {&quot;bubblingMouseEvents&quot;: true, &quot;color&quot;: &quot;blue&quot;, &quot;dashArray&quot;: null, &quot;dashOffset&quot;: null, &quot;fill&quot;: true, &quot;fillColor&quot;: &quot;blue&quot;, &quot;fillOpacity&quot;: 0.01, &quot;fillRule&quot;: &quot;evenodd&quot;, &quot;lineCap&quot;: &quot;round&quot;, &quot;lineJoin&quot;: &quot;round&quot;, &quot;opacity&quot;: 1.0, &quot;radius&quot;: 10.0, &quot;stroke&quot;: true, &quot;weight&quot;: 3}\n",
       "            ).addTo(map_4aa7168e12f739e6cf27b55356e590e0);\n",
       "        \n",
       "    \n",
       "        var popup_cb9e7083c4a7266b9224912e087015b4 = L.popup({&quot;maxWidth&quot;: &quot;100%&quot;});\n",
       "\n",
       "        \n",
       "            \n",
       "                var html_eed94249d4888c76ed065afa98f6158d = $(`&lt;div id=&quot;html_eed94249d4888c76ed065afa98f6158d&quot; style=&quot;width: 100.0%; height: 100.0%;&quot;&gt;TORD05&lt;/div&gt;`)[0];\n",
       "                popup_cb9e7083c4a7266b9224912e087015b4.setContent(html_eed94249d4888c76ed065afa98f6158d);\n",
       "            \n",
       "        \n",
       "\n",
       "        circle_marker_fd3149117a08f94de61d278c9acb7832.bindPopup(popup_cb9e7083c4a7266b9224912e087015b4)\n",
       "        ;\n",
       "\n",
       "        \n",
       "    \n",
       "    \n",
       "            var circle_marker_37256c62f29170f62e45e6ee9c091c64 = L.circleMarker(\n",
       "                [46.18712, -122.23185],\n",
       "                {&quot;bubblingMouseEvents&quot;: true, &quot;color&quot;: &quot;blue&quot;, &quot;dashArray&quot;: null, &quot;dashOffset&quot;: null, &quot;fill&quot;: true, &quot;fillColor&quot;: &quot;blue&quot;, &quot;fillOpacity&quot;: 0.01, &quot;fillRule&quot;: &quot;evenodd&quot;, &quot;lineCap&quot;: &quot;round&quot;, &quot;lineJoin&quot;: &quot;round&quot;, &quot;opacity&quot;: 1.0, &quot;radius&quot;: 10.0, &quot;stroke&quot;: true, &quot;weight&quot;: 3}\n",
       "            ).addTo(map_4aa7168e12f739e6cf27b55356e590e0);\n",
       "        \n",
       "    \n",
       "        var popup_b3309f4eed9c775fd69aeeb775f9706c = L.popup({&quot;maxWidth&quot;: &quot;100%&quot;});\n",
       "\n",
       "        \n",
       "            \n",
       "                var html_79f2f318241fd7da3da83177ac4a18e0 = $(`&lt;div id=&quot;html_79f2f318241fd7da3da83177ac4a18e0&quot; style=&quot;width: 100.0%; height: 100.0%;&quot;&gt;TORD04&lt;/div&gt;`)[0];\n",
       "                popup_b3309f4eed9c775fd69aeeb775f9706c.setContent(html_79f2f318241fd7da3da83177ac4a18e0);\n",
       "            \n",
       "        \n",
       "\n",
       "        circle_marker_37256c62f29170f62e45e6ee9c091c64.bindPopup(popup_b3309f4eed9c775fd69aeeb775f9706c)\n",
       "        ;\n",
       "\n",
       "        \n",
       "    \n",
       "    \n",
       "            var circle_marker_36f9ef08d3edf9aa2c3ae3ada4ccc190 = L.circleMarker(\n",
       "                [46.21734, -122.23196],\n",
       "                {&quot;bubblingMouseEvents&quot;: true, &quot;color&quot;: &quot;blue&quot;, &quot;dashArray&quot;: null, &quot;dashOffset&quot;: null, &quot;fill&quot;: true, &quot;fillColor&quot;: &quot;blue&quot;, &quot;fillOpacity&quot;: 0.01, &quot;fillRule&quot;: &quot;evenodd&quot;, &quot;lineCap&quot;: &quot;round&quot;, &quot;lineJoin&quot;: &quot;round&quot;, &quot;opacity&quot;: 1.0, &quot;radius&quot;: 10.0, &quot;stroke&quot;: true, &quot;weight&quot;: 3}\n",
       "            ).addTo(map_4aa7168e12f739e6cf27b55356e590e0);\n",
       "        \n",
       "    \n",
       "        var popup_be950fa8708222d3c54fcae835cc52c1 = L.popup({&quot;maxWidth&quot;: &quot;100%&quot;});\n",
       "\n",
       "        \n",
       "            \n",
       "                var html_578b043c63c2b4dd1f12776ba7b5fb58 = $(`&lt;div id=&quot;html_578b043c63c2b4dd1f12776ba7b5fb58&quot; style=&quot;width: 100.0%; height: 100.0%;&quot;&gt;TORD03&lt;/div&gt;`)[0];\n",
       "                popup_be950fa8708222d3c54fcae835cc52c1.setContent(html_578b043c63c2b4dd1f12776ba7b5fb58);\n",
       "            \n",
       "        \n",
       "\n",
       "        circle_marker_36f9ef08d3edf9aa2c3ae3ada4ccc190.bindPopup(popup_be950fa8708222d3c54fcae835cc52c1)\n",
       "        ;\n",
       "\n",
       "        \n",
       "    \n",
       "    \n",
       "            var circle_marker_292dff39f12cbd46308490790dd741fb = L.circleMarker(\n",
       "                [46.21733, -122.23386],\n",
       "                {&quot;bubblingMouseEvents&quot;: true, &quot;color&quot;: &quot;blue&quot;, &quot;dashArray&quot;: null, &quot;dashOffset&quot;: null, &quot;fill&quot;: true, &quot;fillColor&quot;: &quot;blue&quot;, &quot;fillOpacity&quot;: 0.01, &quot;fillRule&quot;: &quot;evenodd&quot;, &quot;lineCap&quot;: &quot;round&quot;, &quot;lineJoin&quot;: &quot;round&quot;, &quot;opacity&quot;: 1.0, &quot;radius&quot;: 10.0, &quot;stroke&quot;: true, &quot;weight&quot;: 3}\n",
       "            ).addTo(map_4aa7168e12f739e6cf27b55356e590e0);\n",
       "        \n",
       "    \n",
       "        var popup_ff65635be0c92a0ffc3f465286a415b0 = L.popup({&quot;maxWidth&quot;: &quot;100%&quot;});\n",
       "\n",
       "        \n",
       "            \n",
       "                var html_48020bd69945f6a733368e97df1aa6f4 = $(`&lt;div id=&quot;html_48020bd69945f6a733368e97df1aa6f4&quot; style=&quot;width: 100.0%; height: 100.0%;&quot;&gt;TORD02&lt;/div&gt;`)[0];\n",
       "                popup_ff65635be0c92a0ffc3f465286a415b0.setContent(html_48020bd69945f6a733368e97df1aa6f4);\n",
       "            \n",
       "        \n",
       "\n",
       "        circle_marker_292dff39f12cbd46308490790dd741fb.bindPopup(popup_ff65635be0c92a0ffc3f465286a415b0)\n",
       "        ;\n",
       "\n",
       "        \n",
       "    \n",
       "    \n",
       "            var circle_marker_07913808560ecde0f4c141d794d19524 = L.circleMarker(\n",
       "                [46.21814, -122.23514],\n",
       "                {&quot;bubblingMouseEvents&quot;: true, &quot;color&quot;: &quot;blue&quot;, &quot;dashArray&quot;: null, &quot;dashOffset&quot;: null, &quot;fill&quot;: true, &quot;fillColor&quot;: &quot;blue&quot;, &quot;fillOpacity&quot;: 0.01, &quot;fillRule&quot;: &quot;evenodd&quot;, &quot;lineCap&quot;: &quot;round&quot;, &quot;lineJoin&quot;: &quot;round&quot;, &quot;opacity&quot;: 1.0, &quot;radius&quot;: 10.0, &quot;stroke&quot;: true, &quot;weight&quot;: 3}\n",
       "            ).addTo(map_4aa7168e12f739e6cf27b55356e590e0);\n",
       "        \n",
       "    \n",
       "        var popup_580bb91e30216e59e523bab5d92df2e8 = L.popup({&quot;maxWidth&quot;: &quot;100%&quot;});\n",
       "\n",
       "        \n",
       "            \n",
       "                var html_b6ec937c619ffad64fc21c744e68c940 = $(`&lt;div id=&quot;html_b6ec937c619ffad64fc21c744e68c940&quot; style=&quot;width: 100.0%; height: 100.0%;&quot;&gt;TORD01&lt;/div&gt;`)[0];\n",
       "                popup_580bb91e30216e59e523bab5d92df2e8.setContent(html_b6ec937c619ffad64fc21c744e68c940);\n",
       "            \n",
       "        \n",
       "\n",
       "        circle_marker_07913808560ecde0f4c141d794d19524.bindPopup(popup_580bb91e30216e59e523bab5d92df2e8)\n",
       "        ;\n",
       "\n",
       "        \n",
       "    \n",
       "    \n",
       "            var circle_marker_dee9fcb0f2ca06752ae069e953b41d37 = L.circleMarker(\n",
       "                [46.22623, -122.19399],\n",
       "                {&quot;bubblingMouseEvents&quot;: true, &quot;color&quot;: &quot;blue&quot;, &quot;dashArray&quot;: null, &quot;dashOffset&quot;: null, &quot;fill&quot;: true, &quot;fillColor&quot;: &quot;blue&quot;, &quot;fillOpacity&quot;: 0.01, &quot;fillRule&quot;: &quot;evenodd&quot;, &quot;lineCap&quot;: &quot;round&quot;, &quot;lineJoin&quot;: &quot;round&quot;, &quot;opacity&quot;: 1.0, &quot;radius&quot;: 10.0, &quot;stroke&quot;: true, &quot;weight&quot;: 3}\n",
       "            ).addTo(map_4aa7168e12f739e6cf27b55356e590e0);\n",
       "        \n",
       "    \n",
       "        var popup_53f261ad56dd38e4906604cdb7ffa057 = L.popup({&quot;maxWidth&quot;: &quot;100%&quot;});\n",
       "\n",
       "        \n",
       "            \n",
       "                var html_1a043668e375a3f768e0f19c60477040 = $(`&lt;div id=&quot;html_1a043668e375a3f768e0f19c60477040&quot; style=&quot;width: 100.0%; height: 100.0%;&quot;&gt;STRD20&lt;/div&gt;`)[0];\n",
       "                popup_53f261ad56dd38e4906604cdb7ffa057.setContent(html_1a043668e375a3f768e0f19c60477040);\n",
       "            \n",
       "        \n",
       "\n",
       "        circle_marker_dee9fcb0f2ca06752ae069e953b41d37.bindPopup(popup_53f261ad56dd38e4906604cdb7ffa057)\n",
       "        ;\n",
       "\n",
       "        \n",
       "    \n",
       "    \n",
       "            var circle_marker_6c801d5cce10d6c459badcb36b330f64 = L.circleMarker(\n",
       "                [46.22674, -122.19403],\n",
       "                {&quot;bubblingMouseEvents&quot;: true, &quot;color&quot;: &quot;blue&quot;, &quot;dashArray&quot;: null, &quot;dashOffset&quot;: null, &quot;fill&quot;: true, &quot;fillColor&quot;: &quot;blue&quot;, &quot;fillOpacity&quot;: 0.01, &quot;fillRule&quot;: &quot;evenodd&quot;, &quot;lineCap&quot;: &quot;round&quot;, &quot;lineJoin&quot;: &quot;round&quot;, &quot;opacity&quot;: 1.0, &quot;radius&quot;: 10.0, &quot;stroke&quot;: true, &quot;weight&quot;: 3}\n",
       "            ).addTo(map_4aa7168e12f739e6cf27b55356e590e0);\n",
       "        \n",
       "    \n",
       "        var popup_90576bdd97288f070aa81408a5946d55 = L.popup({&quot;maxWidth&quot;: &quot;100%&quot;});\n",
       "\n",
       "        \n",
       "            \n",
       "                var html_69871951c90c41fa4ee433201dfb0cf4 = $(`&lt;div id=&quot;html_69871951c90c41fa4ee433201dfb0cf4&quot; style=&quot;width: 100.0%; height: 100.0%;&quot;&gt;STRD19&lt;/div&gt;`)[0];\n",
       "                popup_90576bdd97288f070aa81408a5946d55.setContent(html_69871951c90c41fa4ee433201dfb0cf4);\n",
       "            \n",
       "        \n",
       "\n",
       "        circle_marker_6c801d5cce10d6c459badcb36b330f64.bindPopup(popup_90576bdd97288f070aa81408a5946d55)\n",
       "        ;\n",
       "\n",
       "        \n",
       "    \n",
       "    \n",
       "            var circle_marker_a60a568d35777fcc19a990eaf5f2dc4b = L.circleMarker(\n",
       "                [46.22718, -122.19395],\n",
       "                {&quot;bubblingMouseEvents&quot;: true, &quot;color&quot;: &quot;blue&quot;, &quot;dashArray&quot;: null, &quot;dashOffset&quot;: null, &quot;fill&quot;: true, &quot;fillColor&quot;: &quot;blue&quot;, &quot;fillOpacity&quot;: 0.01, &quot;fillRule&quot;: &quot;evenodd&quot;, &quot;lineCap&quot;: &quot;round&quot;, &quot;lineJoin&quot;: &quot;round&quot;, &quot;opacity&quot;: 1.0, &quot;radius&quot;: 10.0, &quot;stroke&quot;: true, &quot;weight&quot;: 3}\n",
       "            ).addTo(map_4aa7168e12f739e6cf27b55356e590e0);\n",
       "        \n",
       "    \n",
       "        var popup_15d002a986ba98c29670d69e34c4b835 = L.popup({&quot;maxWidth&quot;: &quot;100%&quot;});\n",
       "\n",
       "        \n",
       "            \n",
       "                var html_5093e884f9631036c471e3bd50f89b58 = $(`&lt;div id=&quot;html_5093e884f9631036c471e3bd50f89b58&quot; style=&quot;width: 100.0%; height: 100.0%;&quot;&gt;STRD18&lt;/div&gt;`)[0];\n",
       "                popup_15d002a986ba98c29670d69e34c4b835.setContent(html_5093e884f9631036c471e3bd50f89b58);\n",
       "            \n",
       "        \n",
       "\n",
       "        circle_marker_a60a568d35777fcc19a990eaf5f2dc4b.bindPopup(popup_15d002a986ba98c29670d69e34c4b835)\n",
       "        ;\n",
       "\n",
       "        \n",
       "    \n",
       "    \n",
       "            var circle_marker_bf708e0a2e512d446476f44ec3e5c514 = L.circleMarker(\n",
       "                [46.22766, -122.19405],\n",
       "                {&quot;bubblingMouseEvents&quot;: true, &quot;color&quot;: &quot;blue&quot;, &quot;dashArray&quot;: null, &quot;dashOffset&quot;: null, &quot;fill&quot;: true, &quot;fillColor&quot;: &quot;blue&quot;, &quot;fillOpacity&quot;: 0.01, &quot;fillRule&quot;: &quot;evenodd&quot;, &quot;lineCap&quot;: &quot;round&quot;, &quot;lineJoin&quot;: &quot;round&quot;, &quot;opacity&quot;: 1.0, &quot;radius&quot;: 10.0, &quot;stroke&quot;: true, &quot;weight&quot;: 3}\n",
       "            ).addTo(map_4aa7168e12f739e6cf27b55356e590e0);\n",
       "        \n",
       "    \n",
       "        var popup_5952b0de49233041ff8e7d217f8f6c7b = L.popup({&quot;maxWidth&quot;: &quot;100%&quot;});\n",
       "\n",
       "        \n",
       "            \n",
       "                var html_b5f0c3f62a5bd35e74b5410637efb60e = $(`&lt;div id=&quot;html_b5f0c3f62a5bd35e74b5410637efb60e&quot; style=&quot;width: 100.0%; height: 100.0%;&quot;&gt;STRD17&lt;/div&gt;`)[0];\n",
       "                popup_5952b0de49233041ff8e7d217f8f6c7b.setContent(html_b5f0c3f62a5bd35e74b5410637efb60e);\n",
       "            \n",
       "        \n",
       "\n",
       "        circle_marker_bf708e0a2e512d446476f44ec3e5c514.bindPopup(popup_5952b0de49233041ff8e7d217f8f6c7b)\n",
       "        ;\n",
       "\n",
       "        \n",
       "    \n",
       "    \n",
       "            var circle_marker_6154dc3eb4f76d1df1fd4893f4b70ebd = L.circleMarker(\n",
       "                [46.22807, -122.19417],\n",
       "                {&quot;bubblingMouseEvents&quot;: true, &quot;color&quot;: &quot;blue&quot;, &quot;dashArray&quot;: null, &quot;dashOffset&quot;: null, &quot;fill&quot;: true, &quot;fillColor&quot;: &quot;blue&quot;, &quot;fillOpacity&quot;: 0.01, &quot;fillRule&quot;: &quot;evenodd&quot;, &quot;lineCap&quot;: &quot;round&quot;, &quot;lineJoin&quot;: &quot;round&quot;, &quot;opacity&quot;: 1.0, &quot;radius&quot;: 10.0, &quot;stroke&quot;: true, &quot;weight&quot;: 3}\n",
       "            ).addTo(map_4aa7168e12f739e6cf27b55356e590e0);\n",
       "        \n",
       "    \n",
       "        var popup_3a1ff176e5ad2477c724a1575958356a = L.popup({&quot;maxWidth&quot;: &quot;100%&quot;});\n",
       "\n",
       "        \n",
       "            \n",
       "                var html_029de9c0eea37c2c5df9f75ec4f01b60 = $(`&lt;div id=&quot;html_029de9c0eea37c2c5df9f75ec4f01b60&quot; style=&quot;width: 100.0%; height: 100.0%;&quot;&gt;STRD16&lt;/div&gt;`)[0];\n",
       "                popup_3a1ff176e5ad2477c724a1575958356a.setContent(html_029de9c0eea37c2c5df9f75ec4f01b60);\n",
       "            \n",
       "        \n",
       "\n",
       "        circle_marker_6154dc3eb4f76d1df1fd4893f4b70ebd.bindPopup(popup_3a1ff176e5ad2477c724a1575958356a)\n",
       "        ;\n",
       "\n",
       "        \n",
       "    \n",
       "    \n",
       "            var circle_marker_6df085571b4613e07a5803835c8b4b14 = L.circleMarker(\n",
       "                [46.22843, -122.19422],\n",
       "                {&quot;bubblingMouseEvents&quot;: true, &quot;color&quot;: &quot;blue&quot;, &quot;dashArray&quot;: null, &quot;dashOffset&quot;: null, &quot;fill&quot;: true, &quot;fillColor&quot;: &quot;blue&quot;, &quot;fillOpacity&quot;: 0.01, &quot;fillRule&quot;: &quot;evenodd&quot;, &quot;lineCap&quot;: &quot;round&quot;, &quot;lineJoin&quot;: &quot;round&quot;, &quot;opacity&quot;: 1.0, &quot;radius&quot;: 10.0, &quot;stroke&quot;: true, &quot;weight&quot;: 3}\n",
       "            ).addTo(map_4aa7168e12f739e6cf27b55356e590e0);\n",
       "        \n",
       "    \n",
       "        var popup_2774c1d6e36437dfa867920689c9fb1d = L.popup({&quot;maxWidth&quot;: &quot;100%&quot;});\n",
       "\n",
       "        \n",
       "            \n",
       "                var html_cddbe2a3b380891a243a6735cba72f92 = $(`&lt;div id=&quot;html_cddbe2a3b380891a243a6735cba72f92&quot; style=&quot;width: 100.0%; height: 100.0%;&quot;&gt;STRD15&lt;/div&gt;`)[0];\n",
       "                popup_2774c1d6e36437dfa867920689c9fb1d.setContent(html_cddbe2a3b380891a243a6735cba72f92);\n",
       "            \n",
       "        \n",
       "\n",
       "        circle_marker_6df085571b4613e07a5803835c8b4b14.bindPopup(popup_2774c1d6e36437dfa867920689c9fb1d)\n",
       "        ;\n",
       "\n",
       "        \n",
       "    \n",
       "    \n",
       "            var circle_marker_cf944f739b9a379419bc16b62b8c2614 = L.circleMarker(\n",
       "                [46.22896, -122.19429],\n",
       "                {&quot;bubblingMouseEvents&quot;: true, &quot;color&quot;: &quot;blue&quot;, &quot;dashArray&quot;: null, &quot;dashOffset&quot;: null, &quot;fill&quot;: true, &quot;fillColor&quot;: &quot;blue&quot;, &quot;fillOpacity&quot;: 0.01, &quot;fillRule&quot;: &quot;evenodd&quot;, &quot;lineCap&quot;: &quot;round&quot;, &quot;lineJoin&quot;: &quot;round&quot;, &quot;opacity&quot;: 1.0, &quot;radius&quot;: 10.0, &quot;stroke&quot;: true, &quot;weight&quot;: 3}\n",
       "            ).addTo(map_4aa7168e12f739e6cf27b55356e590e0);\n",
       "        \n",
       "    \n",
       "        var popup_d5aa44eb94f82056997416fd9510f5de = L.popup({&quot;maxWidth&quot;: &quot;100%&quot;});\n",
       "\n",
       "        \n",
       "            \n",
       "                var html_2503caf3577f315d5755de048e54bbfd = $(`&lt;div id=&quot;html_2503caf3577f315d5755de048e54bbfd&quot; style=&quot;width: 100.0%; height: 100.0%;&quot;&gt;STRD14&lt;/div&gt;`)[0];\n",
       "                popup_d5aa44eb94f82056997416fd9510f5de.setContent(html_2503caf3577f315d5755de048e54bbfd);\n",
       "            \n",
       "        \n",
       "\n",
       "        circle_marker_cf944f739b9a379419bc16b62b8c2614.bindPopup(popup_d5aa44eb94f82056997416fd9510f5de)\n",
       "        ;\n",
       "\n",
       "        \n",
       "    \n",
       "    \n",
       "            var circle_marker_a0a4011bef386fc96fcc5e193cd1460a = L.circleMarker(\n",
       "                [46.22939, -122.19436],\n",
       "                {&quot;bubblingMouseEvents&quot;: true, &quot;color&quot;: &quot;blue&quot;, &quot;dashArray&quot;: null, &quot;dashOffset&quot;: null, &quot;fill&quot;: true, &quot;fillColor&quot;: &quot;blue&quot;, &quot;fillOpacity&quot;: 0.01, &quot;fillRule&quot;: &quot;evenodd&quot;, &quot;lineCap&quot;: &quot;round&quot;, &quot;lineJoin&quot;: &quot;round&quot;, &quot;opacity&quot;: 1.0, &quot;radius&quot;: 10.0, &quot;stroke&quot;: true, &quot;weight&quot;: 3}\n",
       "            ).addTo(map_4aa7168e12f739e6cf27b55356e590e0);\n",
       "        \n",
       "    \n",
       "        var popup_ab3ee45ef9957b1758275981cc8fb08c = L.popup({&quot;maxWidth&quot;: &quot;100%&quot;});\n",
       "\n",
       "        \n",
       "            \n",
       "                var html_ebc5447f65c91bfa9e3742d0af88babe = $(`&lt;div id=&quot;html_ebc5447f65c91bfa9e3742d0af88babe&quot; style=&quot;width: 100.0%; height: 100.0%;&quot;&gt;STRD13&lt;/div&gt;`)[0];\n",
       "                popup_ab3ee45ef9957b1758275981cc8fb08c.setContent(html_ebc5447f65c91bfa9e3742d0af88babe);\n",
       "            \n",
       "        \n",
       "\n",
       "        circle_marker_a0a4011bef386fc96fcc5e193cd1460a.bindPopup(popup_ab3ee45ef9957b1758275981cc8fb08c)\n",
       "        ;\n",
       "\n",
       "        \n",
       "    \n",
       "    \n",
       "            var circle_marker_e349894477fde9b67db1ff2b5065873c = L.circleMarker(\n",
       "                [46.22983, -122.19447],\n",
       "                {&quot;bubblingMouseEvents&quot;: true, &quot;color&quot;: &quot;blue&quot;, &quot;dashArray&quot;: null, &quot;dashOffset&quot;: null, &quot;fill&quot;: true, &quot;fillColor&quot;: &quot;blue&quot;, &quot;fillOpacity&quot;: 0.01, &quot;fillRule&quot;: &quot;evenodd&quot;, &quot;lineCap&quot;: &quot;round&quot;, &quot;lineJoin&quot;: &quot;round&quot;, &quot;opacity&quot;: 1.0, &quot;radius&quot;: 10.0, &quot;stroke&quot;: true, &quot;weight&quot;: 3}\n",
       "            ).addTo(map_4aa7168e12f739e6cf27b55356e590e0);\n",
       "        \n",
       "    \n",
       "        var popup_4d57fe19c78e6fa85da7249f01115dc4 = L.popup({&quot;maxWidth&quot;: &quot;100%&quot;});\n",
       "\n",
       "        \n",
       "            \n",
       "                var html_e56a4610399c37052979bcc2d5262d19 = $(`&lt;div id=&quot;html_e56a4610399c37052979bcc2d5262d19&quot; style=&quot;width: 100.0%; height: 100.0%;&quot;&gt;STRD12&lt;/div&gt;`)[0];\n",
       "                popup_4d57fe19c78e6fa85da7249f01115dc4.setContent(html_e56a4610399c37052979bcc2d5262d19);\n",
       "            \n",
       "        \n",
       "\n",
       "        circle_marker_e349894477fde9b67db1ff2b5065873c.bindPopup(popup_4d57fe19c78e6fa85da7249f01115dc4)\n",
       "        ;\n",
       "\n",
       "        \n",
       "    \n",
       "    \n",
       "            var circle_marker_972e29687476029bb625a828ff45a1de = L.circleMarker(\n",
       "                [46.23023, -122.19461],\n",
       "                {&quot;bubblingMouseEvents&quot;: true, &quot;color&quot;: &quot;blue&quot;, &quot;dashArray&quot;: null, &quot;dashOffset&quot;: null, &quot;fill&quot;: true, &quot;fillColor&quot;: &quot;blue&quot;, &quot;fillOpacity&quot;: 0.01, &quot;fillRule&quot;: &quot;evenodd&quot;, &quot;lineCap&quot;: &quot;round&quot;, &quot;lineJoin&quot;: &quot;round&quot;, &quot;opacity&quot;: 1.0, &quot;radius&quot;: 10.0, &quot;stroke&quot;: true, &quot;weight&quot;: 3}\n",
       "            ).addTo(map_4aa7168e12f739e6cf27b55356e590e0);\n",
       "        \n",
       "    \n",
       "        var popup_63d6d35ac404d7a9eda5a2ba21909c45 = L.popup({&quot;maxWidth&quot;: &quot;100%&quot;});\n",
       "\n",
       "        \n",
       "            \n",
       "                var html_f6a4aa02e591cd6f82ac8ee137929151 = $(`&lt;div id=&quot;html_f6a4aa02e591cd6f82ac8ee137929151&quot; style=&quot;width: 100.0%; height: 100.0%;&quot;&gt;STRD11&lt;/div&gt;`)[0];\n",
       "                popup_63d6d35ac404d7a9eda5a2ba21909c45.setContent(html_f6a4aa02e591cd6f82ac8ee137929151);\n",
       "            \n",
       "        \n",
       "\n",
       "        circle_marker_972e29687476029bb625a828ff45a1de.bindPopup(popup_63d6d35ac404d7a9eda5a2ba21909c45)\n",
       "        ;\n",
       "\n",
       "        \n",
       "    \n",
       "    \n",
       "            var circle_marker_b3c577a77fa3aaa28e4aa910d56fa5d1 = L.circleMarker(\n",
       "                [46.2307, -122.19471],\n",
       "                {&quot;bubblingMouseEvents&quot;: true, &quot;color&quot;: &quot;blue&quot;, &quot;dashArray&quot;: null, &quot;dashOffset&quot;: null, &quot;fill&quot;: true, &quot;fillColor&quot;: &quot;blue&quot;, &quot;fillOpacity&quot;: 0.01, &quot;fillRule&quot;: &quot;evenodd&quot;, &quot;lineCap&quot;: &quot;round&quot;, &quot;lineJoin&quot;: &quot;round&quot;, &quot;opacity&quot;: 1.0, &quot;radius&quot;: 10.0, &quot;stroke&quot;: true, &quot;weight&quot;: 3}\n",
       "            ).addTo(map_4aa7168e12f739e6cf27b55356e590e0);\n",
       "        \n",
       "    \n",
       "        var popup_7c7d983a068d3f3806261a74c48aa26c = L.popup({&quot;maxWidth&quot;: &quot;100%&quot;});\n",
       "\n",
       "        \n",
       "            \n",
       "                var html_6d55345abdbf7aa53f583e38cbaf8cb9 = $(`&lt;div id=&quot;html_6d55345abdbf7aa53f583e38cbaf8cb9&quot; style=&quot;width: 100.0%; height: 100.0%;&quot;&gt;STRD10&lt;/div&gt;`)[0];\n",
       "                popup_7c7d983a068d3f3806261a74c48aa26c.setContent(html_6d55345abdbf7aa53f583e38cbaf8cb9);\n",
       "            \n",
       "        \n",
       "\n",
       "        circle_marker_b3c577a77fa3aaa28e4aa910d56fa5d1.bindPopup(popup_7c7d983a068d3f3806261a74c48aa26c)\n",
       "        ;\n",
       "\n",
       "        \n",
       "    \n",
       "    \n",
       "            var circle_marker_cc0220f5d18d3ea00c6764d2bb8d95b7 = L.circleMarker(\n",
       "                [46.23111, -122.19481],\n",
       "                {&quot;bubblingMouseEvents&quot;: true, &quot;color&quot;: &quot;blue&quot;, &quot;dashArray&quot;: null, &quot;dashOffset&quot;: null, &quot;fill&quot;: true, &quot;fillColor&quot;: &quot;blue&quot;, &quot;fillOpacity&quot;: 0.01, &quot;fillRule&quot;: &quot;evenodd&quot;, &quot;lineCap&quot;: &quot;round&quot;, &quot;lineJoin&quot;: &quot;round&quot;, &quot;opacity&quot;: 1.0, &quot;radius&quot;: 10.0, &quot;stroke&quot;: true, &quot;weight&quot;: 3}\n",
       "            ).addTo(map_4aa7168e12f739e6cf27b55356e590e0);\n",
       "        \n",
       "    \n",
       "        var popup_3fb1ad443324bd98bcc6188549fb4daa = L.popup({&quot;maxWidth&quot;: &quot;100%&quot;});\n",
       "\n",
       "        \n",
       "            \n",
       "                var html_0a12795ba885719c8a27ce90bed8cf6c = $(`&lt;div id=&quot;html_0a12795ba885719c8a27ce90bed8cf6c&quot; style=&quot;width: 100.0%; height: 100.0%;&quot;&gt;STRD09&lt;/div&gt;`)[0];\n",
       "                popup_3fb1ad443324bd98bcc6188549fb4daa.setContent(html_0a12795ba885719c8a27ce90bed8cf6c);\n",
       "            \n",
       "        \n",
       "\n",
       "        circle_marker_cc0220f5d18d3ea00c6764d2bb8d95b7.bindPopup(popup_3fb1ad443324bd98bcc6188549fb4daa)\n",
       "        ;\n",
       "\n",
       "        \n",
       "    \n",
       "    \n",
       "            var circle_marker_7b004b56efc2b3b8fa30d41803040549 = L.circleMarker(\n",
       "                [46.23162, -122.19481],\n",
       "                {&quot;bubblingMouseEvents&quot;: true, &quot;color&quot;: &quot;blue&quot;, &quot;dashArray&quot;: null, &quot;dashOffset&quot;: null, &quot;fill&quot;: true, &quot;fillColor&quot;: &quot;blue&quot;, &quot;fillOpacity&quot;: 0.01, &quot;fillRule&quot;: &quot;evenodd&quot;, &quot;lineCap&quot;: &quot;round&quot;, &quot;lineJoin&quot;: &quot;round&quot;, &quot;opacity&quot;: 1.0, &quot;radius&quot;: 10.0, &quot;stroke&quot;: true, &quot;weight&quot;: 3}\n",
       "            ).addTo(map_4aa7168e12f739e6cf27b55356e590e0);\n",
       "        \n",
       "    \n",
       "        var popup_93aeb9eaa138e22c63f5ed151e0739d8 = L.popup({&quot;maxWidth&quot;: &quot;100%&quot;});\n",
       "\n",
       "        \n",
       "            \n",
       "                var html_bcd6ab6fceb64f2168c952de41c97db1 = $(`&lt;div id=&quot;html_bcd6ab6fceb64f2168c952de41c97db1&quot; style=&quot;width: 100.0%; height: 100.0%;&quot;&gt;STRD08&lt;/div&gt;`)[0];\n",
       "                popup_93aeb9eaa138e22c63f5ed151e0739d8.setContent(html_bcd6ab6fceb64f2168c952de41c97db1);\n",
       "            \n",
       "        \n",
       "\n",
       "        circle_marker_7b004b56efc2b3b8fa30d41803040549.bindPopup(popup_93aeb9eaa138e22c63f5ed151e0739d8)\n",
       "        ;\n",
       "\n",
       "        \n",
       "    \n",
       "    \n",
       "            var circle_marker_409e978486ddc43b76fa57e4fc4558d3 = L.circleMarker(\n",
       "                [46.23203, -122.19469],\n",
       "                {&quot;bubblingMouseEvents&quot;: true, &quot;color&quot;: &quot;blue&quot;, &quot;dashArray&quot;: null, &quot;dashOffset&quot;: null, &quot;fill&quot;: true, &quot;fillColor&quot;: &quot;blue&quot;, &quot;fillOpacity&quot;: 0.01, &quot;fillRule&quot;: &quot;evenodd&quot;, &quot;lineCap&quot;: &quot;round&quot;, &quot;lineJoin&quot;: &quot;round&quot;, &quot;opacity&quot;: 1.0, &quot;radius&quot;: 10.0, &quot;stroke&quot;: true, &quot;weight&quot;: 3}\n",
       "            ).addTo(map_4aa7168e12f739e6cf27b55356e590e0);\n",
       "        \n",
       "    \n",
       "        var popup_1134037e00d373e10f903180a1dfb0f2 = L.popup({&quot;maxWidth&quot;: &quot;100%&quot;});\n",
       "\n",
       "        \n",
       "            \n",
       "                var html_730c7191ea724d032fe1e2572bf25498 = $(`&lt;div id=&quot;html_730c7191ea724d032fe1e2572bf25498&quot; style=&quot;width: 100.0%; height: 100.0%;&quot;&gt;STRD07&lt;/div&gt;`)[0];\n",
       "                popup_1134037e00d373e10f903180a1dfb0f2.setContent(html_730c7191ea724d032fe1e2572bf25498);\n",
       "            \n",
       "        \n",
       "\n",
       "        circle_marker_409e978486ddc43b76fa57e4fc4558d3.bindPopup(popup_1134037e00d373e10f903180a1dfb0f2)\n",
       "        ;\n",
       "\n",
       "        \n",
       "    \n",
       "    \n",
       "            var circle_marker_e43dedb0ee4add73ca35c9ef9aac7dc3 = L.circleMarker(\n",
       "                [46.23249, -122.19469],\n",
       "                {&quot;bubblingMouseEvents&quot;: true, &quot;color&quot;: &quot;blue&quot;, &quot;dashArray&quot;: null, &quot;dashOffset&quot;: null, &quot;fill&quot;: true, &quot;fillColor&quot;: &quot;blue&quot;, &quot;fillOpacity&quot;: 0.01, &quot;fillRule&quot;: &quot;evenodd&quot;, &quot;lineCap&quot;: &quot;round&quot;, &quot;lineJoin&quot;: &quot;round&quot;, &quot;opacity&quot;: 1.0, &quot;radius&quot;: 10.0, &quot;stroke&quot;: true, &quot;weight&quot;: 3}\n",
       "            ).addTo(map_4aa7168e12f739e6cf27b55356e590e0);\n",
       "        \n",
       "    \n",
       "        var popup_1386919d84d70b820adbe58d2d64c04d = L.popup({&quot;maxWidth&quot;: &quot;100%&quot;});\n",
       "\n",
       "        \n",
       "            \n",
       "                var html_54fb178489a179eea7f1b61d06bfb510 = $(`&lt;div id=&quot;html_54fb178489a179eea7f1b61d06bfb510&quot; style=&quot;width: 100.0%; height: 100.0%;&quot;&gt;STRD06&lt;/div&gt;`)[0];\n",
       "                popup_1386919d84d70b820adbe58d2d64c04d.setContent(html_54fb178489a179eea7f1b61d06bfb510);\n",
       "            \n",
       "        \n",
       "\n",
       "        circle_marker_e43dedb0ee4add73ca35c9ef9aac7dc3.bindPopup(popup_1386919d84d70b820adbe58d2d64c04d)\n",
       "        ;\n",
       "\n",
       "        \n",
       "    \n",
       "    \n",
       "            var circle_marker_5b9904b469652cb5c053ccb60c379ef8 = L.circleMarker(\n",
       "                [46.23291, -122.19484],\n",
       "                {&quot;bubblingMouseEvents&quot;: true, &quot;color&quot;: &quot;blue&quot;, &quot;dashArray&quot;: null, &quot;dashOffset&quot;: null, &quot;fill&quot;: true, &quot;fillColor&quot;: &quot;blue&quot;, &quot;fillOpacity&quot;: 0.01, &quot;fillRule&quot;: &quot;evenodd&quot;, &quot;lineCap&quot;: &quot;round&quot;, &quot;lineJoin&quot;: &quot;round&quot;, &quot;opacity&quot;: 1.0, &quot;radius&quot;: 10.0, &quot;stroke&quot;: true, &quot;weight&quot;: 3}\n",
       "            ).addTo(map_4aa7168e12f739e6cf27b55356e590e0);\n",
       "        \n",
       "    \n",
       "        var popup_6c0131c4d5fdb9e43e8298877f852d97 = L.popup({&quot;maxWidth&quot;: &quot;100%&quot;});\n",
       "\n",
       "        \n",
       "            \n",
       "                var html_4cd497353be5a61b6eea00199b2df3a2 = $(`&lt;div id=&quot;html_4cd497353be5a61b6eea00199b2df3a2&quot; style=&quot;width: 100.0%; height: 100.0%;&quot;&gt;STRD05&lt;/div&gt;`)[0];\n",
       "                popup_6c0131c4d5fdb9e43e8298877f852d97.setContent(html_4cd497353be5a61b6eea00199b2df3a2);\n",
       "            \n",
       "        \n",
       "\n",
       "        circle_marker_5b9904b469652cb5c053ccb60c379ef8.bindPopup(popup_6c0131c4d5fdb9e43e8298877f852d97)\n",
       "        ;\n",
       "\n",
       "        \n",
       "    \n",
       "    \n",
       "            var circle_marker_0134a9144c357c83173e289cba7aa98b = L.circleMarker(\n",
       "                [46.23471, -122.19423],\n",
       "                {&quot;bubblingMouseEvents&quot;: true, &quot;color&quot;: &quot;blue&quot;, &quot;dashArray&quot;: null, &quot;dashOffset&quot;: null, &quot;fill&quot;: true, &quot;fillColor&quot;: &quot;blue&quot;, &quot;fillOpacity&quot;: 0.01, &quot;fillRule&quot;: &quot;evenodd&quot;, &quot;lineCap&quot;: &quot;round&quot;, &quot;lineJoin&quot;: &quot;round&quot;, &quot;opacity&quot;: 1.0, &quot;radius&quot;: 10.0, &quot;stroke&quot;: true, &quot;weight&quot;: 3}\n",
       "            ).addTo(map_4aa7168e12f739e6cf27b55356e590e0);\n",
       "        \n",
       "    \n",
       "        var popup_7f6d02b1931b9a99ab6806a36dff387d = L.popup({&quot;maxWidth&quot;: &quot;100%&quot;});\n",
       "\n",
       "        \n",
       "            \n",
       "                var html_0a864be1e7a43c7dd9ec3583492c7ff7 = $(`&lt;div id=&quot;html_0a864be1e7a43c7dd9ec3583492c7ff7&quot; style=&quot;width: 100.0%; height: 100.0%;&quot;&gt;STRD04&lt;/div&gt;`)[0];\n",
       "                popup_7f6d02b1931b9a99ab6806a36dff387d.setContent(html_0a864be1e7a43c7dd9ec3583492c7ff7);\n",
       "            \n",
       "        \n",
       "\n",
       "        circle_marker_0134a9144c357c83173e289cba7aa98b.bindPopup(popup_7f6d02b1931b9a99ab6806a36dff387d)\n",
       "        ;\n",
       "\n",
       "        \n",
       "    \n",
       "    \n",
       "            var circle_marker_46eed706b0423ede206a754e7b0e3e06 = L.circleMarker(\n",
       "                [46.23511, -122.19441],\n",
       "                {&quot;bubblingMouseEvents&quot;: true, &quot;color&quot;: &quot;blue&quot;, &quot;dashArray&quot;: null, &quot;dashOffset&quot;: null, &quot;fill&quot;: true, &quot;fillColor&quot;: &quot;blue&quot;, &quot;fillOpacity&quot;: 0.01, &quot;fillRule&quot;: &quot;evenodd&quot;, &quot;lineCap&quot;: &quot;round&quot;, &quot;lineJoin&quot;: &quot;round&quot;, &quot;opacity&quot;: 1.0, &quot;radius&quot;: 10.0, &quot;stroke&quot;: true, &quot;weight&quot;: 3}\n",
       "            ).addTo(map_4aa7168e12f739e6cf27b55356e590e0);\n",
       "        \n",
       "    \n",
       "        var popup_13a661e65e4155981b28a13e931f740f = L.popup({&quot;maxWidth&quot;: &quot;100%&quot;});\n",
       "\n",
       "        \n",
       "            \n",
       "                var html_c1423381fb459881cb9f7943fd0eaf41 = $(`&lt;div id=&quot;html_c1423381fb459881cb9f7943fd0eaf41&quot; style=&quot;width: 100.0%; height: 100.0%;&quot;&gt;STRD03&lt;/div&gt;`)[0];\n",
       "                popup_13a661e65e4155981b28a13e931f740f.setContent(html_c1423381fb459881cb9f7943fd0eaf41);\n",
       "            \n",
       "        \n",
       "\n",
       "        circle_marker_46eed706b0423ede206a754e7b0e3e06.bindPopup(popup_13a661e65e4155981b28a13e931f740f)\n",
       "        ;\n",
       "\n",
       "        \n",
       "    \n",
       "    \n",
       "            var circle_marker_8b0b7eddd84e84a167c88abcaa8188e6 = L.circleMarker(\n",
       "                [46.23559, -122.1946],\n",
       "                {&quot;bubblingMouseEvents&quot;: true, &quot;color&quot;: &quot;blue&quot;, &quot;dashArray&quot;: null, &quot;dashOffset&quot;: null, &quot;fill&quot;: true, &quot;fillColor&quot;: &quot;blue&quot;, &quot;fillOpacity&quot;: 0.01, &quot;fillRule&quot;: &quot;evenodd&quot;, &quot;lineCap&quot;: &quot;round&quot;, &quot;lineJoin&quot;: &quot;round&quot;, &quot;opacity&quot;: 1.0, &quot;radius&quot;: 10.0, &quot;stroke&quot;: true, &quot;weight&quot;: 3}\n",
       "            ).addTo(map_4aa7168e12f739e6cf27b55356e590e0);\n",
       "        \n",
       "    \n",
       "        var popup_0cfaac4d2828b76b4a6c8debfa36b884 = L.popup({&quot;maxWidth&quot;: &quot;100%&quot;});\n",
       "\n",
       "        \n",
       "            \n",
       "                var html_9adb08d2413252de8874bac763ceac40 = $(`&lt;div id=&quot;html_9adb08d2413252de8874bac763ceac40&quot; style=&quot;width: 100.0%; height: 100.0%;&quot;&gt;STRD02&lt;/div&gt;`)[0];\n",
       "                popup_0cfaac4d2828b76b4a6c8debfa36b884.setContent(html_9adb08d2413252de8874bac763ceac40);\n",
       "            \n",
       "        \n",
       "\n",
       "        circle_marker_8b0b7eddd84e84a167c88abcaa8188e6.bindPopup(popup_0cfaac4d2828b76b4a6c8debfa36b884)\n",
       "        ;\n",
       "\n",
       "        \n",
       "    \n",
       "    \n",
       "            var circle_marker_93ac30a6a036370a05ef04095bfb0706 = L.circleMarker(\n",
       "                [46.23603, -122.19482],\n",
       "                {&quot;bubblingMouseEvents&quot;: true, &quot;color&quot;: &quot;blue&quot;, &quot;dashArray&quot;: null, &quot;dashOffset&quot;: null, &quot;fill&quot;: true, &quot;fillColor&quot;: &quot;blue&quot;, &quot;fillOpacity&quot;: 0.01, &quot;fillRule&quot;: &quot;evenodd&quot;, &quot;lineCap&quot;: &quot;round&quot;, &quot;lineJoin&quot;: &quot;round&quot;, &quot;opacity&quot;: 1.0, &quot;radius&quot;: 10.0, &quot;stroke&quot;: true, &quot;weight&quot;: 3}\n",
       "            ).addTo(map_4aa7168e12f739e6cf27b55356e590e0);\n",
       "        \n",
       "    \n",
       "        var popup_fea54b0fd29300f9e51c5934c890a88b = L.popup({&quot;maxWidth&quot;: &quot;100%&quot;});\n",
       "\n",
       "        \n",
       "            \n",
       "                var html_075718bef616923c0e3fa13c3deb2fa7 = $(`&lt;div id=&quot;html_075718bef616923c0e3fa13c3deb2fa7&quot; style=&quot;width: 100.0%; height: 100.0%;&quot;&gt;STRD01&lt;/div&gt;`)[0];\n",
       "                popup_fea54b0fd29300f9e51c5934c890a88b.setContent(html_075718bef616923c0e3fa13c3deb2fa7);\n",
       "            \n",
       "        \n",
       "\n",
       "        circle_marker_93ac30a6a036370a05ef04095bfb0706.bindPopup(popup_fea54b0fd29300f9e51c5934c890a88b)\n",
       "        ;\n",
       "\n",
       "        \n",
       "    \n",
       "    \n",
       "            var circle_marker_4761d116c04f093f7ed803dd21355232 = L.circleMarker(\n",
       "                [46.19402, -122.22488],\n",
       "                {&quot;bubblingMouseEvents&quot;: true, &quot;color&quot;: &quot;blue&quot;, &quot;dashArray&quot;: null, &quot;dashOffset&quot;: null, &quot;fill&quot;: true, &quot;fillColor&quot;: &quot;blue&quot;, &quot;fillOpacity&quot;: 0.01, &quot;fillRule&quot;: &quot;evenodd&quot;, &quot;lineCap&quot;: &quot;round&quot;, &quot;lineJoin&quot;: &quot;round&quot;, &quot;opacity&quot;: 1.0, &quot;radius&quot;: 10.0, &quot;stroke&quot;: true, &quot;weight&quot;: 3}\n",
       "            ).addTo(map_4aa7168e12f739e6cf27b55356e590e0);\n",
       "        \n",
       "    \n",
       "        var popup_d1a48d5c3764bce143b19b1dd637d569 = L.popup({&quot;maxWidth&quot;: &quot;100%&quot;});\n",
       "\n",
       "        \n",
       "            \n",
       "                var html_c3d77809c47dc436a3df9e375e837686 = $(`&lt;div id=&quot;html_c3d77809c47dc436a3df9e375e837686&quot; style=&quot;width: 100.0%; height: 100.0%;&quot;&gt;SFTR04&lt;/div&gt;`)[0];\n",
       "                popup_d1a48d5c3764bce143b19b1dd637d569.setContent(html_c3d77809c47dc436a3df9e375e837686);\n",
       "            \n",
       "        \n",
       "\n",
       "        circle_marker_4761d116c04f093f7ed803dd21355232.bindPopup(popup_d1a48d5c3764bce143b19b1dd637d569)\n",
       "        ;\n",
       "\n",
       "        \n",
       "    \n",
       "    \n",
       "            var circle_marker_cc401a976b99a8249caec7b8d802f154 = L.circleMarker(\n",
       "                [46.19407, -122.2265],\n",
       "                {&quot;bubblingMouseEvents&quot;: true, &quot;color&quot;: &quot;blue&quot;, &quot;dashArray&quot;: null, &quot;dashOffset&quot;: null, &quot;fill&quot;: true, &quot;fillColor&quot;: &quot;blue&quot;, &quot;fillOpacity&quot;: 0.01, &quot;fillRule&quot;: &quot;evenodd&quot;, &quot;lineCap&quot;: &quot;round&quot;, &quot;lineJoin&quot;: &quot;round&quot;, &quot;opacity&quot;: 1.0, &quot;radius&quot;: 10.0, &quot;stroke&quot;: true, &quot;weight&quot;: 3}\n",
       "            ).addTo(map_4aa7168e12f739e6cf27b55356e590e0);\n",
       "        \n",
       "    \n",
       "        var popup_8205b078e9c030c498d1f1038df6ce0b = L.popup({&quot;maxWidth&quot;: &quot;100%&quot;});\n",
       "\n",
       "        \n",
       "            \n",
       "                var html_9a65ffb16d17a7e654185753b8095c5b = $(`&lt;div id=&quot;html_9a65ffb16d17a7e654185753b8095c5b&quot; style=&quot;width: 100.0%; height: 100.0%;&quot;&gt;SFTR03&lt;/div&gt;`)[0];\n",
       "                popup_8205b078e9c030c498d1f1038df6ce0b.setContent(html_9a65ffb16d17a7e654185753b8095c5b);\n",
       "            \n",
       "        \n",
       "\n",
       "        circle_marker_cc401a976b99a8249caec7b8d802f154.bindPopup(popup_8205b078e9c030c498d1f1038df6ce0b)\n",
       "        ;\n",
       "\n",
       "        \n",
       "    \n",
       "    \n",
       "            var circle_marker_c4957d131fbdf728756658be216f3283 = L.circleMarker(\n",
       "                [46.19417, -122.22811],\n",
       "                {&quot;bubblingMouseEvents&quot;: true, &quot;color&quot;: &quot;blue&quot;, &quot;dashArray&quot;: null, &quot;dashOffset&quot;: null, &quot;fill&quot;: true, &quot;fillColor&quot;: &quot;blue&quot;, &quot;fillOpacity&quot;: 0.01, &quot;fillRule&quot;: &quot;evenodd&quot;, &quot;lineCap&quot;: &quot;round&quot;, &quot;lineJoin&quot;: &quot;round&quot;, &quot;opacity&quot;: 1.0, &quot;radius&quot;: 10.0, &quot;stroke&quot;: true, &quot;weight&quot;: 3}\n",
       "            ).addTo(map_4aa7168e12f739e6cf27b55356e590e0);\n",
       "        \n",
       "    \n",
       "        var popup_5107d56205b64aa02d6fb28e35cab116 = L.popup({&quot;maxWidth&quot;: &quot;100%&quot;});\n",
       "\n",
       "        \n",
       "            \n",
       "                var html_d063e8e897c3392dc6b2f29e8e980536 = $(`&lt;div id=&quot;html_d063e8e897c3392dc6b2f29e8e980536&quot; style=&quot;width: 100.0%; height: 100.0%;&quot;&gt;SFTR02&lt;/div&gt;`)[0];\n",
       "                popup_5107d56205b64aa02d6fb28e35cab116.setContent(html_d063e8e897c3392dc6b2f29e8e980536);\n",
       "            \n",
       "        \n",
       "\n",
       "        circle_marker_c4957d131fbdf728756658be216f3283.bindPopup(popup_5107d56205b64aa02d6fb28e35cab116)\n",
       "        ;\n",
       "\n",
       "        \n",
       "    \n",
       "    \n",
       "            var circle_marker_87d20b3e0bdd70760e19e9f31bd19cfa = L.circleMarker(\n",
       "                [46.19378, -122.23029],\n",
       "                {&quot;bubblingMouseEvents&quot;: true, &quot;color&quot;: &quot;blue&quot;, &quot;dashArray&quot;: null, &quot;dashOffset&quot;: null, &quot;fill&quot;: true, &quot;fillColor&quot;: &quot;blue&quot;, &quot;fillOpacity&quot;: 0.01, &quot;fillRule&quot;: &quot;evenodd&quot;, &quot;lineCap&quot;: &quot;round&quot;, &quot;lineJoin&quot;: &quot;round&quot;, &quot;opacity&quot;: 1.0, &quot;radius&quot;: 10.0, &quot;stroke&quot;: true, &quot;weight&quot;: 3}\n",
       "            ).addTo(map_4aa7168e12f739e6cf27b55356e590e0);\n",
       "        \n",
       "    \n",
       "        var popup_1005a8f9b320d8d8ac335e27f5da9271 = L.popup({&quot;maxWidth&quot;: &quot;100%&quot;});\n",
       "\n",
       "        \n",
       "            \n",
       "                var html_e6f828f94ff20a3747980e71efe3269c = $(`&lt;div id=&quot;html_e6f828f94ff20a3747980e71efe3269c&quot; style=&quot;width: 100.0%; height: 100.0%;&quot;&gt;SFTR01&lt;/div&gt;`)[0];\n",
       "                popup_1005a8f9b320d8d8ac335e27f5da9271.setContent(html_e6f828f94ff20a3747980e71efe3269c);\n",
       "            \n",
       "        \n",
       "\n",
       "        circle_marker_87d20b3e0bdd70760e19e9f31bd19cfa.bindPopup(popup_1005a8f9b320d8d8ac335e27f5da9271)\n",
       "        ;\n",
       "\n",
       "        \n",
       "    \n",
       "    \n",
       "            var circle_marker_400f6ab334d17b283877022d04ba18a2 = L.circleMarker(\n",
       "                [46.22931, -122.16013],\n",
       "                {&quot;bubblingMouseEvents&quot;: true, &quot;color&quot;: &quot;blue&quot;, &quot;dashArray&quot;: null, &quot;dashOffset&quot;: null, &quot;fill&quot;: true, &quot;fillColor&quot;: &quot;blue&quot;, &quot;fillOpacity&quot;: 0.01, &quot;fillRule&quot;: &quot;evenodd&quot;, &quot;lineCap&quot;: &quot;round&quot;, &quot;lineJoin&quot;: &quot;round&quot;, &quot;opacity&quot;: 1.0, &quot;radius&quot;: 10.0, &quot;stroke&quot;: true, &quot;weight&quot;: 3}\n",
       "            ).addTo(map_4aa7168e12f739e6cf27b55356e590e0);\n",
       "        \n",
       "    \n",
       "        var popup_572d1f2f102d23642635c6b29fc32a9c = L.popup({&quot;maxWidth&quot;: &quot;100%&quot;});\n",
       "\n",
       "        \n",
       "            \n",
       "                var html_07d6cb6c57ceb7904ea111fb20b4453a = $(`&lt;div id=&quot;html_07d6cb6c57ceb7904ea111fb20b4453a&quot; style=&quot;width: 100.0%; height: 100.0%;&quot;&gt;PUPL12&lt;/div&gt;`)[0];\n",
       "                popup_572d1f2f102d23642635c6b29fc32a9c.setContent(html_07d6cb6c57ceb7904ea111fb20b4453a);\n",
       "            \n",
       "        \n",
       "\n",
       "        circle_marker_400f6ab334d17b283877022d04ba18a2.bindPopup(popup_572d1f2f102d23642635c6b29fc32a9c)\n",
       "        ;\n",
       "\n",
       "        \n",
       "    \n",
       "    \n",
       "            var circle_marker_836ecfc6a92f954ccf5b3925ffa7f4c9 = L.circleMarker(\n",
       "                [46.2297, -122.15998],\n",
       "                {&quot;bubblingMouseEvents&quot;: true, &quot;color&quot;: &quot;blue&quot;, &quot;dashArray&quot;: null, &quot;dashOffset&quot;: null, &quot;fill&quot;: true, &quot;fillColor&quot;: &quot;blue&quot;, &quot;fillOpacity&quot;: 0.01, &quot;fillRule&quot;: &quot;evenodd&quot;, &quot;lineCap&quot;: &quot;round&quot;, &quot;lineJoin&quot;: &quot;round&quot;, &quot;opacity&quot;: 1.0, &quot;radius&quot;: 10.0, &quot;stroke&quot;: true, &quot;weight&quot;: 3}\n",
       "            ).addTo(map_4aa7168e12f739e6cf27b55356e590e0);\n",
       "        \n",
       "    \n",
       "        var popup_655d22061250759427ac7fad6bfd8a95 = L.popup({&quot;maxWidth&quot;: &quot;100%&quot;});\n",
       "\n",
       "        \n",
       "            \n",
       "                var html_1a6d3f61950f00634d30e766158a5b13 = $(`&lt;div id=&quot;html_1a6d3f61950f00634d30e766158a5b13&quot; style=&quot;width: 100.0%; height: 100.0%;&quot;&gt;PUPL11&lt;/div&gt;`)[0];\n",
       "                popup_655d22061250759427ac7fad6bfd8a95.setContent(html_1a6d3f61950f00634d30e766158a5b13);\n",
       "            \n",
       "        \n",
       "\n",
       "        circle_marker_836ecfc6a92f954ccf5b3925ffa7f4c9.bindPopup(popup_655d22061250759427ac7fad6bfd8a95)\n",
       "        ;\n",
       "\n",
       "        \n",
       "    \n",
       "    \n",
       "            var circle_marker_1e3e5b84b2d9b13be16fca072b644676 = L.circleMarker(\n",
       "                [46.23016, -122.16011],\n",
       "                {&quot;bubblingMouseEvents&quot;: true, &quot;color&quot;: &quot;blue&quot;, &quot;dashArray&quot;: null, &quot;dashOffset&quot;: null, &quot;fill&quot;: true, &quot;fillColor&quot;: &quot;blue&quot;, &quot;fillOpacity&quot;: 0.01, &quot;fillRule&quot;: &quot;evenodd&quot;, &quot;lineCap&quot;: &quot;round&quot;, &quot;lineJoin&quot;: &quot;round&quot;, &quot;opacity&quot;: 1.0, &quot;radius&quot;: 10.0, &quot;stroke&quot;: true, &quot;weight&quot;: 3}\n",
       "            ).addTo(map_4aa7168e12f739e6cf27b55356e590e0);\n",
       "        \n",
       "    \n",
       "        var popup_0d4f48e428afe614b8370083e544e3ac = L.popup({&quot;maxWidth&quot;: &quot;100%&quot;});\n",
       "\n",
       "        \n",
       "            \n",
       "                var html_9a4260dc23f65cec12977e6d0d92237f = $(`&lt;div id=&quot;html_9a4260dc23f65cec12977e6d0d92237f&quot; style=&quot;width: 100.0%; height: 100.0%;&quot;&gt;PUPL10&lt;/div&gt;`)[0];\n",
       "                popup_0d4f48e428afe614b8370083e544e3ac.setContent(html_9a4260dc23f65cec12977e6d0d92237f);\n",
       "            \n",
       "        \n",
       "\n",
       "        circle_marker_1e3e5b84b2d9b13be16fca072b644676.bindPopup(popup_0d4f48e428afe614b8370083e544e3ac)\n",
       "        ;\n",
       "\n",
       "        \n",
       "    \n",
       "    \n",
       "            var circle_marker_05b6150abdc6ab95cd8e5c66305785df = L.circleMarker(\n",
       "                [46.23056, -122.16007],\n",
       "                {&quot;bubblingMouseEvents&quot;: true, &quot;color&quot;: &quot;blue&quot;, &quot;dashArray&quot;: null, &quot;dashOffset&quot;: null, &quot;fill&quot;: true, &quot;fillColor&quot;: &quot;blue&quot;, &quot;fillOpacity&quot;: 0.01, &quot;fillRule&quot;: &quot;evenodd&quot;, &quot;lineCap&quot;: &quot;round&quot;, &quot;lineJoin&quot;: &quot;round&quot;, &quot;opacity&quot;: 1.0, &quot;radius&quot;: 10.0, &quot;stroke&quot;: true, &quot;weight&quot;: 3}\n",
       "            ).addTo(map_4aa7168e12f739e6cf27b55356e590e0);\n",
       "        \n",
       "    \n",
       "        var popup_8d4e21844861ba2f2c8aa731d928bdb5 = L.popup({&quot;maxWidth&quot;: &quot;100%&quot;});\n",
       "\n",
       "        \n",
       "            \n",
       "                var html_b685b376b1c332dd1eb32d5e5fa0ad0c = $(`&lt;div id=&quot;html_b685b376b1c332dd1eb32d5e5fa0ad0c&quot; style=&quot;width: 100.0%; height: 100.0%;&quot;&gt;PUPL09&lt;/div&gt;`)[0];\n",
       "                popup_8d4e21844861ba2f2c8aa731d928bdb5.setContent(html_b685b376b1c332dd1eb32d5e5fa0ad0c);\n",
       "            \n",
       "        \n",
       "\n",
       "        circle_marker_05b6150abdc6ab95cd8e5c66305785df.bindPopup(popup_8d4e21844861ba2f2c8aa731d928bdb5)\n",
       "        ;\n",
       "\n",
       "        \n",
       "    \n",
       "    \n",
       "            var circle_marker_89b00f9f5a95e12a521141cdde0e08d7 = L.circleMarker(\n",
       "                [46.23102, -122.16017],\n",
       "                {&quot;bubblingMouseEvents&quot;: true, &quot;color&quot;: &quot;blue&quot;, &quot;dashArray&quot;: null, &quot;dashOffset&quot;: null, &quot;fill&quot;: true, &quot;fillColor&quot;: &quot;blue&quot;, &quot;fillOpacity&quot;: 0.01, &quot;fillRule&quot;: &quot;evenodd&quot;, &quot;lineCap&quot;: &quot;round&quot;, &quot;lineJoin&quot;: &quot;round&quot;, &quot;opacity&quot;: 1.0, &quot;radius&quot;: 10.0, &quot;stroke&quot;: true, &quot;weight&quot;: 3}\n",
       "            ).addTo(map_4aa7168e12f739e6cf27b55356e590e0);\n",
       "        \n",
       "    \n",
       "        var popup_e8db780e0e20c1fa5563252a455e1b72 = L.popup({&quot;maxWidth&quot;: &quot;100%&quot;});\n",
       "\n",
       "        \n",
       "            \n",
       "                var html_40b29cf2305a3dc7f60b67611b65f24b = $(`&lt;div id=&quot;html_40b29cf2305a3dc7f60b67611b65f24b&quot; style=&quot;width: 100.0%; height: 100.0%;&quot;&gt;PUPL08&lt;/div&gt;`)[0];\n",
       "                popup_e8db780e0e20c1fa5563252a455e1b72.setContent(html_40b29cf2305a3dc7f60b67611b65f24b);\n",
       "            \n",
       "        \n",
       "\n",
       "        circle_marker_89b00f9f5a95e12a521141cdde0e08d7.bindPopup(popup_e8db780e0e20c1fa5563252a455e1b72)\n",
       "        ;\n",
       "\n",
       "        \n",
       "    \n",
       "    \n",
       "            var circle_marker_3d5799fd8fc33377f8f92e774c0dc0ff = L.circleMarker(\n",
       "                [46.2315, -122.16022],\n",
       "                {&quot;bubblingMouseEvents&quot;: true, &quot;color&quot;: &quot;blue&quot;, &quot;dashArray&quot;: null, &quot;dashOffset&quot;: null, &quot;fill&quot;: true, &quot;fillColor&quot;: &quot;blue&quot;, &quot;fillOpacity&quot;: 0.01, &quot;fillRule&quot;: &quot;evenodd&quot;, &quot;lineCap&quot;: &quot;round&quot;, &quot;lineJoin&quot;: &quot;round&quot;, &quot;opacity&quot;: 1.0, &quot;radius&quot;: 10.0, &quot;stroke&quot;: true, &quot;weight&quot;: 3}\n",
       "            ).addTo(map_4aa7168e12f739e6cf27b55356e590e0);\n",
       "        \n",
       "    \n",
       "        var popup_fcc11e04665e9f90b7085b1f2d5d6ad7 = L.popup({&quot;maxWidth&quot;: &quot;100%&quot;});\n",
       "\n",
       "        \n",
       "            \n",
       "                var html_be8dd94074dca4b3b991ac3ce20d3dc3 = $(`&lt;div id=&quot;html_be8dd94074dca4b3b991ac3ce20d3dc3&quot; style=&quot;width: 100.0%; height: 100.0%;&quot;&gt;PUPL07&lt;/div&gt;`)[0];\n",
       "                popup_fcc11e04665e9f90b7085b1f2d5d6ad7.setContent(html_be8dd94074dca4b3b991ac3ce20d3dc3);\n",
       "            \n",
       "        \n",
       "\n",
       "        circle_marker_3d5799fd8fc33377f8f92e774c0dc0ff.bindPopup(popup_fcc11e04665e9f90b7085b1f2d5d6ad7)\n",
       "        ;\n",
       "\n",
       "        \n",
       "    \n",
       "    \n",
       "            var circle_marker_ad6c56f8deca6db99fbd341a76fc9eb2 = L.circleMarker(\n",
       "                [46.23194, -122.16035],\n",
       "                {&quot;bubblingMouseEvents&quot;: true, &quot;color&quot;: &quot;blue&quot;, &quot;dashArray&quot;: null, &quot;dashOffset&quot;: null, &quot;fill&quot;: true, &quot;fillColor&quot;: &quot;blue&quot;, &quot;fillOpacity&quot;: 0.01, &quot;fillRule&quot;: &quot;evenodd&quot;, &quot;lineCap&quot;: &quot;round&quot;, &quot;lineJoin&quot;: &quot;round&quot;, &quot;opacity&quot;: 1.0, &quot;radius&quot;: 10.0, &quot;stroke&quot;: true, &quot;weight&quot;: 3}\n",
       "            ).addTo(map_4aa7168e12f739e6cf27b55356e590e0);\n",
       "        \n",
       "    \n",
       "        var popup_35b40a1c3329384871fa997d7f566fca = L.popup({&quot;maxWidth&quot;: &quot;100%&quot;});\n",
       "\n",
       "        \n",
       "            \n",
       "                var html_a950091f13a6d00b8001f136dc5ac590 = $(`&lt;div id=&quot;html_a950091f13a6d00b8001f136dc5ac590&quot; style=&quot;width: 100.0%; height: 100.0%;&quot;&gt;PUPL06&lt;/div&gt;`)[0];\n",
       "                popup_35b40a1c3329384871fa997d7f566fca.setContent(html_a950091f13a6d00b8001f136dc5ac590);\n",
       "            \n",
       "        \n",
       "\n",
       "        circle_marker_ad6c56f8deca6db99fbd341a76fc9eb2.bindPopup(popup_35b40a1c3329384871fa997d7f566fca)\n",
       "        ;\n",
       "\n",
       "        \n",
       "    \n",
       "    \n",
       "            var circle_marker_bc93a57fe5098fe57fa6bf102a6ee83f = L.circleMarker(\n",
       "                [46.23241, -122.16026],\n",
       "                {&quot;bubblingMouseEvents&quot;: true, &quot;color&quot;: &quot;blue&quot;, &quot;dashArray&quot;: null, &quot;dashOffset&quot;: null, &quot;fill&quot;: true, &quot;fillColor&quot;: &quot;blue&quot;, &quot;fillOpacity&quot;: 0.01, &quot;fillRule&quot;: &quot;evenodd&quot;, &quot;lineCap&quot;: &quot;round&quot;, &quot;lineJoin&quot;: &quot;round&quot;, &quot;opacity&quot;: 1.0, &quot;radius&quot;: 10.0, &quot;stroke&quot;: true, &quot;weight&quot;: 3}\n",
       "            ).addTo(map_4aa7168e12f739e6cf27b55356e590e0);\n",
       "        \n",
       "    \n",
       "        var popup_05173698d7eb0e285c49833ea9d899be = L.popup({&quot;maxWidth&quot;: &quot;100%&quot;});\n",
       "\n",
       "        \n",
       "            \n",
       "                var html_947658e5217482e7384d98b6adee2202 = $(`&lt;div id=&quot;html_947658e5217482e7384d98b6adee2202&quot; style=&quot;width: 100.0%; height: 100.0%;&quot;&gt;PUPL05&lt;/div&gt;`)[0];\n",
       "                popup_05173698d7eb0e285c49833ea9d899be.setContent(html_947658e5217482e7384d98b6adee2202);\n",
       "            \n",
       "        \n",
       "\n",
       "        circle_marker_bc93a57fe5098fe57fa6bf102a6ee83f.bindPopup(popup_05173698d7eb0e285c49833ea9d899be)\n",
       "        ;\n",
       "\n",
       "        \n",
       "    \n",
       "    \n",
       "            var circle_marker_ced7dfb2c397637e4c30552b0c4d6a60 = L.circleMarker(\n",
       "                [46.23285, -122.16009],\n",
       "                {&quot;bubblingMouseEvents&quot;: true, &quot;color&quot;: &quot;blue&quot;, &quot;dashArray&quot;: null, &quot;dashOffset&quot;: null, &quot;fill&quot;: true, &quot;fillColor&quot;: &quot;blue&quot;, &quot;fillOpacity&quot;: 0.01, &quot;fillRule&quot;: &quot;evenodd&quot;, &quot;lineCap&quot;: &quot;round&quot;, &quot;lineJoin&quot;: &quot;round&quot;, &quot;opacity&quot;: 1.0, &quot;radius&quot;: 10.0, &quot;stroke&quot;: true, &quot;weight&quot;: 3}\n",
       "            ).addTo(map_4aa7168e12f739e6cf27b55356e590e0);\n",
       "        \n",
       "    \n",
       "        var popup_e3b316a16f8a8a30287dd4e3d6bd731d = L.popup({&quot;maxWidth&quot;: &quot;100%&quot;});\n",
       "\n",
       "        \n",
       "            \n",
       "                var html_64c066fe79559d33ab67fd8c16830605 = $(`&lt;div id=&quot;html_64c066fe79559d33ab67fd8c16830605&quot; style=&quot;width: 100.0%; height: 100.0%;&quot;&gt;PUPL04&lt;/div&gt;`)[0];\n",
       "                popup_e3b316a16f8a8a30287dd4e3d6bd731d.setContent(html_64c066fe79559d33ab67fd8c16830605);\n",
       "            \n",
       "        \n",
       "\n",
       "        circle_marker_ced7dfb2c397637e4c30552b0c4d6a60.bindPopup(popup_e3b316a16f8a8a30287dd4e3d6bd731d)\n",
       "        ;\n",
       "\n",
       "        \n",
       "    \n",
       "    \n",
       "            var circle_marker_44f962150735d5b086bf6e214a3d7bcf = L.circleMarker(\n",
       "                [46.23322, -122.15995],\n",
       "                {&quot;bubblingMouseEvents&quot;: true, &quot;color&quot;: &quot;blue&quot;, &quot;dashArray&quot;: null, &quot;dashOffset&quot;: null, &quot;fill&quot;: true, &quot;fillColor&quot;: &quot;blue&quot;, &quot;fillOpacity&quot;: 0.01, &quot;fillRule&quot;: &quot;evenodd&quot;, &quot;lineCap&quot;: &quot;round&quot;, &quot;lineJoin&quot;: &quot;round&quot;, &quot;opacity&quot;: 1.0, &quot;radius&quot;: 10.0, &quot;stroke&quot;: true, &quot;weight&quot;: 3}\n",
       "            ).addTo(map_4aa7168e12f739e6cf27b55356e590e0);\n",
       "        \n",
       "    \n",
       "        var popup_89a64c6ce25cdb8ee154ba26f46955c4 = L.popup({&quot;maxWidth&quot;: &quot;100%&quot;});\n",
       "\n",
       "        \n",
       "            \n",
       "                var html_e47b9b9d9fb42f45c688492a88d9eaaa = $(`&lt;div id=&quot;html_e47b9b9d9fb42f45c688492a88d9eaaa&quot; style=&quot;width: 100.0%; height: 100.0%;&quot;&gt;PUPL03&lt;/div&gt;`)[0];\n",
       "                popup_89a64c6ce25cdb8ee154ba26f46955c4.setContent(html_e47b9b9d9fb42f45c688492a88d9eaaa);\n",
       "            \n",
       "        \n",
       "\n",
       "        circle_marker_44f962150735d5b086bf6e214a3d7bcf.bindPopup(popup_89a64c6ce25cdb8ee154ba26f46955c4)\n",
       "        ;\n",
       "\n",
       "        \n",
       "    \n",
       "    \n",
       "            var circle_marker_5404b30358a6c0793319687a39288b97 = L.circleMarker(\n",
       "                [46.23365, -122.1598],\n",
       "                {&quot;bubblingMouseEvents&quot;: true, &quot;color&quot;: &quot;blue&quot;, &quot;dashArray&quot;: null, &quot;dashOffset&quot;: null, &quot;fill&quot;: true, &quot;fillColor&quot;: &quot;blue&quot;, &quot;fillOpacity&quot;: 0.01, &quot;fillRule&quot;: &quot;evenodd&quot;, &quot;lineCap&quot;: &quot;round&quot;, &quot;lineJoin&quot;: &quot;round&quot;, &quot;opacity&quot;: 1.0, &quot;radius&quot;: 10.0, &quot;stroke&quot;: true, &quot;weight&quot;: 3}\n",
       "            ).addTo(map_4aa7168e12f739e6cf27b55356e590e0);\n",
       "        \n",
       "    \n",
       "        var popup_2b77f7261a6a600119abc4db4cf2431d = L.popup({&quot;maxWidth&quot;: &quot;100%&quot;});\n",
       "\n",
       "        \n",
       "            \n",
       "                var html_0fec959894d69d4a0fb060b99c6a1730 = $(`&lt;div id=&quot;html_0fec959894d69d4a0fb060b99c6a1730&quot; style=&quot;width: 100.0%; height: 100.0%;&quot;&gt;PUPL02&lt;/div&gt;`)[0];\n",
       "                popup_2b77f7261a6a600119abc4db4cf2431d.setContent(html_0fec959894d69d4a0fb060b99c6a1730);\n",
       "            \n",
       "        \n",
       "\n",
       "        circle_marker_5404b30358a6c0793319687a39288b97.bindPopup(popup_2b77f7261a6a600119abc4db4cf2431d)\n",
       "        ;\n",
       "\n",
       "        \n",
       "    \n",
       "    \n",
       "            var circle_marker_2cc3e22111481db690bb26581833258b = L.circleMarker(\n",
       "                [46.23413, -122.15966],\n",
       "                {&quot;bubblingMouseEvents&quot;: true, &quot;color&quot;: &quot;blue&quot;, &quot;dashArray&quot;: null, &quot;dashOffset&quot;: null, &quot;fill&quot;: true, &quot;fillColor&quot;: &quot;blue&quot;, &quot;fillOpacity&quot;: 0.01, &quot;fillRule&quot;: &quot;evenodd&quot;, &quot;lineCap&quot;: &quot;round&quot;, &quot;lineJoin&quot;: &quot;round&quot;, &quot;opacity&quot;: 1.0, &quot;radius&quot;: 10.0, &quot;stroke&quot;: true, &quot;weight&quot;: 3}\n",
       "            ).addTo(map_4aa7168e12f739e6cf27b55356e590e0);\n",
       "        \n",
       "    \n",
       "        var popup_5ed449469431ff2dc230bfaeb5349c90 = L.popup({&quot;maxWidth&quot;: &quot;100%&quot;});\n",
       "\n",
       "        \n",
       "            \n",
       "                var html_a0b0f2faa43df6deb51757d135060b17 = $(`&lt;div id=&quot;html_a0b0f2faa43df6deb51757d135060b17&quot; style=&quot;width: 100.0%; height: 100.0%;&quot;&gt;PUPL01&lt;/div&gt;`)[0];\n",
       "                popup_5ed449469431ff2dc230bfaeb5349c90.setContent(html_a0b0f2faa43df6deb51757d135060b17);\n",
       "            \n",
       "        \n",
       "\n",
       "        circle_marker_2cc3e22111481db690bb26581833258b.bindPopup(popup_5ed449469431ff2dc230bfaeb5349c90)\n",
       "        ;\n",
       "\n",
       "        \n",
       "    \n",
       "    \n",
       "            var circle_marker_a424839b60e75e5d6ef3b83b3243a2ee = L.circleMarker(\n",
       "                [46.18119, -122.14592],\n",
       "                {&quot;bubblingMouseEvents&quot;: true, &quot;color&quot;: &quot;blue&quot;, &quot;dashArray&quot;: null, &quot;dashOffset&quot;: null, &quot;fill&quot;: true, &quot;fillColor&quot;: &quot;blue&quot;, &quot;fillOpacity&quot;: 0.01, &quot;fillRule&quot;: &quot;evenodd&quot;, &quot;lineCap&quot;: &quot;round&quot;, &quot;lineJoin&quot;: &quot;round&quot;, &quot;opacity&quot;: 1.0, &quot;radius&quot;: 10.0, &quot;stroke&quot;: true, &quot;weight&quot;: 3}\n",
       "            ).addTo(map_4aa7168e12f739e6cf27b55356e590e0);\n",
       "        \n",
       "    \n",
       "        var popup_29fe84a16708890c96eac40090860ef4 = L.popup({&quot;maxWidth&quot;: &quot;100%&quot;});\n",
       "\n",
       "        \n",
       "            \n",
       "                var html_9c43c1a6c7d7785f5c4d0124c04aa12d = $(`&lt;div id=&quot;html_9c43c1a6c7d7785f5c4d0124c04aa12d&quot; style=&quot;width: 100.0%; height: 100.0%;&quot;&gt;PICE04&lt;/div&gt;`)[0];\n",
       "                popup_29fe84a16708890c96eac40090860ef4.setContent(html_9c43c1a6c7d7785f5c4d0124c04aa12d);\n",
       "            \n",
       "        \n",
       "\n",
       "        circle_marker_a424839b60e75e5d6ef3b83b3243a2ee.bindPopup(popup_29fe84a16708890c96eac40090860ef4)\n",
       "        ;\n",
       "\n",
       "        \n",
       "    \n",
       "    \n",
       "            var circle_marker_fc9d0684da003def14c1f6a2f099b3cd = L.circleMarker(\n",
       "                [46.17958, -122.1474],\n",
       "                {&quot;bubblingMouseEvents&quot;: true, &quot;color&quot;: &quot;blue&quot;, &quot;dashArray&quot;: null, &quot;dashOffset&quot;: null, &quot;fill&quot;: true, &quot;fillColor&quot;: &quot;blue&quot;, &quot;fillOpacity&quot;: 0.01, &quot;fillRule&quot;: &quot;evenodd&quot;, &quot;lineCap&quot;: &quot;round&quot;, &quot;lineJoin&quot;: &quot;round&quot;, &quot;opacity&quot;: 1.0, &quot;radius&quot;: 10.0, &quot;stroke&quot;: true, &quot;weight&quot;: 3}\n",
       "            ).addTo(map_4aa7168e12f739e6cf27b55356e590e0);\n",
       "        \n",
       "    \n",
       "        var popup_b0db3d7a4d5f7d8160737fe6d2068541 = L.popup({&quot;maxWidth&quot;: &quot;100%&quot;});\n",
       "\n",
       "        \n",
       "            \n",
       "                var html_0c9396af9429a3ab9c6b6fe51a052e8a = $(`&lt;div id=&quot;html_0c9396af9429a3ab9c6b6fe51a052e8a&quot; style=&quot;width: 100.0%; height: 100.0%;&quot;&gt;PICE03&lt;/div&gt;`)[0];\n",
       "                popup_b0db3d7a4d5f7d8160737fe6d2068541.setContent(html_0c9396af9429a3ab9c6b6fe51a052e8a);\n",
       "            \n",
       "        \n",
       "\n",
       "        circle_marker_fc9d0684da003def14c1f6a2f099b3cd.bindPopup(popup_b0db3d7a4d5f7d8160737fe6d2068541)\n",
       "        ;\n",
       "\n",
       "        \n",
       "    \n",
       "    \n",
       "            var circle_marker_774c61ee2926773767606def882e3fe5 = L.circleMarker(\n",
       "                [46.18129, -122.14648],\n",
       "                {&quot;bubblingMouseEvents&quot;: true, &quot;color&quot;: &quot;blue&quot;, &quot;dashArray&quot;: null, &quot;dashOffset&quot;: null, &quot;fill&quot;: true, &quot;fillColor&quot;: &quot;blue&quot;, &quot;fillOpacity&quot;: 0.01, &quot;fillRule&quot;: &quot;evenodd&quot;, &quot;lineCap&quot;: &quot;round&quot;, &quot;lineJoin&quot;: &quot;round&quot;, &quot;opacity&quot;: 1.0, &quot;radius&quot;: 10.0, &quot;stroke&quot;: true, &quot;weight&quot;: 3}\n",
       "            ).addTo(map_4aa7168e12f739e6cf27b55356e590e0);\n",
       "        \n",
       "    \n",
       "        var popup_4c7ac454419dd6d1362448a1c03afd80 = L.popup({&quot;maxWidth&quot;: &quot;100%&quot;});\n",
       "\n",
       "        \n",
       "            \n",
       "                var html_708ead94c27c3eaa7b8c7e039c2be24b = $(`&lt;div id=&quot;html_708ead94c27c3eaa7b8c7e039c2be24b&quot; style=&quot;width: 100.0%; height: 100.0%;&quot;&gt;PICE02&lt;/div&gt;`)[0];\n",
       "                popup_4c7ac454419dd6d1362448a1c03afd80.setContent(html_708ead94c27c3eaa7b8c7e039c2be24b);\n",
       "            \n",
       "        \n",
       "\n",
       "        circle_marker_774c61ee2926773767606def882e3fe5.bindPopup(popup_4c7ac454419dd6d1362448a1c03afd80)\n",
       "        ;\n",
       "\n",
       "        \n",
       "    \n",
       "    \n",
       "            var circle_marker_6e8e6aa50a48f78f2d069566300dda3e = L.circleMarker(\n",
       "                [46.15446, -122.15754],\n",
       "                {&quot;bubblingMouseEvents&quot;: true, &quot;color&quot;: &quot;blue&quot;, &quot;dashArray&quot;: null, &quot;dashOffset&quot;: null, &quot;fill&quot;: true, &quot;fillColor&quot;: &quot;blue&quot;, &quot;fillOpacity&quot;: 0.01, &quot;fillRule&quot;: &quot;evenodd&quot;, &quot;lineCap&quot;: &quot;round&quot;, &quot;lineJoin&quot;: &quot;round&quot;, &quot;opacity&quot;: 1.0, &quot;radius&quot;: 10.0, &quot;stroke&quot;: true, &quot;weight&quot;: 3}\n",
       "            ).addTo(map_4aa7168e12f739e6cf27b55356e590e0);\n",
       "        \n",
       "    \n",
       "        var popup_a10fb1f8873028b0f01365161dab0a5c = L.popup({&quot;maxWidth&quot;: &quot;100%&quot;});\n",
       "\n",
       "        \n",
       "            \n",
       "                var html_2e5c6087fee4cbd8897b06fa9ad51e6c = $(`&lt;div id=&quot;html_2e5c6087fee4cbd8897b06fa9ad51e6c&quot; style=&quot;width: 100.0%; height: 100.0%;&quot;&gt;PICB05&lt;/div&gt;`)[0];\n",
       "                popup_a10fb1f8873028b0f01365161dab0a5c.setContent(html_2e5c6087fee4cbd8897b06fa9ad51e6c);\n",
       "            \n",
       "        \n",
       "\n",
       "        circle_marker_6e8e6aa50a48f78f2d069566300dda3e.bindPopup(popup_a10fb1f8873028b0f01365161dab0a5c)\n",
       "        ;\n",
       "\n",
       "        \n",
       "    \n",
       "    \n",
       "            var circle_marker_1566923ed43fe9ccc9c3a901a2afc8bf = L.circleMarker(\n",
       "                [46.15449, -122.1578],\n",
       "                {&quot;bubblingMouseEvents&quot;: true, &quot;color&quot;: &quot;blue&quot;, &quot;dashArray&quot;: null, &quot;dashOffset&quot;: null, &quot;fill&quot;: true, &quot;fillColor&quot;: &quot;blue&quot;, &quot;fillOpacity&quot;: 0.01, &quot;fillRule&quot;: &quot;evenodd&quot;, &quot;lineCap&quot;: &quot;round&quot;, &quot;lineJoin&quot;: &quot;round&quot;, &quot;opacity&quot;: 1.0, &quot;radius&quot;: 10.0, &quot;stroke&quot;: true, &quot;weight&quot;: 3}\n",
       "            ).addTo(map_4aa7168e12f739e6cf27b55356e590e0);\n",
       "        \n",
       "    \n",
       "        var popup_31c74d91c067e175e506226f0d88c280 = L.popup({&quot;maxWidth&quot;: &quot;100%&quot;});\n",
       "\n",
       "        \n",
       "            \n",
       "                var html_8eb38c33ff07b1d25b483b35e54e2896 = $(`&lt;div id=&quot;html_8eb38c33ff07b1d25b483b35e54e2896&quot; style=&quot;width: 100.0%; height: 100.0%;&quot;&gt;PICB04&lt;/div&gt;`)[0];\n",
       "                popup_31c74d91c067e175e506226f0d88c280.setContent(html_8eb38c33ff07b1d25b483b35e54e2896);\n",
       "            \n",
       "        \n",
       "\n",
       "        circle_marker_1566923ed43fe9ccc9c3a901a2afc8bf.bindPopup(popup_31c74d91c067e175e506226f0d88c280)\n",
       "        ;\n",
       "\n",
       "        \n",
       "    \n",
       "    \n",
       "            var circle_marker_7374bb622da854f5f32a9dc2d54d1f1a = L.circleMarker(\n",
       "                [46.1545, -122.15798],\n",
       "                {&quot;bubblingMouseEvents&quot;: true, &quot;color&quot;: &quot;blue&quot;, &quot;dashArray&quot;: null, &quot;dashOffset&quot;: null, &quot;fill&quot;: true, &quot;fillColor&quot;: &quot;blue&quot;, &quot;fillOpacity&quot;: 0.01, &quot;fillRule&quot;: &quot;evenodd&quot;, &quot;lineCap&quot;: &quot;round&quot;, &quot;lineJoin&quot;: &quot;round&quot;, &quot;opacity&quot;: 1.0, &quot;radius&quot;: 10.0, &quot;stroke&quot;: true, &quot;weight&quot;: 3}\n",
       "            ).addTo(map_4aa7168e12f739e6cf27b55356e590e0);\n",
       "        \n",
       "    \n",
       "        var popup_438278fcb4f54b9ba73cc26efd2bd361 = L.popup({&quot;maxWidth&quot;: &quot;100%&quot;});\n",
       "\n",
       "        \n",
       "            \n",
       "                var html_41d5868c2d34ef1cb59b9ad6d4d36489 = $(`&lt;div id=&quot;html_41d5868c2d34ef1cb59b9ad6d4d36489&quot; style=&quot;width: 100.0%; height: 100.0%;&quot;&gt;PICB03&lt;/div&gt;`)[0];\n",
       "                popup_438278fcb4f54b9ba73cc26efd2bd361.setContent(html_41d5868c2d34ef1cb59b9ad6d4d36489);\n",
       "            \n",
       "        \n",
       "\n",
       "        circle_marker_7374bb622da854f5f32a9dc2d54d1f1a.bindPopup(popup_438278fcb4f54b9ba73cc26efd2bd361)\n",
       "        ;\n",
       "\n",
       "        \n",
       "    \n",
       "    \n",
       "            var circle_marker_73c9284c2f5e64500d047c35653fb149 = L.circleMarker(\n",
       "                [46.15448, -122.15818],\n",
       "                {&quot;bubblingMouseEvents&quot;: true, &quot;color&quot;: &quot;blue&quot;, &quot;dashArray&quot;: null, &quot;dashOffset&quot;: null, &quot;fill&quot;: true, &quot;fillColor&quot;: &quot;blue&quot;, &quot;fillOpacity&quot;: 0.01, &quot;fillRule&quot;: &quot;evenodd&quot;, &quot;lineCap&quot;: &quot;round&quot;, &quot;lineJoin&quot;: &quot;round&quot;, &quot;opacity&quot;: 1.0, &quot;radius&quot;: 10.0, &quot;stroke&quot;: true, &quot;weight&quot;: 3}\n",
       "            ).addTo(map_4aa7168e12f739e6cf27b55356e590e0);\n",
       "        \n",
       "    \n",
       "        var popup_44404a4482222f953aa749f331bd049f = L.popup({&quot;maxWidth&quot;: &quot;100%&quot;});\n",
       "\n",
       "        \n",
       "            \n",
       "                var html_3f09caca440b746f87a137a71ae71e54 = $(`&lt;div id=&quot;html_3f09caca440b746f87a137a71ae71e54&quot; style=&quot;width: 100.0%; height: 100.0%;&quot;&gt;PICB02&lt;/div&gt;`)[0];\n",
       "                popup_44404a4482222f953aa749f331bd049f.setContent(html_3f09caca440b746f87a137a71ae71e54);\n",
       "            \n",
       "        \n",
       "\n",
       "        circle_marker_73c9284c2f5e64500d047c35653fb149.bindPopup(popup_44404a4482222f953aa749f331bd049f)\n",
       "        ;\n",
       "\n",
       "        \n",
       "    \n",
       "    \n",
       "            var circle_marker_d84f5ceaf764e3bda8cdb52bbc9e62d5 = L.circleMarker(\n",
       "                [46.15443, -122.15837],\n",
       "                {&quot;bubblingMouseEvents&quot;: true, &quot;color&quot;: &quot;blue&quot;, &quot;dashArray&quot;: null, &quot;dashOffset&quot;: null, &quot;fill&quot;: true, &quot;fillColor&quot;: &quot;blue&quot;, &quot;fillOpacity&quot;: 0.01, &quot;fillRule&quot;: &quot;evenodd&quot;, &quot;lineCap&quot;: &quot;round&quot;, &quot;lineJoin&quot;: &quot;round&quot;, &quot;opacity&quot;: 1.0, &quot;radius&quot;: 10.0, &quot;stroke&quot;: true, &quot;weight&quot;: 3}\n",
       "            ).addTo(map_4aa7168e12f739e6cf27b55356e590e0);\n",
       "        \n",
       "    \n",
       "        var popup_c73729142ac04971c61058bd5d64fe2c = L.popup({&quot;maxWidth&quot;: &quot;100%&quot;});\n",
       "\n",
       "        \n",
       "            \n",
       "                var html_88b54142743d0bcd3eef7a60070705a3 = $(`&lt;div id=&quot;html_88b54142743d0bcd3eef7a60070705a3&quot; style=&quot;width: 100.0%; height: 100.0%;&quot;&gt;PICB01&lt;/div&gt;`)[0];\n",
       "                popup_c73729142ac04971c61058bd5d64fe2c.setContent(html_88b54142743d0bcd3eef7a60070705a3);\n",
       "            \n",
       "        \n",
       "\n",
       "        circle_marker_d84f5ceaf764e3bda8cdb52bbc9e62d5.bindPopup(popup_c73729142ac04971c61058bd5d64fe2c)\n",
       "        ;\n",
       "\n",
       "        \n",
       "    \n",
       "    \n",
       "            var circle_marker_bc565c93c59d9e343d92850f59eacf7a = L.circleMarker(\n",
       "                [46.15325, -122.15135],\n",
       "                {&quot;bubblingMouseEvents&quot;: true, &quot;color&quot;: &quot;blue&quot;, &quot;dashArray&quot;: null, &quot;dashOffset&quot;: null, &quot;fill&quot;: true, &quot;fillColor&quot;: &quot;blue&quot;, &quot;fillOpacity&quot;: 0.01, &quot;fillRule&quot;: &quot;evenodd&quot;, &quot;lineCap&quot;: &quot;round&quot;, &quot;lineJoin&quot;: &quot;round&quot;, &quot;opacity&quot;: 1.0, &quot;radius&quot;: 10.0, &quot;stroke&quot;: true, &quot;weight&quot;: 3}\n",
       "            ).addTo(map_4aa7168e12f739e6cf27b55356e590e0);\n",
       "        \n",
       "    \n",
       "        var popup_66b2919a40ec921d1986381765f83e69 = L.popup({&quot;maxWidth&quot;: &quot;100%&quot;});\n",
       "\n",
       "        \n",
       "            \n",
       "                var html_7e0314d4976441700d0600ece5908f09 = $(`&lt;div id=&quot;html_7e0314d4976441700d0600ece5908f09&quot; style=&quot;width: 100.0%; height: 100.0%;&quot;&gt;PICA04&lt;/div&gt;`)[0];\n",
       "                popup_66b2919a40ec921d1986381765f83e69.setContent(html_7e0314d4976441700d0600ece5908f09);\n",
       "            \n",
       "        \n",
       "\n",
       "        circle_marker_bc565c93c59d9e343d92850f59eacf7a.bindPopup(popup_66b2919a40ec921d1986381765f83e69)\n",
       "        ;\n",
       "\n",
       "        \n",
       "    \n",
       "    \n",
       "            var circle_marker_45d88546e80111dffa02d8ce42926d60 = L.circleMarker(\n",
       "                [46.15331, -122.15142],\n",
       "                {&quot;bubblingMouseEvents&quot;: true, &quot;color&quot;: &quot;blue&quot;, &quot;dashArray&quot;: null, &quot;dashOffset&quot;: null, &quot;fill&quot;: true, &quot;fillColor&quot;: &quot;blue&quot;, &quot;fillOpacity&quot;: 0.01, &quot;fillRule&quot;: &quot;evenodd&quot;, &quot;lineCap&quot;: &quot;round&quot;, &quot;lineJoin&quot;: &quot;round&quot;, &quot;opacity&quot;: 1.0, &quot;radius&quot;: 10.0, &quot;stroke&quot;: true, &quot;weight&quot;: 3}\n",
       "            ).addTo(map_4aa7168e12f739e6cf27b55356e590e0);\n",
       "        \n",
       "    \n",
       "        var popup_e634187466197c2fa3fcba00c11a97e8 = L.popup({&quot;maxWidth&quot;: &quot;100%&quot;});\n",
       "\n",
       "        \n",
       "            \n",
       "                var html_3fb3234fac2849196856914c521daf92 = $(`&lt;div id=&quot;html_3fb3234fac2849196856914c521daf92&quot; style=&quot;width: 100.0%; height: 100.0%;&quot;&gt;PICA03&lt;/div&gt;`)[0];\n",
       "                popup_e634187466197c2fa3fcba00c11a97e8.setContent(html_3fb3234fac2849196856914c521daf92);\n",
       "            \n",
       "        \n",
       "\n",
       "        circle_marker_45d88546e80111dffa02d8ce42926d60.bindPopup(popup_e634187466197c2fa3fcba00c11a97e8)\n",
       "        ;\n",
       "\n",
       "        \n",
       "    \n",
       "    \n",
       "            var circle_marker_66feb16aba3d4fea744d644cf2431ab8 = L.circleMarker(\n",
       "                [46.15335, -122.15188],\n",
       "                {&quot;bubblingMouseEvents&quot;: true, &quot;color&quot;: &quot;blue&quot;, &quot;dashArray&quot;: null, &quot;dashOffset&quot;: null, &quot;fill&quot;: true, &quot;fillColor&quot;: &quot;blue&quot;, &quot;fillOpacity&quot;: 0.01, &quot;fillRule&quot;: &quot;evenodd&quot;, &quot;lineCap&quot;: &quot;round&quot;, &quot;lineJoin&quot;: &quot;round&quot;, &quot;opacity&quot;: 1.0, &quot;radius&quot;: 10.0, &quot;stroke&quot;: true, &quot;weight&quot;: 3}\n",
       "            ).addTo(map_4aa7168e12f739e6cf27b55356e590e0);\n",
       "        \n",
       "    \n",
       "        var popup_69adb3b036eacfac8ae45baf888f2efc = L.popup({&quot;maxWidth&quot;: &quot;100%&quot;});\n",
       "\n",
       "        \n",
       "            \n",
       "                var html_fc975e9f7e585732cbaa98a8a02b4c4c = $(`&lt;div id=&quot;html_fc975e9f7e585732cbaa98a8a02b4c4c&quot; style=&quot;width: 100.0%; height: 100.0%;&quot;&gt;PICA02&lt;/div&gt;`)[0];\n",
       "                popup_69adb3b036eacfac8ae45baf888f2efc.setContent(html_fc975e9f7e585732cbaa98a8a02b4c4c);\n",
       "            \n",
       "        \n",
       "\n",
       "        circle_marker_66feb16aba3d4fea744d644cf2431ab8.bindPopup(popup_69adb3b036eacfac8ae45baf888f2efc)\n",
       "        ;\n",
       "\n",
       "        \n",
       "    \n",
       "    \n",
       "            var circle_marker_555038032f252aa5ef90200c63420dee = L.circleMarker(\n",
       "                [46.15334, -122.1523],\n",
       "                {&quot;bubblingMouseEvents&quot;: true, &quot;color&quot;: &quot;blue&quot;, &quot;dashArray&quot;: null, &quot;dashOffset&quot;: null, &quot;fill&quot;: true, &quot;fillColor&quot;: &quot;blue&quot;, &quot;fillOpacity&quot;: 0.01, &quot;fillRule&quot;: &quot;evenodd&quot;, &quot;lineCap&quot;: &quot;round&quot;, &quot;lineJoin&quot;: &quot;round&quot;, &quot;opacity&quot;: 1.0, &quot;radius&quot;: 10.0, &quot;stroke&quot;: true, &quot;weight&quot;: 3}\n",
       "            ).addTo(map_4aa7168e12f739e6cf27b55356e590e0);\n",
       "        \n",
       "    \n",
       "        var popup_4a073496487e434c6a5913590e288447 = L.popup({&quot;maxWidth&quot;: &quot;100%&quot;});\n",
       "\n",
       "        \n",
       "            \n",
       "                var html_5b9f6c268267ce4f1a7b9404ba1bc539 = $(`&lt;div id=&quot;html_5b9f6c268267ce4f1a7b9404ba1bc539&quot; style=&quot;width: 100.0%; height: 100.0%;&quot;&gt;PICA01&lt;/div&gt;`)[0];\n",
       "                popup_4a073496487e434c6a5913590e288447.setContent(html_5b9f6c268267ce4f1a7b9404ba1bc539);\n",
       "            \n",
       "        \n",
       "\n",
       "        circle_marker_555038032f252aa5ef90200c63420dee.bindPopup(popup_4a073496487e434c6a5913590e288447)\n",
       "        ;\n",
       "\n",
       "        \n",
       "    \n",
       "    \n",
       "            var circle_marker_13455bb736874a2e1e3e43ec83ec28fb = L.circleMarker(\n",
       "                [46.1766, -122.22276],\n",
       "                {&quot;bubblingMouseEvents&quot;: true, &quot;color&quot;: &quot;blue&quot;, &quot;dashArray&quot;: null, &quot;dashOffset&quot;: null, &quot;fill&quot;: true, &quot;fillColor&quot;: &quot;blue&quot;, &quot;fillOpacity&quot;: 0.01, &quot;fillRule&quot;: &quot;evenodd&quot;, &quot;lineCap&quot;: &quot;round&quot;, &quot;lineJoin&quot;: &quot;round&quot;, &quot;opacity&quot;: 1.0, &quot;radius&quot;: 10.0, &quot;stroke&quot;: true, &quot;weight&quot;: 3}\n",
       "            ).addTo(map_4aa7168e12f739e6cf27b55356e590e0);\n",
       "        \n",
       "    \n",
       "        var popup_c0926185ea183a7d8df93c93018f51f7 = L.popup({&quot;maxWidth&quot;: &quot;100%&quot;});\n",
       "\n",
       "        \n",
       "            \n",
       "                var html_bbdd1c7a0f9dc01847fdd837d522272d = $(`&lt;div id=&quot;html_bbdd1c7a0f9dc01847fdd837d522272d&quot; style=&quot;width: 100.0%; height: 100.0%;&quot;&gt;LAHR02&lt;/div&gt;`)[0];\n",
       "                popup_c0926185ea183a7d8df93c93018f51f7.setContent(html_bbdd1c7a0f9dc01847fdd837d522272d);\n",
       "            \n",
       "        \n",
       "\n",
       "        circle_marker_13455bb736874a2e1e3e43ec83ec28fb.bindPopup(popup_c0926185ea183a7d8df93c93018f51f7)\n",
       "        ;\n",
       "\n",
       "        \n",
       "    \n",
       "    \n",
       "            var circle_marker_69284d35a6a8cc6f1c1c9a4094ff123f = L.circleMarker(\n",
       "                [46.1763, -122.22349],\n",
       "                {&quot;bubblingMouseEvents&quot;: true, &quot;color&quot;: &quot;blue&quot;, &quot;dashArray&quot;: null, &quot;dashOffset&quot;: null, &quot;fill&quot;: true, &quot;fillColor&quot;: &quot;blue&quot;, &quot;fillOpacity&quot;: 0.01, &quot;fillRule&quot;: &quot;evenodd&quot;, &quot;lineCap&quot;: &quot;round&quot;, &quot;lineJoin&quot;: &quot;round&quot;, &quot;opacity&quot;: 1.0, &quot;radius&quot;: 10.0, &quot;stroke&quot;: true, &quot;weight&quot;: 3}\n",
       "            ).addTo(map_4aa7168e12f739e6cf27b55356e590e0);\n",
       "        \n",
       "    \n",
       "        var popup_317e63db25d193b8f93417043dec7b05 = L.popup({&quot;maxWidth&quot;: &quot;100%&quot;});\n",
       "\n",
       "        \n",
       "            \n",
       "                var html_ade13e131a1cbe3c3157166d87b300f7 = $(`&lt;div id=&quot;html_ade13e131a1cbe3c3157166d87b300f7&quot; style=&quot;width: 100.0%; height: 100.0%;&quot;&gt;LAHR01&lt;/div&gt;`)[0];\n",
       "                popup_317e63db25d193b8f93417043dec7b05.setContent(html_ade13e131a1cbe3c3157166d87b300f7);\n",
       "            \n",
       "        \n",
       "\n",
       "        circle_marker_69284d35a6a8cc6f1c1c9a4094ff123f.bindPopup(popup_317e63db25d193b8f93417043dec7b05)\n",
       "        ;\n",
       "\n",
       "        \n",
       "    \n",
       "    \n",
       "            var circle_marker_01b29d214a656bc97d22d3fd84ec4e8f = L.circleMarker(\n",
       "                [46.18361, -122.22518],\n",
       "                {&quot;bubblingMouseEvents&quot;: true, &quot;color&quot;: &quot;blue&quot;, &quot;dashArray&quot;: null, &quot;dashOffset&quot;: null, &quot;fill&quot;: true, &quot;fillColor&quot;: &quot;blue&quot;, &quot;fillOpacity&quot;: 0.01, &quot;fillRule&quot;: &quot;evenodd&quot;, &quot;lineCap&quot;: &quot;round&quot;, &quot;lineJoin&quot;: &quot;round&quot;, &quot;opacity&quot;: 1.0, &quot;radius&quot;: 10.0, &quot;stroke&quot;: true, &quot;weight&quot;: 3}\n",
       "            ).addTo(map_4aa7168e12f739e6cf27b55356e590e0);\n",
       "        \n",
       "    \n",
       "        var popup_a77e42f98eb7ec7f4aefa8f32e02e3ea = L.popup({&quot;maxWidth&quot;: &quot;100%&quot;});\n",
       "\n",
       "        \n",
       "            \n",
       "                var html_ffb6d196f152338e86a3e808e422c01f = $(`&lt;div id=&quot;html_ffb6d196f152338e86a3e808e422c01f&quot; style=&quot;width: 100.0%; height: 100.0%;&quot;&gt;LAH08&lt;/div&gt;`)[0];\n",
       "                popup_a77e42f98eb7ec7f4aefa8f32e02e3ea.setContent(html_ffb6d196f152338e86a3e808e422c01f);\n",
       "            \n",
       "        \n",
       "\n",
       "        circle_marker_01b29d214a656bc97d22d3fd84ec4e8f.bindPopup(popup_a77e42f98eb7ec7f4aefa8f32e02e3ea)\n",
       "        ;\n",
       "\n",
       "        \n",
       "    \n",
       "    \n",
       "            var circle_marker_c482f52448e0c9559af61fdd8c51775d = L.circleMarker(\n",
       "                [46.18329, -122.22573],\n",
       "                {&quot;bubblingMouseEvents&quot;: true, &quot;color&quot;: &quot;blue&quot;, &quot;dashArray&quot;: null, &quot;dashOffset&quot;: null, &quot;fill&quot;: true, &quot;fillColor&quot;: &quot;blue&quot;, &quot;fillOpacity&quot;: 0.01, &quot;fillRule&quot;: &quot;evenodd&quot;, &quot;lineCap&quot;: &quot;round&quot;, &quot;lineJoin&quot;: &quot;round&quot;, &quot;opacity&quot;: 1.0, &quot;radius&quot;: 10.0, &quot;stroke&quot;: true, &quot;weight&quot;: 3}\n",
       "            ).addTo(map_4aa7168e12f739e6cf27b55356e590e0);\n",
       "        \n",
       "    \n",
       "        var popup_a21ef8298c03ec23238d23b868ae2375 = L.popup({&quot;maxWidth&quot;: &quot;100%&quot;});\n",
       "\n",
       "        \n",
       "            \n",
       "                var html_21bc1d65a38aa2bed9bf9fe4f5af7b71 = $(`&lt;div id=&quot;html_21bc1d65a38aa2bed9bf9fe4f5af7b71&quot; style=&quot;width: 100.0%; height: 100.0%;&quot;&gt;LAH07&lt;/div&gt;`)[0];\n",
       "                popup_a21ef8298c03ec23238d23b868ae2375.setContent(html_21bc1d65a38aa2bed9bf9fe4f5af7b71);\n",
       "            \n",
       "        \n",
       "\n",
       "        circle_marker_c482f52448e0c9559af61fdd8c51775d.bindPopup(popup_a21ef8298c03ec23238d23b868ae2375)\n",
       "        ;\n",
       "\n",
       "        \n",
       "    \n",
       "    \n",
       "            var circle_marker_8c8e8ba797a4917ecea125b924a4c0f9 = L.circleMarker(\n",
       "                [46.18289, -122.22626],\n",
       "                {&quot;bubblingMouseEvents&quot;: true, &quot;color&quot;: &quot;blue&quot;, &quot;dashArray&quot;: null, &quot;dashOffset&quot;: null, &quot;fill&quot;: true, &quot;fillColor&quot;: &quot;blue&quot;, &quot;fillOpacity&quot;: 0.01, &quot;fillRule&quot;: &quot;evenodd&quot;, &quot;lineCap&quot;: &quot;round&quot;, &quot;lineJoin&quot;: &quot;round&quot;, &quot;opacity&quot;: 1.0, &quot;radius&quot;: 10.0, &quot;stroke&quot;: true, &quot;weight&quot;: 3}\n",
       "            ).addTo(map_4aa7168e12f739e6cf27b55356e590e0);\n",
       "        \n",
       "    \n",
       "        var popup_9800d4dfbac63459a01ba6fc4e21ff6b = L.popup({&quot;maxWidth&quot;: &quot;100%&quot;});\n",
       "\n",
       "        \n",
       "            \n",
       "                var html_14c80dacdae0858fcc76943fbeded261 = $(`&lt;div id=&quot;html_14c80dacdae0858fcc76943fbeded261&quot; style=&quot;width: 100.0%; height: 100.0%;&quot;&gt;LAH06&lt;/div&gt;`)[0];\n",
       "                popup_9800d4dfbac63459a01ba6fc4e21ff6b.setContent(html_14c80dacdae0858fcc76943fbeded261);\n",
       "            \n",
       "        \n",
       "\n",
       "        circle_marker_8c8e8ba797a4917ecea125b924a4c0f9.bindPopup(popup_9800d4dfbac63459a01ba6fc4e21ff6b)\n",
       "        ;\n",
       "\n",
       "        \n",
       "    \n",
       "    \n",
       "            var circle_marker_f1a40fb01674fb829c73015d57ea6ab2 = L.circleMarker(\n",
       "                [46.18262, -122.22683],\n",
       "                {&quot;bubblingMouseEvents&quot;: true, &quot;color&quot;: &quot;blue&quot;, &quot;dashArray&quot;: null, &quot;dashOffset&quot;: null, &quot;fill&quot;: true, &quot;fillColor&quot;: &quot;blue&quot;, &quot;fillOpacity&quot;: 0.01, &quot;fillRule&quot;: &quot;evenodd&quot;, &quot;lineCap&quot;: &quot;round&quot;, &quot;lineJoin&quot;: &quot;round&quot;, &quot;opacity&quot;: 1.0, &quot;radius&quot;: 10.0, &quot;stroke&quot;: true, &quot;weight&quot;: 3}\n",
       "            ).addTo(map_4aa7168e12f739e6cf27b55356e590e0);\n",
       "        \n",
       "    \n",
       "        var popup_36f9240f031fe4b49f82cf0303aad22e = L.popup({&quot;maxWidth&quot;: &quot;100%&quot;});\n",
       "\n",
       "        \n",
       "            \n",
       "                var html_fcd210d2d72a9b284bf53f38a58e5168 = $(`&lt;div id=&quot;html_fcd210d2d72a9b284bf53f38a58e5168&quot; style=&quot;width: 100.0%; height: 100.0%;&quot;&gt;LAH05&lt;/div&gt;`)[0];\n",
       "                popup_36f9240f031fe4b49f82cf0303aad22e.setContent(html_fcd210d2d72a9b284bf53f38a58e5168);\n",
       "            \n",
       "        \n",
       "\n",
       "        circle_marker_f1a40fb01674fb829c73015d57ea6ab2.bindPopup(popup_36f9240f031fe4b49f82cf0303aad22e)\n",
       "        ;\n",
       "\n",
       "        \n",
       "    \n",
       "    \n",
       "            var circle_marker_7334d83b03ff44dd32debafffdee16ff = L.circleMarker(\n",
       "                [46.18229, -122.22757],\n",
       "                {&quot;bubblingMouseEvents&quot;: true, &quot;color&quot;: &quot;blue&quot;, &quot;dashArray&quot;: null, &quot;dashOffset&quot;: null, &quot;fill&quot;: true, &quot;fillColor&quot;: &quot;blue&quot;, &quot;fillOpacity&quot;: 0.01, &quot;fillRule&quot;: &quot;evenodd&quot;, &quot;lineCap&quot;: &quot;round&quot;, &quot;lineJoin&quot;: &quot;round&quot;, &quot;opacity&quot;: 1.0, &quot;radius&quot;: 10.0, &quot;stroke&quot;: true, &quot;weight&quot;: 3}\n",
       "            ).addTo(map_4aa7168e12f739e6cf27b55356e590e0);\n",
       "        \n",
       "    \n",
       "        var popup_5302026026e86c48d0baa09cd5cbae8a = L.popup({&quot;maxWidth&quot;: &quot;100%&quot;});\n",
       "\n",
       "        \n",
       "            \n",
       "                var html_0b3fc5827ab0667d1c5dc4bdac70400b = $(`&lt;div id=&quot;html_0b3fc5827ab0667d1c5dc4bdac70400b&quot; style=&quot;width: 100.0%; height: 100.0%;&quot;&gt;LAH04&lt;/div&gt;`)[0];\n",
       "                popup_5302026026e86c48d0baa09cd5cbae8a.setContent(html_0b3fc5827ab0667d1c5dc4bdac70400b);\n",
       "            \n",
       "        \n",
       "\n",
       "        circle_marker_7334d83b03ff44dd32debafffdee16ff.bindPopup(popup_5302026026e86c48d0baa09cd5cbae8a)\n",
       "        ;\n",
       "\n",
       "        \n",
       "    \n",
       "    \n",
       "            var circle_marker_319f353c5a3482828d1cd8ea2f78b69a = L.circleMarker(\n",
       "                [46.18201, -122.21238],\n",
       "                {&quot;bubblingMouseEvents&quot;: true, &quot;color&quot;: &quot;blue&quot;, &quot;dashArray&quot;: null, &quot;dashOffset&quot;: null, &quot;fill&quot;: true, &quot;fillColor&quot;: &quot;blue&quot;, &quot;fillOpacity&quot;: 0.01, &quot;fillRule&quot;: &quot;evenodd&quot;, &quot;lineCap&quot;: &quot;round&quot;, &quot;lineJoin&quot;: &quot;round&quot;, &quot;opacity&quot;: 1.0, &quot;radius&quot;: 10.0, &quot;stroke&quot;: true, &quot;weight&quot;: 3}\n",
       "            ).addTo(map_4aa7168e12f739e6cf27b55356e590e0);\n",
       "        \n",
       "    \n",
       "        var popup_2e2e2ce2782cce6f7cd9f5e111154b14 = L.popup({&quot;maxWidth&quot;: &quot;100%&quot;});\n",
       "\n",
       "        \n",
       "            \n",
       "                var html_5c8202a8af808eb9ea4dea444d91077c = $(`&lt;div id=&quot;html_5c8202a8af808eb9ea4dea444d91077c&quot; style=&quot;width: 100.0%; height: 100.0%;&quot;&gt;BUCD05&lt;/div&gt;`)[0];\n",
       "                popup_2e2e2ce2782cce6f7cd9f5e111154b14.setContent(html_5c8202a8af808eb9ea4dea444d91077c);\n",
       "            \n",
       "        \n",
       "\n",
       "        circle_marker_319f353c5a3482828d1cd8ea2f78b69a.bindPopup(popup_2e2e2ce2782cce6f7cd9f5e111154b14)\n",
       "        ;\n",
       "\n",
       "        \n",
       "    \n",
       "    \n",
       "            var circle_marker_408f4d2e98a598634349c3dc477d5b5b = L.circleMarker(\n",
       "                [46.18114, -122.21467],\n",
       "                {&quot;bubblingMouseEvents&quot;: true, &quot;color&quot;: &quot;blue&quot;, &quot;dashArray&quot;: null, &quot;dashOffset&quot;: null, &quot;fill&quot;: true, &quot;fillColor&quot;: &quot;blue&quot;, &quot;fillOpacity&quot;: 0.01, &quot;fillRule&quot;: &quot;evenodd&quot;, &quot;lineCap&quot;: &quot;round&quot;, &quot;lineJoin&quot;: &quot;round&quot;, &quot;opacity&quot;: 1.0, &quot;radius&quot;: 10.0, &quot;stroke&quot;: true, &quot;weight&quot;: 3}\n",
       "            ).addTo(map_4aa7168e12f739e6cf27b55356e590e0);\n",
       "        \n",
       "    \n",
       "        var popup_c99ec7a63ee40a11403fd47b0592abd6 = L.popup({&quot;maxWidth&quot;: &quot;100%&quot;});\n",
       "\n",
       "        \n",
       "            \n",
       "                var html_cebd104d282b1b95f796c502b1fdb43f = $(`&lt;div id=&quot;html_cebd104d282b1b95f796c502b1fdb43f&quot; style=&quot;width: 100.0%; height: 100.0%;&quot;&gt;BUCD03&lt;/div&gt;`)[0];\n",
       "                popup_c99ec7a63ee40a11403fd47b0592abd6.setContent(html_cebd104d282b1b95f796c502b1fdb43f);\n",
       "            \n",
       "        \n",
       "\n",
       "        circle_marker_408f4d2e98a598634349c3dc477d5b5b.bindPopup(popup_c99ec7a63ee40a11403fd47b0592abd6)\n",
       "        ;\n",
       "\n",
       "        \n",
       "    \n",
       "    \n",
       "            var circle_marker_01b3aa566fc9c5e7c1a003473b5008f0 = L.circleMarker(\n",
       "                [46.1809, -122.21452],\n",
       "                {&quot;bubblingMouseEvents&quot;: true, &quot;color&quot;: &quot;blue&quot;, &quot;dashArray&quot;: null, &quot;dashOffset&quot;: null, &quot;fill&quot;: true, &quot;fillColor&quot;: &quot;blue&quot;, &quot;fillOpacity&quot;: 0.01, &quot;fillRule&quot;: &quot;evenodd&quot;, &quot;lineCap&quot;: &quot;round&quot;, &quot;lineJoin&quot;: &quot;round&quot;, &quot;opacity&quot;: 1.0, &quot;radius&quot;: 10.0, &quot;stroke&quot;: true, &quot;weight&quot;: 3}\n",
       "            ).addTo(map_4aa7168e12f739e6cf27b55356e590e0);\n",
       "        \n",
       "    \n",
       "        var popup_47ac1e9dfd15316010c1c6dcea1abd16 = L.popup({&quot;maxWidth&quot;: &quot;100%&quot;});\n",
       "\n",
       "        \n",
       "            \n",
       "                var html_f2813c6b11e6f98c8dca3e4b258f8a30 = $(`&lt;div id=&quot;html_f2813c6b11e6f98c8dca3e4b258f8a30&quot; style=&quot;width: 100.0%; height: 100.0%;&quot;&gt;BUCD02&lt;/div&gt;`)[0];\n",
       "                popup_47ac1e9dfd15316010c1c6dcea1abd16.setContent(html_f2813c6b11e6f98c8dca3e4b258f8a30);\n",
       "            \n",
       "        \n",
       "\n",
       "        circle_marker_01b3aa566fc9c5e7c1a003473b5008f0.bindPopup(popup_47ac1e9dfd15316010c1c6dcea1abd16)\n",
       "        ;\n",
       "\n",
       "        \n",
       "    \n",
       "    \n",
       "            var circle_marker_f6dba3bd526eb1f1d3458215db610183 = L.circleMarker(\n",
       "                [46.18049, -122.21561],\n",
       "                {&quot;bubblingMouseEvents&quot;: true, &quot;color&quot;: &quot;blue&quot;, &quot;dashArray&quot;: null, &quot;dashOffset&quot;: null, &quot;fill&quot;: true, &quot;fillColor&quot;: &quot;blue&quot;, &quot;fillOpacity&quot;: 0.01, &quot;fillRule&quot;: &quot;evenodd&quot;, &quot;lineCap&quot;: &quot;round&quot;, &quot;lineJoin&quot;: &quot;round&quot;, &quot;opacity&quot;: 1.0, &quot;radius&quot;: 10.0, &quot;stroke&quot;: true, &quot;weight&quot;: 3}\n",
       "            ).addTo(map_4aa7168e12f739e6cf27b55356e590e0);\n",
       "        \n",
       "    \n",
       "        var popup_f4614fe908b907116162e2a67da7a671 = L.popup({&quot;maxWidth&quot;: &quot;100%&quot;});\n",
       "\n",
       "        \n",
       "            \n",
       "                var html_c1618c5879e05fdb9569fb8a9549f9d8 = $(`&lt;div id=&quot;html_c1618c5879e05fdb9569fb8a9549f9d8&quot; style=&quot;width: 100.0%; height: 100.0%;&quot;&gt;BUCD01&lt;/div&gt;`)[0];\n",
       "                popup_f4614fe908b907116162e2a67da7a671.setContent(html_c1618c5879e05fdb9569fb8a9549f9d8);\n",
       "            \n",
       "        \n",
       "\n",
       "        circle_marker_f6dba3bd526eb1f1d3458215db610183.bindPopup(popup_f4614fe908b907116162e2a67da7a671)\n",
       "        ;\n",
       "\n",
       "        \n",
       "    \n",
       "    \n",
       "            var circle_marker_b21e3d29f6e04a9a3ac7f528154ca027 = L.circleMarker(\n",
       "                [46.18169, -122.21359],\n",
       "                {&quot;bubblingMouseEvents&quot;: true, &quot;color&quot;: &quot;blue&quot;, &quot;dashArray&quot;: null, &quot;dashOffset&quot;: null, &quot;fill&quot;: true, &quot;fillColor&quot;: &quot;blue&quot;, &quot;fillOpacity&quot;: 0.01, &quot;fillRule&quot;: &quot;evenodd&quot;, &quot;lineCap&quot;: &quot;round&quot;, &quot;lineJoin&quot;: &quot;round&quot;, &quot;opacity&quot;: 1.0, &quot;radius&quot;: 10.0, &quot;stroke&quot;: true, &quot;weight&quot;: 3}\n",
       "            ).addTo(map_4aa7168e12f739e6cf27b55356e590e0);\n",
       "        \n",
       "    \n",
       "        var popup_1274c094cdb0a907d108bbdfc6354e08 = L.popup({&quot;maxWidth&quot;: &quot;100%&quot;});\n",
       "\n",
       "        \n",
       "            \n",
       "                var html_1e27641b655a66d5a95ef89258c3b5c8 = $(`&lt;div id=&quot;html_1e27641b655a66d5a95ef89258c3b5c8&quot; style=&quot;width: 100.0%; height: 100.0%;&quot;&gt;BUCC03&lt;/div&gt;`)[0];\n",
       "                popup_1274c094cdb0a907d108bbdfc6354e08.setContent(html_1e27641b655a66d5a95ef89258c3b5c8);\n",
       "            \n",
       "        \n",
       "\n",
       "        circle_marker_b21e3d29f6e04a9a3ac7f528154ca027.bindPopup(popup_1274c094cdb0a907d108bbdfc6354e08)\n",
       "        ;\n",
       "\n",
       "        \n",
       "    \n",
       "    \n",
       "            var circle_marker_8ab9f5d3c26eef1b69099b2a49bba4eb = L.circleMarker(\n",
       "                [46.18142, -122.21414],\n",
       "                {&quot;bubblingMouseEvents&quot;: true, &quot;color&quot;: &quot;blue&quot;, &quot;dashArray&quot;: null, &quot;dashOffset&quot;: null, &quot;fill&quot;: true, &quot;fillColor&quot;: &quot;blue&quot;, &quot;fillOpacity&quot;: 0.01, &quot;fillRule&quot;: &quot;evenodd&quot;, &quot;lineCap&quot;: &quot;round&quot;, &quot;lineJoin&quot;: &quot;round&quot;, &quot;opacity&quot;: 1.0, &quot;radius&quot;: 10.0, &quot;stroke&quot;: true, &quot;weight&quot;: 3}\n",
       "            ).addTo(map_4aa7168e12f739e6cf27b55356e590e0);\n",
       "        \n",
       "    \n",
       "        var popup_7ba987d4f03695585d229f6c90297dd0 = L.popup({&quot;maxWidth&quot;: &quot;100%&quot;});\n",
       "\n",
       "        \n",
       "            \n",
       "                var html_3ad090afc86bcf2390b49bda24d140d8 = $(`&lt;div id=&quot;html_3ad090afc86bcf2390b49bda24d140d8&quot; style=&quot;width: 100.0%; height: 100.0%;&quot;&gt;BUCC02&lt;/div&gt;`)[0];\n",
       "                popup_7ba987d4f03695585d229f6c90297dd0.setContent(html_3ad090afc86bcf2390b49bda24d140d8);\n",
       "            \n",
       "        \n",
       "\n",
       "        circle_marker_8ab9f5d3c26eef1b69099b2a49bba4eb.bindPopup(popup_7ba987d4f03695585d229f6c90297dd0)\n",
       "        ;\n",
       "\n",
       "        \n",
       "    \n",
       "    \n",
       "            var circle_marker_a3be738c99dba1a72fa59e479bc9a47d = L.circleMarker(\n",
       "                [46.18114, -122.21467],\n",
       "                {&quot;bubblingMouseEvents&quot;: true, &quot;color&quot;: &quot;blue&quot;, &quot;dashArray&quot;: null, &quot;dashOffset&quot;: null, &quot;fill&quot;: true, &quot;fillColor&quot;: &quot;blue&quot;, &quot;fillOpacity&quot;: 0.01, &quot;fillRule&quot;: &quot;evenodd&quot;, &quot;lineCap&quot;: &quot;round&quot;, &quot;lineJoin&quot;: &quot;round&quot;, &quot;opacity&quot;: 1.0, &quot;radius&quot;: 10.0, &quot;stroke&quot;: true, &quot;weight&quot;: 3}\n",
       "            ).addTo(map_4aa7168e12f739e6cf27b55356e590e0);\n",
       "        \n",
       "    \n",
       "        var popup_eb7714621a6dac6ae9d3c533eb981c56 = L.popup({&quot;maxWidth&quot;: &quot;100%&quot;});\n",
       "\n",
       "        \n",
       "            \n",
       "                var html_91e20302f7af2db04c871346b8ade5e1 = $(`&lt;div id=&quot;html_91e20302f7af2db04c871346b8ade5e1&quot; style=&quot;width: 100.0%; height: 100.0%;&quot;&gt;BUCC01&lt;/div&gt;`)[0];\n",
       "                popup_eb7714621a6dac6ae9d3c533eb981c56.setContent(html_91e20302f7af2db04c871346b8ade5e1);\n",
       "            \n",
       "        \n",
       "\n",
       "        circle_marker_a3be738c99dba1a72fa59e479bc9a47d.bindPopup(popup_eb7714621a6dac6ae9d3c533eb981c56)\n",
       "        ;\n",
       "\n",
       "        \n",
       "    \n",
       "    \n",
       "            var circle_marker_bb1aa89d62a83ce0325f035ff4fc729a = L.circleMarker(\n",
       "                [46.18563, -122.22102],\n",
       "                {&quot;bubblingMouseEvents&quot;: true, &quot;color&quot;: &quot;blue&quot;, &quot;dashArray&quot;: null, &quot;dashOffset&quot;: null, &quot;fill&quot;: true, &quot;fillColor&quot;: &quot;blue&quot;, &quot;fillOpacity&quot;: 0.01, &quot;fillRule&quot;: &quot;evenodd&quot;, &quot;lineCap&quot;: &quot;round&quot;, &quot;lineJoin&quot;: &quot;round&quot;, &quot;opacity&quot;: 1.0, &quot;radius&quot;: 10.0, &quot;stroke&quot;: true, &quot;weight&quot;: 3}\n",
       "            ).addTo(map_4aa7168e12f739e6cf27b55356e590e0);\n",
       "        \n",
       "    \n",
       "        var popup_a54c516f220ddffd5bcb1bb6289f92ed = L.popup({&quot;maxWidth&quot;: &quot;100%&quot;});\n",
       "\n",
       "        \n",
       "            \n",
       "                var html_aa16b897492d1dd8f54c9f7e173bad2d = $(`&lt;div id=&quot;html_aa16b897492d1dd8f54c9f7e173bad2d&quot; style=&quot;width: 100.0%; height: 100.0%;&quot;&gt;BUCB07&lt;/div&gt;`)[0];\n",
       "                popup_a54c516f220ddffd5bcb1bb6289f92ed.setContent(html_aa16b897492d1dd8f54c9f7e173bad2d);\n",
       "            \n",
       "        \n",
       "\n",
       "        circle_marker_bb1aa89d62a83ce0325f035ff4fc729a.bindPopup(popup_a54c516f220ddffd5bcb1bb6289f92ed)\n",
       "        ;\n",
       "\n",
       "        \n",
       "    \n",
       "    \n",
       "            var circle_marker_e934b933a2a849b45ff92e4cd86c5b0e = L.circleMarker(\n",
       "                [46.18405, -122.22095],\n",
       "                {&quot;bubblingMouseEvents&quot;: true, &quot;color&quot;: &quot;blue&quot;, &quot;dashArray&quot;: null, &quot;dashOffset&quot;: null, &quot;fill&quot;: true, &quot;fillColor&quot;: &quot;blue&quot;, &quot;fillOpacity&quot;: 0.01, &quot;fillRule&quot;: &quot;evenodd&quot;, &quot;lineCap&quot;: &quot;round&quot;, &quot;lineJoin&quot;: &quot;round&quot;, &quot;opacity&quot;: 1.0, &quot;radius&quot;: 10.0, &quot;stroke&quot;: true, &quot;weight&quot;: 3}\n",
       "            ).addTo(map_4aa7168e12f739e6cf27b55356e590e0);\n",
       "        \n",
       "    \n",
       "        var popup_8f588b964b78ce3fd866db95b788afdb = L.popup({&quot;maxWidth&quot;: &quot;100%&quot;});\n",
       "\n",
       "        \n",
       "            \n",
       "                var html_9d7c412b9431501961368391b74c0fcb = $(`&lt;div id=&quot;html_9d7c412b9431501961368391b74c0fcb&quot; style=&quot;width: 100.0%; height: 100.0%;&quot;&gt;BUCB06&lt;/div&gt;`)[0];\n",
       "                popup_8f588b964b78ce3fd866db95b788afdb.setContent(html_9d7c412b9431501961368391b74c0fcb);\n",
       "            \n",
       "        \n",
       "\n",
       "        circle_marker_e934b933a2a849b45ff92e4cd86c5b0e.bindPopup(popup_8f588b964b78ce3fd866db95b788afdb)\n",
       "        ;\n",
       "\n",
       "        \n",
       "    \n",
       "    \n",
       "            var circle_marker_064db16c5c71f2bafffb5251f7daf11f = L.circleMarker(\n",
       "                [46.18193, -122.22138],\n",
       "                {&quot;bubblingMouseEvents&quot;: true, &quot;color&quot;: &quot;blue&quot;, &quot;dashArray&quot;: null, &quot;dashOffset&quot;: null, &quot;fill&quot;: true, &quot;fillColor&quot;: &quot;blue&quot;, &quot;fillOpacity&quot;: 0.01, &quot;fillRule&quot;: &quot;evenodd&quot;, &quot;lineCap&quot;: &quot;round&quot;, &quot;lineJoin&quot;: &quot;round&quot;, &quot;opacity&quot;: 1.0, &quot;radius&quot;: 10.0, &quot;stroke&quot;: true, &quot;weight&quot;: 3}\n",
       "            ).addTo(map_4aa7168e12f739e6cf27b55356e590e0);\n",
       "        \n",
       "    \n",
       "        var popup_e5d49c829d6f8ebeb7d15502aa617342 = L.popup({&quot;maxWidth&quot;: &quot;100%&quot;});\n",
       "\n",
       "        \n",
       "            \n",
       "                var html_756f2292589e56c6a709b28ef7d34299 = $(`&lt;div id=&quot;html_756f2292589e56c6a709b28ef7d34299&quot; style=&quot;width: 100.0%; height: 100.0%;&quot;&gt;BUCB05&lt;/div&gt;`)[0];\n",
       "                popup_e5d49c829d6f8ebeb7d15502aa617342.setContent(html_756f2292589e56c6a709b28ef7d34299);\n",
       "            \n",
       "        \n",
       "\n",
       "        circle_marker_064db16c5c71f2bafffb5251f7daf11f.bindPopup(popup_e5d49c829d6f8ebeb7d15502aa617342)\n",
       "        ;\n",
       "\n",
       "        \n",
       "    \n",
       "    \n",
       "            var circle_marker_66ee4bc16dcf6f79ee46f9d2902c2621 = L.circleMarker(\n",
       "                [46.18156, -122.22017],\n",
       "                {&quot;bubblingMouseEvents&quot;: true, &quot;color&quot;: &quot;blue&quot;, &quot;dashArray&quot;: null, &quot;dashOffset&quot;: null, &quot;fill&quot;: true, &quot;fillColor&quot;: &quot;blue&quot;, &quot;fillOpacity&quot;: 0.01, &quot;fillRule&quot;: &quot;evenodd&quot;, &quot;lineCap&quot;: &quot;round&quot;, &quot;lineJoin&quot;: &quot;round&quot;, &quot;opacity&quot;: 1.0, &quot;radius&quot;: 10.0, &quot;stroke&quot;: true, &quot;weight&quot;: 3}\n",
       "            ).addTo(map_4aa7168e12f739e6cf27b55356e590e0);\n",
       "        \n",
       "    \n",
       "        var popup_1d10e57efb3e517d447de2e4aec0be1b = L.popup({&quot;maxWidth&quot;: &quot;100%&quot;});\n",
       "\n",
       "        \n",
       "            \n",
       "                var html_582d1117e013f5976fdea69987d263a6 = $(`&lt;div id=&quot;html_582d1117e013f5976fdea69987d263a6&quot; style=&quot;width: 100.0%; height: 100.0%;&quot;&gt;BUCB04&lt;/div&gt;`)[0];\n",
       "                popup_1d10e57efb3e517d447de2e4aec0be1b.setContent(html_582d1117e013f5976fdea69987d263a6);\n",
       "            \n",
       "        \n",
       "\n",
       "        circle_marker_66ee4bc16dcf6f79ee46f9d2902c2621.bindPopup(popup_1d10e57efb3e517d447de2e4aec0be1b)\n",
       "        ;\n",
       "\n",
       "        \n",
       "    \n",
       "    \n",
       "            var circle_marker_83a4bac3ab035e19f1411fa50a6ba1b4 = L.circleMarker(\n",
       "                [46.1801, -122.21829],\n",
       "                {&quot;bubblingMouseEvents&quot;: true, &quot;color&quot;: &quot;blue&quot;, &quot;dashArray&quot;: null, &quot;dashOffset&quot;: null, &quot;fill&quot;: true, &quot;fillColor&quot;: &quot;blue&quot;, &quot;fillOpacity&quot;: 0.01, &quot;fillRule&quot;: &quot;evenodd&quot;, &quot;lineCap&quot;: &quot;round&quot;, &quot;lineJoin&quot;: &quot;round&quot;, &quot;opacity&quot;: 1.0, &quot;radius&quot;: 10.0, &quot;stroke&quot;: true, &quot;weight&quot;: 3}\n",
       "            ).addTo(map_4aa7168e12f739e6cf27b55356e590e0);\n",
       "        \n",
       "    \n",
       "        var popup_dd5c5a16ad2c41ad81b01d293e9019d2 = L.popup({&quot;maxWidth&quot;: &quot;100%&quot;});\n",
       "\n",
       "        \n",
       "            \n",
       "                var html_e2ec2cbc79f503a7bd184a5c0d6230c8 = $(`&lt;div id=&quot;html_e2ec2cbc79f503a7bd184a5c0d6230c8&quot; style=&quot;width: 100.0%; height: 100.0%;&quot;&gt;BUCB03&lt;/div&gt;`)[0];\n",
       "                popup_dd5c5a16ad2c41ad81b01d293e9019d2.setContent(html_e2ec2cbc79f503a7bd184a5c0d6230c8);\n",
       "            \n",
       "        \n",
       "\n",
       "        circle_marker_83a4bac3ab035e19f1411fa50a6ba1b4.bindPopup(popup_dd5c5a16ad2c41ad81b01d293e9019d2)\n",
       "        ;\n",
       "\n",
       "        \n",
       "    \n",
       "    \n",
       "            var circle_marker_c57ce23bb999b64bb2975322a94f7614 = L.circleMarker(\n",
       "                [46.17926, -122.21702],\n",
       "                {&quot;bubblingMouseEvents&quot;: true, &quot;color&quot;: &quot;blue&quot;, &quot;dashArray&quot;: null, &quot;dashOffset&quot;: null, &quot;fill&quot;: true, &quot;fillColor&quot;: &quot;blue&quot;, &quot;fillOpacity&quot;: 0.01, &quot;fillRule&quot;: &quot;evenodd&quot;, &quot;lineCap&quot;: &quot;round&quot;, &quot;lineJoin&quot;: &quot;round&quot;, &quot;opacity&quot;: 1.0, &quot;radius&quot;: 10.0, &quot;stroke&quot;: true, &quot;weight&quot;: 3}\n",
       "            ).addTo(map_4aa7168e12f739e6cf27b55356e590e0);\n",
       "        \n",
       "    \n",
       "        var popup_83dbb240a2b853b502ae7d40c7ab32bc = L.popup({&quot;maxWidth&quot;: &quot;100%&quot;});\n",
       "\n",
       "        \n",
       "            \n",
       "                var html_64c0bfb9e9a2c874de7506dd3392381e = $(`&lt;div id=&quot;html_64c0bfb9e9a2c874de7506dd3392381e&quot; style=&quot;width: 100.0%; height: 100.0%;&quot;&gt;BUCB02&lt;/div&gt;`)[0];\n",
       "                popup_83dbb240a2b853b502ae7d40c7ab32bc.setContent(html_64c0bfb9e9a2c874de7506dd3392381e);\n",
       "            \n",
       "        \n",
       "\n",
       "        circle_marker_c57ce23bb999b64bb2975322a94f7614.bindPopup(popup_83dbb240a2b853b502ae7d40c7ab32bc)\n",
       "        ;\n",
       "\n",
       "        \n",
       "    \n",
       "    \n",
       "            var circle_marker_57244fedc56c05f8dabecd80b81c1f59 = L.circleMarker(\n",
       "                [46.17885, -122.21612],\n",
       "                {&quot;bubblingMouseEvents&quot;: true, &quot;color&quot;: &quot;blue&quot;, &quot;dashArray&quot;: null, &quot;dashOffset&quot;: null, &quot;fill&quot;: true, &quot;fillColor&quot;: &quot;blue&quot;, &quot;fillOpacity&quot;: 0.01, &quot;fillRule&quot;: &quot;evenodd&quot;, &quot;lineCap&quot;: &quot;round&quot;, &quot;lineJoin&quot;: &quot;round&quot;, &quot;opacity&quot;: 1.0, &quot;radius&quot;: 10.0, &quot;stroke&quot;: true, &quot;weight&quot;: 3}\n",
       "            ).addTo(map_4aa7168e12f739e6cf27b55356e590e0);\n",
       "        \n",
       "    \n",
       "        var popup_ff83cad256b070a716550c6ebf3df0b1 = L.popup({&quot;maxWidth&quot;: &quot;100%&quot;});\n",
       "\n",
       "        \n",
       "            \n",
       "                var html_40f94f6521545b8090bea1578ac94a3d = $(`&lt;div id=&quot;html_40f94f6521545b8090bea1578ac94a3d&quot; style=&quot;width: 100.0%; height: 100.0%;&quot;&gt;BUCB01&lt;/div&gt;`)[0];\n",
       "                popup_ff83cad256b070a716550c6ebf3df0b1.setContent(html_40f94f6521545b8090bea1578ac94a3d);\n",
       "            \n",
       "        \n",
       "\n",
       "        circle_marker_57244fedc56c05f8dabecd80b81c1f59.bindPopup(popup_ff83cad256b070a716550c6ebf3df0b1)\n",
       "        ;\n",
       "\n",
       "        \n",
       "    \n",
       "    \n",
       "            var circle_marker_891122da29b7ffaacdb2b6dcbbe4bd2c = L.circleMarker(\n",
       "                [46.17652, -122.22588],\n",
       "                {&quot;bubblingMouseEvents&quot;: true, &quot;color&quot;: &quot;blue&quot;, &quot;dashArray&quot;: null, &quot;dashOffset&quot;: null, &quot;fill&quot;: true, &quot;fillColor&quot;: &quot;blue&quot;, &quot;fillOpacity&quot;: 0.01, &quot;fillRule&quot;: &quot;evenodd&quot;, &quot;lineCap&quot;: &quot;round&quot;, &quot;lineJoin&quot;: &quot;round&quot;, &quot;opacity&quot;: 1.0, &quot;radius&quot;: 10.0, &quot;stroke&quot;: true, &quot;weight&quot;: 3}\n",
       "            ).addTo(map_4aa7168e12f739e6cf27b55356e590e0);\n",
       "        \n",
       "    \n",
       "        var popup_b6c524441ad8b0a6abc27e1bf720170b = L.popup({&quot;maxWidth&quot;: &quot;100%&quot;});\n",
       "\n",
       "        \n",
       "            \n",
       "                var html_3287f09e90ef2314e24236bcc5addc9d = $(`&lt;div id=&quot;html_3287f09e90ef2314e24236bcc5addc9d&quot; style=&quot;width: 100.0%; height: 100.0%;&quot;&gt;BUCA04&lt;/div&gt;`)[0];\n",
       "                popup_b6c524441ad8b0a6abc27e1bf720170b.setContent(html_3287f09e90ef2314e24236bcc5addc9d);\n",
       "            \n",
       "        \n",
       "\n",
       "        circle_marker_891122da29b7ffaacdb2b6dcbbe4bd2c.bindPopup(popup_b6c524441ad8b0a6abc27e1bf720170b)\n",
       "        ;\n",
       "\n",
       "        \n",
       "    \n",
       "    \n",
       "            var circle_marker_e75120c667a1352fbde502f39fd479aa = L.circleMarker(\n",
       "                [46.17568, -122.22549],\n",
       "                {&quot;bubblingMouseEvents&quot;: true, &quot;color&quot;: &quot;blue&quot;, &quot;dashArray&quot;: null, &quot;dashOffset&quot;: null, &quot;fill&quot;: true, &quot;fillColor&quot;: &quot;blue&quot;, &quot;fillOpacity&quot;: 0.01, &quot;fillRule&quot;: &quot;evenodd&quot;, &quot;lineCap&quot;: &quot;round&quot;, &quot;lineJoin&quot;: &quot;round&quot;, &quot;opacity&quot;: 1.0, &quot;radius&quot;: 10.0, &quot;stroke&quot;: true, &quot;weight&quot;: 3}\n",
       "            ).addTo(map_4aa7168e12f739e6cf27b55356e590e0);\n",
       "        \n",
       "    \n",
       "        var popup_a3baa11ca66f1bed0bb8ac3fdb8576e0 = L.popup({&quot;maxWidth&quot;: &quot;100%&quot;});\n",
       "\n",
       "        \n",
       "            \n",
       "                var html_b733e6c2542fd5c714055705dc0a9131 = $(`&lt;div id=&quot;html_b733e6c2542fd5c714055705dc0a9131&quot; style=&quot;width: 100.0%; height: 100.0%;&quot;&gt;BUCA03&lt;/div&gt;`)[0];\n",
       "                popup_a3baa11ca66f1bed0bb8ac3fdb8576e0.setContent(html_b733e6c2542fd5c714055705dc0a9131);\n",
       "            \n",
       "        \n",
       "\n",
       "        circle_marker_e75120c667a1352fbde502f39fd479aa.bindPopup(popup_a3baa11ca66f1bed0bb8ac3fdb8576e0)\n",
       "        ;\n",
       "\n",
       "        \n",
       "    \n",
       "    \n",
       "            var circle_marker_b8a8414d557977aa6cdd2546fc6c4f0b = L.circleMarker(\n",
       "                [46.17417, -122.22423],\n",
       "                {&quot;bubblingMouseEvents&quot;: true, &quot;color&quot;: &quot;blue&quot;, &quot;dashArray&quot;: null, &quot;dashOffset&quot;: null, &quot;fill&quot;: true, &quot;fillColor&quot;: &quot;blue&quot;, &quot;fillOpacity&quot;: 0.01, &quot;fillRule&quot;: &quot;evenodd&quot;, &quot;lineCap&quot;: &quot;round&quot;, &quot;lineJoin&quot;: &quot;round&quot;, &quot;opacity&quot;: 1.0, &quot;radius&quot;: 10.0, &quot;stroke&quot;: true, &quot;weight&quot;: 3}\n",
       "            ).addTo(map_4aa7168e12f739e6cf27b55356e590e0);\n",
       "        \n",
       "    \n",
       "        var popup_86be9fdbc63d73f2045a9c32c399424b = L.popup({&quot;maxWidth&quot;: &quot;100%&quot;});\n",
       "\n",
       "        \n",
       "            \n",
       "                var html_8b6151cad6f2cfed2b69294161ac7566 = $(`&lt;div id=&quot;html_8b6151cad6f2cfed2b69294161ac7566&quot; style=&quot;width: 100.0%; height: 100.0%;&quot;&gt;BUCA01&lt;/div&gt;`)[0];\n",
       "                popup_86be9fdbc63d73f2045a9c32c399424b.setContent(html_8b6151cad6f2cfed2b69294161ac7566);\n",
       "            \n",
       "        \n",
       "\n",
       "        circle_marker_b8a8414d557977aa6cdd2546fc6c4f0b.bindPopup(popup_86be9fdbc63d73f2045a9c32c399424b)\n",
       "        ;\n",
       "\n",
       "        \n",
       "    \n",
       "    \n",
       "            var circle_marker_0d359df1050d35f770ad651e773ee090 = L.circleMarker(\n",
       "                [46.21072, -122.1427],\n",
       "                {&quot;bubblingMouseEvents&quot;: true, &quot;color&quot;: &quot;blue&quot;, &quot;dashArray&quot;: null, &quot;dashOffset&quot;: null, &quot;fill&quot;: true, &quot;fillColor&quot;: &quot;blue&quot;, &quot;fillOpacity&quot;: 0.01, &quot;fillRule&quot;: &quot;evenodd&quot;, &quot;lineCap&quot;: &quot;round&quot;, &quot;lineJoin&quot;: &quot;round&quot;, &quot;opacity&quot;: 1.0, &quot;radius&quot;: 10.0, &quot;stroke&quot;: true, &quot;weight&quot;: 3}\n",
       "            ).addTo(map_4aa7168e12f739e6cf27b55356e590e0);\n",
       "        \n",
       "    \n",
       "        var popup_7abf7c9e4a87be2a140ec379c21c9b12 = L.popup({&quot;maxWidth&quot;: &quot;100%&quot;});\n",
       "\n",
       "        \n",
       "            \n",
       "                var html_1cbad2cc6d8616c59f29d2b914fc1d94 = $(`&lt;div id=&quot;html_1cbad2cc6d8616c59f29d2b914fc1d94&quot; style=&quot;width: 100.0%; height: 100.0%;&quot;&gt;ABPL10&lt;/div&gt;`)[0];\n",
       "                popup_7abf7c9e4a87be2a140ec379c21c9b12.setContent(html_1cbad2cc6d8616c59f29d2b914fc1d94);\n",
       "            \n",
       "        \n",
       "\n",
       "        circle_marker_0d359df1050d35f770ad651e773ee090.bindPopup(popup_7abf7c9e4a87be2a140ec379c21c9b12)\n",
       "        ;\n",
       "\n",
       "        \n",
       "    \n",
       "    \n",
       "            var circle_marker_c3c2c1c118f97faf4dd293856fa6c6fe = L.circleMarker(\n",
       "                [46.21103, -122.14135],\n",
       "                {&quot;bubblingMouseEvents&quot;: true, &quot;color&quot;: &quot;blue&quot;, &quot;dashArray&quot;: null, &quot;dashOffset&quot;: null, &quot;fill&quot;: true, &quot;fillColor&quot;: &quot;blue&quot;, &quot;fillOpacity&quot;: 0.01, &quot;fillRule&quot;: &quot;evenodd&quot;, &quot;lineCap&quot;: &quot;round&quot;, &quot;lineJoin&quot;: &quot;round&quot;, &quot;opacity&quot;: 1.0, &quot;radius&quot;: 10.0, &quot;stroke&quot;: true, &quot;weight&quot;: 3}\n",
       "            ).addTo(map_4aa7168e12f739e6cf27b55356e590e0);\n",
       "        \n",
       "    \n",
       "        var popup_e6099a5b144bce76d1ff5cf58d828ecc = L.popup({&quot;maxWidth&quot;: &quot;100%&quot;});\n",
       "\n",
       "        \n",
       "            \n",
       "                var html_841d34b46d2b84025aafb7689fceaa9e = $(`&lt;div id=&quot;html_841d34b46d2b84025aafb7689fceaa9e&quot; style=&quot;width: 100.0%; height: 100.0%;&quot;&gt;ABPL09&lt;/div&gt;`)[0];\n",
       "                popup_e6099a5b144bce76d1ff5cf58d828ecc.setContent(html_841d34b46d2b84025aafb7689fceaa9e);\n",
       "            \n",
       "        \n",
       "\n",
       "        circle_marker_c3c2c1c118f97faf4dd293856fa6c6fe.bindPopup(popup_e6099a5b144bce76d1ff5cf58d828ecc)\n",
       "        ;\n",
       "\n",
       "        \n",
       "    \n",
       "    \n",
       "            var circle_marker_2578b090f4d6b4d9a8e5370f1b57364a = L.circleMarker(\n",
       "                [46.21146, -122.1402],\n",
       "                {&quot;bubblingMouseEvents&quot;: true, &quot;color&quot;: &quot;blue&quot;, &quot;dashArray&quot;: null, &quot;dashOffset&quot;: null, &quot;fill&quot;: true, &quot;fillColor&quot;: &quot;blue&quot;, &quot;fillOpacity&quot;: 0.01, &quot;fillRule&quot;: &quot;evenodd&quot;, &quot;lineCap&quot;: &quot;round&quot;, &quot;lineJoin&quot;: &quot;round&quot;, &quot;opacity&quot;: 1.0, &quot;radius&quot;: 10.0, &quot;stroke&quot;: true, &quot;weight&quot;: 3}\n",
       "            ).addTo(map_4aa7168e12f739e6cf27b55356e590e0);\n",
       "        \n",
       "    \n",
       "        var popup_b2f7cce396dc1723924b3208d21a2606 = L.popup({&quot;maxWidth&quot;: &quot;100%&quot;});\n",
       "\n",
       "        \n",
       "            \n",
       "                var html_bb9a03871f2b019e0cd6df1c689a9649 = $(`&lt;div id=&quot;html_bb9a03871f2b019e0cd6df1c689a9649&quot; style=&quot;width: 100.0%; height: 100.0%;&quot;&gt;ABPL08&lt;/div&gt;`)[0];\n",
       "                popup_b2f7cce396dc1723924b3208d21a2606.setContent(html_bb9a03871f2b019e0cd6df1c689a9649);\n",
       "            \n",
       "        \n",
       "\n",
       "        circle_marker_2578b090f4d6b4d9a8e5370f1b57364a.bindPopup(popup_b2f7cce396dc1723924b3208d21a2606)\n",
       "        ;\n",
       "\n",
       "        \n",
       "    \n",
       "    \n",
       "            var circle_marker_8de35b1989fc08912e5fbe46a1f2345d = L.circleMarker(\n",
       "                [46.21112, -122.14214],\n",
       "                {&quot;bubblingMouseEvents&quot;: true, &quot;color&quot;: &quot;blue&quot;, &quot;dashArray&quot;: null, &quot;dashOffset&quot;: null, &quot;fill&quot;: true, &quot;fillColor&quot;: &quot;blue&quot;, &quot;fillOpacity&quot;: 0.01, &quot;fillRule&quot;: &quot;evenodd&quot;, &quot;lineCap&quot;: &quot;round&quot;, &quot;lineJoin&quot;: &quot;round&quot;, &quot;opacity&quot;: 1.0, &quot;radius&quot;: 10.0, &quot;stroke&quot;: true, &quot;weight&quot;: 3}\n",
       "            ).addTo(map_4aa7168e12f739e6cf27b55356e590e0);\n",
       "        \n",
       "    \n",
       "        var popup_b51f21dddae2215f9f6ce869af1b1287 = L.popup({&quot;maxWidth&quot;: &quot;100%&quot;});\n",
       "\n",
       "        \n",
       "            \n",
       "                var html_3a9fc2fb6e2ca8f63425a9aeb43512ea = $(`&lt;div id=&quot;html_3a9fc2fb6e2ca8f63425a9aeb43512ea&quot; style=&quot;width: 100.0%; height: 100.0%;&quot;&gt;ABPL07&lt;/div&gt;`)[0];\n",
       "                popup_b51f21dddae2215f9f6ce869af1b1287.setContent(html_3a9fc2fb6e2ca8f63425a9aeb43512ea);\n",
       "            \n",
       "        \n",
       "\n",
       "        circle_marker_8de35b1989fc08912e5fbe46a1f2345d.bindPopup(popup_b51f21dddae2215f9f6ce869af1b1287)\n",
       "        ;\n",
       "\n",
       "        \n",
       "    \n",
       "    \n",
       "            var circle_marker_cd4db22aeaec23945678c0811c4fe79b = L.circleMarker(\n",
       "                [46.21154, -122.14102],\n",
       "                {&quot;bubblingMouseEvents&quot;: true, &quot;color&quot;: &quot;blue&quot;, &quot;dashArray&quot;: null, &quot;dashOffset&quot;: null, &quot;fill&quot;: true, &quot;fillColor&quot;: &quot;blue&quot;, &quot;fillOpacity&quot;: 0.01, &quot;fillRule&quot;: &quot;evenodd&quot;, &quot;lineCap&quot;: &quot;round&quot;, &quot;lineJoin&quot;: &quot;round&quot;, &quot;opacity&quot;: 1.0, &quot;radius&quot;: 10.0, &quot;stroke&quot;: true, &quot;weight&quot;: 3}\n",
       "            ).addTo(map_4aa7168e12f739e6cf27b55356e590e0);\n",
       "        \n",
       "    \n",
       "        var popup_972c6652c9f3007837c1ef04605448bb = L.popup({&quot;maxWidth&quot;: &quot;100%&quot;});\n",
       "\n",
       "        \n",
       "            \n",
       "                var html_a4764fafef29e3eb37d79e958a4532aa = $(`&lt;div id=&quot;html_a4764fafef29e3eb37d79e958a4532aa&quot; style=&quot;width: 100.0%; height: 100.0%;&quot;&gt;ABPL06&lt;/div&gt;`)[0];\n",
       "                popup_972c6652c9f3007837c1ef04605448bb.setContent(html_a4764fafef29e3eb37d79e958a4532aa);\n",
       "            \n",
       "        \n",
       "\n",
       "        circle_marker_cd4db22aeaec23945678c0811c4fe79b.bindPopup(popup_972c6652c9f3007837c1ef04605448bb)\n",
       "        ;\n",
       "\n",
       "        \n",
       "    \n",
       "    \n",
       "            var circle_marker_3d52f3314a38b4cc03f403c8f23da2f9 = L.circleMarker(\n",
       "                [46.21199, -122.13993],\n",
       "                {&quot;bubblingMouseEvents&quot;: true, &quot;color&quot;: &quot;blue&quot;, &quot;dashArray&quot;: null, &quot;dashOffset&quot;: null, &quot;fill&quot;: true, &quot;fillColor&quot;: &quot;blue&quot;, &quot;fillOpacity&quot;: 0.01, &quot;fillRule&quot;: &quot;evenodd&quot;, &quot;lineCap&quot;: &quot;round&quot;, &quot;lineJoin&quot;: &quot;round&quot;, &quot;opacity&quot;: 1.0, &quot;radius&quot;: 10.0, &quot;stroke&quot;: true, &quot;weight&quot;: 3}\n",
       "            ).addTo(map_4aa7168e12f739e6cf27b55356e590e0);\n",
       "        \n",
       "    \n",
       "        var popup_e14afe2011b2ee8d7d2c653a0696c2e8 = L.popup({&quot;maxWidth&quot;: &quot;100%&quot;});\n",
       "\n",
       "        \n",
       "            \n",
       "                var html_6d953400ec6c3e1fbf81b58124e23259 = $(`&lt;div id=&quot;html_6d953400ec6c3e1fbf81b58124e23259&quot; style=&quot;width: 100.0%; height: 100.0%;&quot;&gt;ABPL05&lt;/div&gt;`)[0];\n",
       "                popup_e14afe2011b2ee8d7d2c653a0696c2e8.setContent(html_6d953400ec6c3e1fbf81b58124e23259);\n",
       "            \n",
       "        \n",
       "\n",
       "        circle_marker_3d52f3314a38b4cc03f403c8f23da2f9.bindPopup(popup_e14afe2011b2ee8d7d2c653a0696c2e8)\n",
       "        ;\n",
       "\n",
       "        \n",
       "    \n",
       "    \n",
       "            var circle_marker_45af7c6e25fd527de35e7c772fcfa4c6 = L.circleMarker(\n",
       "                [46.21107, -122.1429],\n",
       "                {&quot;bubblingMouseEvents&quot;: true, &quot;color&quot;: &quot;blue&quot;, &quot;dashArray&quot;: null, &quot;dashOffset&quot;: null, &quot;fill&quot;: true, &quot;fillColor&quot;: &quot;blue&quot;, &quot;fillOpacity&quot;: 0.01, &quot;fillRule&quot;: &quot;evenodd&quot;, &quot;lineCap&quot;: &quot;round&quot;, &quot;lineJoin&quot;: &quot;round&quot;, &quot;opacity&quot;: 1.0, &quot;radius&quot;: 10.0, &quot;stroke&quot;: true, &quot;weight&quot;: 3}\n",
       "            ).addTo(map_4aa7168e12f739e6cf27b55356e590e0);\n",
       "        \n",
       "    \n",
       "        var popup_211162af505abe9c9975ee0f460885d9 = L.popup({&quot;maxWidth&quot;: &quot;100%&quot;});\n",
       "\n",
       "        \n",
       "            \n",
       "                var html_37f452a55951246db15ee0d98ffa8be7 = $(`&lt;div id=&quot;html_37f452a55951246db15ee0d98ffa8be7&quot; style=&quot;width: 100.0%; height: 100.0%;&quot;&gt;ABPL04&lt;/div&gt;`)[0];\n",
       "                popup_211162af505abe9c9975ee0f460885d9.setContent(html_37f452a55951246db15ee0d98ffa8be7);\n",
       "            \n",
       "        \n",
       "\n",
       "        circle_marker_45af7c6e25fd527de35e7c772fcfa4c6.bindPopup(popup_211162af505abe9c9975ee0f460885d9)\n",
       "        ;\n",
       "\n",
       "        \n",
       "    \n",
       "    \n",
       "            var circle_marker_c0631d14e03b999540c1ab9fcb4aac7e = L.circleMarker(\n",
       "                [46.21149, -122.14177],\n",
       "                {&quot;bubblingMouseEvents&quot;: true, &quot;color&quot;: &quot;blue&quot;, &quot;dashArray&quot;: null, &quot;dashOffset&quot;: null, &quot;fill&quot;: true, &quot;fillColor&quot;: &quot;blue&quot;, &quot;fillOpacity&quot;: 0.01, &quot;fillRule&quot;: &quot;evenodd&quot;, &quot;lineCap&quot;: &quot;round&quot;, &quot;lineJoin&quot;: &quot;round&quot;, &quot;opacity&quot;: 1.0, &quot;radius&quot;: 10.0, &quot;stroke&quot;: true, &quot;weight&quot;: 3}\n",
       "            ).addTo(map_4aa7168e12f739e6cf27b55356e590e0);\n",
       "        \n",
       "    \n",
       "        var popup_76e24109363a9b486f258310f5b92620 = L.popup({&quot;maxWidth&quot;: &quot;100%&quot;});\n",
       "\n",
       "        \n",
       "            \n",
       "                var html_82c0487fd61c44fe9d498f34163d423b = $(`&lt;div id=&quot;html_82c0487fd61c44fe9d498f34163d423b&quot; style=&quot;width: 100.0%; height: 100.0%;&quot;&gt;ABPL03&lt;/div&gt;`)[0];\n",
       "                popup_76e24109363a9b486f258310f5b92620.setContent(html_82c0487fd61c44fe9d498f34163d423b);\n",
       "            \n",
       "        \n",
       "\n",
       "        circle_marker_c0631d14e03b999540c1ab9fcb4aac7e.bindPopup(popup_76e24109363a9b486f258310f5b92620)\n",
       "        ;\n",
       "\n",
       "        \n",
       "    \n",
       "    \n",
       "            var circle_marker_af7ca6c3a82951b14784af6605b031fb = L.circleMarker(\n",
       "                [46.21192, -122.14061],\n",
       "                {&quot;bubblingMouseEvents&quot;: true, &quot;color&quot;: &quot;blue&quot;, &quot;dashArray&quot;: null, &quot;dashOffset&quot;: null, &quot;fill&quot;: true, &quot;fillColor&quot;: &quot;blue&quot;, &quot;fillOpacity&quot;: 0.01, &quot;fillRule&quot;: &quot;evenodd&quot;, &quot;lineCap&quot;: &quot;round&quot;, &quot;lineJoin&quot;: &quot;round&quot;, &quot;opacity&quot;: 1.0, &quot;radius&quot;: 10.0, &quot;stroke&quot;: true, &quot;weight&quot;: 3}\n",
       "            ).addTo(map_4aa7168e12f739e6cf27b55356e590e0);\n",
       "        \n",
       "    \n",
       "        var popup_a0503897d3677e38fdeeb355e291d3d9 = L.popup({&quot;maxWidth&quot;: &quot;100%&quot;});\n",
       "\n",
       "        \n",
       "            \n",
       "                var html_36faa79c8505969699e37dd320710452 = $(`&lt;div id=&quot;html_36faa79c8505969699e37dd320710452&quot; style=&quot;width: 100.0%; height: 100.0%;&quot;&gt;ABPL02&lt;/div&gt;`)[0];\n",
       "                popup_a0503897d3677e38fdeeb355e291d3d9.setContent(html_36faa79c8505969699e37dd320710452);\n",
       "            \n",
       "        \n",
       "\n",
       "        circle_marker_af7ca6c3a82951b14784af6605b031fb.bindPopup(popup_a0503897d3677e38fdeeb355e291d3d9)\n",
       "        ;\n",
       "\n",
       "        \n",
       "    \n",
       "    \n",
       "            var circle_marker_a208237b01a02cafb17894f278c96c94 = L.circleMarker(\n",
       "                [46.2124, -122.13956],\n",
       "                {&quot;bubblingMouseEvents&quot;: true, &quot;color&quot;: &quot;blue&quot;, &quot;dashArray&quot;: null, &quot;dashOffset&quot;: null, &quot;fill&quot;: true, &quot;fillColor&quot;: &quot;blue&quot;, &quot;fillOpacity&quot;: 0.01, &quot;fillRule&quot;: &quot;evenodd&quot;, &quot;lineCap&quot;: &quot;round&quot;, &quot;lineJoin&quot;: &quot;round&quot;, &quot;opacity&quot;: 1.0, &quot;radius&quot;: 10.0, &quot;stroke&quot;: true, &quot;weight&quot;: 3}\n",
       "            ).addTo(map_4aa7168e12f739e6cf27b55356e590e0);\n",
       "        \n",
       "    \n",
       "        var popup_384c6396ae95cf2f019113bfe576b8a5 = L.popup({&quot;maxWidth&quot;: &quot;100%&quot;});\n",
       "\n",
       "        \n",
       "            \n",
       "                var html_72b5a9fb0280326bb48d55ea98000edf = $(`&lt;div id=&quot;html_72b5a9fb0280326bb48d55ea98000edf&quot; style=&quot;width: 100.0%; height: 100.0%;&quot;&gt;ABPL01&lt;/div&gt;`)[0];\n",
       "                popup_384c6396ae95cf2f019113bfe576b8a5.setContent(html_72b5a9fb0280326bb48d55ea98000edf);\n",
       "            \n",
       "        \n",
       "\n",
       "        circle_marker_a208237b01a02cafb17894f278c96c94.bindPopup(popup_384c6396ae95cf2f019113bfe576b8a5)\n",
       "        ;\n",
       "\n",
       "        \n",
       "    \n",
       "&lt;/script&gt;\n",
       "&lt;/html&gt;\" style=\"position:absolute;width:100%;height:100%;left:0;top:0;border:none !important;\" allowfullscreen webkitallowfullscreen mozallowfullscreen></iframe></div></div>"
      ],
      "text/plain": [
       "<datascience.maps.Map at 0x79c00a9bbf40>"
      ]
     },
     "execution_count": 10,
     "metadata": {},
     "output_type": "execute_result"
    }
   ],
   "source": [
    "MSH_PLOT = MSH_PLOT.with_columns('NLONG',-1*(MSH_PLOT.column('LONG')))\n",
    "MSH_map = MSH_PLOT.select('LAT', 'NLONG', 'PLOT_CODE').relabel('PLOT_CODE', 'labels')\n",
    "MSH_coordinates = (46.191387, -122.195618)\n",
    "OurMap = Map(location=MSH_coordinates, zoom_start=10, width=500, height=500,)\n",
    "#Circle.map_table(MSH_map, color='blue',radius_scale=9,radius_in_meters=True)\n",
    "OurMap.overlay(MSH_map, color='blue', opacity=0.01)"
   ]
  },
  {
   "cell_type": "code",
   "execution_count": null,
   "metadata": {},
   "outputs": [],
   "source": []
  },
  {
   "cell_type": "code",
   "execution_count": null,
   "metadata": {},
   "outputs": [],
   "source": []
  },
  {
   "cell_type": "markdown",
   "metadata": {},
   "source": []
  },
  {
   "cell_type": "markdown",
   "metadata": {
    "editable": true,
    "slideshow": {
     "slide_type": ""
    },
    "tags": []
   },
   "source": [
    "### <font color='green'> ***Question 2***</font>\n",
    "Identify two plots with unique `PLOT_NAME`'s to study based on mapped location and characteristics given in \"data/MSH_PLOT_DESCRIPTORS2.csv\" file. Use a detailed markdown cell to provide reasons for your two choices of plots. Include differences and similarities."
   ]
  },
  {
   "cell_type": "code",
   "execution_count": 12,
   "metadata": {
    "editable": true,
    "slideshow": {
     "slide_type": ""
    },
    "tags": []
   },
   "outputs": [
    {
     "data": {
      "text/html": [
       "<table border=\"1\" class=\"dataframe\">\n",
       "    <thead>\n",
       "        <tr>\n",
       "            <th>PLOT_ID</th> <th>PLOT_NAME</th> <th>PLOT_NUMBER</th> <th>YEAR</th> <th>RICHNESS</th> <th>COVER_%</th> <th>HPRIME</th> <th>EVENNESS</th> <th>FREQUENCY</th>\n",
       "        </tr>\n",
       "    </thead>\n",
       "    <tbody>\n",
       "        <tr>\n",
       "            <td>ABPL011995</td> <td>ABPL     </td> <td>1          </td> <td>1995</td> <td>14      </td> <td>2.2    </td> <td>2.41  </td> <td>0.913   </td> <td>7.7      </td>\n",
       "        </tr>\n",
       "        <tr>\n",
       "            <td>ABPL011996</td> <td>ABPL     </td> <td>1          </td> <td>1996</td> <td>17      </td> <td>2.9    </td> <td>2.524 </td> <td>0.891   </td> <td>8.1      </td>\n",
       "        </tr>\n",
       "        <tr>\n",
       "            <td>ABPL011997</td> <td>ABPL     </td> <td>1          </td> <td>1997</td> <td>18      </td> <td>4.2    </td> <td>2.231 </td> <td>0.772   </td> <td>11.6     </td>\n",
       "        </tr>\n",
       "        <tr>\n",
       "            <td>ABPL011999</td> <td>ABPL     </td> <td>1          </td> <td>1999</td> <td>19      </td> <td>5.9    </td> <td>2.268 </td> <td>0.77    </td> <td>14.2     </td>\n",
       "        </tr>\n",
       "        <tr>\n",
       "            <td>ABPL012000</td> <td>ABPL     </td> <td>1          </td> <td>2000</td> <td>17      </td> <td>6.2    </td> <td>2.111 </td> <td>0.745   </td> <td>9.1      </td>\n",
       "        </tr>\n",
       "        <tr>\n",
       "            <td>ABPL012001</td> <td>ABPL     </td> <td>1          </td> <td>2001</td> <td>16      </td> <td>20.3   </td> <td>1.721 </td> <td>0.621   </td> <td>11.3     </td>\n",
       "        </tr>\n",
       "        <tr>\n",
       "            <td>ABPL012002</td> <td>ABPL     </td> <td>1          </td> <td>2002</td> <td>13      </td> <td>7.2    </td> <td>1.715 </td> <td>0.669   </td> <td>14.5     </td>\n",
       "        </tr>\n",
       "        <tr>\n",
       "            <td>ABPL012003</td> <td>ABPL     </td> <td>1          </td> <td>2003</td> <td>13      </td> <td>6.1    </td> <td>2.008 </td> <td>0.783   </td> <td>17.7     </td>\n",
       "        </tr>\n",
       "        <tr>\n",
       "            <td>ABPL012004</td> <td>ABPL     </td> <td>1          </td> <td>2004</td> <td>12      </td> <td>6.3    </td> <td>1.826 </td> <td>0.735   </td> <td>18.9     </td>\n",
       "        </tr>\n",
       "        <tr>\n",
       "            <td>ABPL012005</td> <td>ABPL     </td> <td>1          </td> <td>2005</td> <td>8       </td> <td>4.9    </td> <td>1.491 </td> <td>0.717   </td> <td>20.8     </td>\n",
       "        </tr>\n",
       "    </tbody>\n",
       "</table>\n",
       "<p>... (1733 rows omitted)</p>"
      ],
      "text/plain": [
       "PLOT_ID    | PLOT_NAME | PLOT_NUMBER | YEAR | RICHNESS | COVER_% | HPRIME | EVENNESS | FREQUENCY\n",
       "ABPL011995 | ABPL      | 1           | 1995 | 14       | 2.2     | 2.41   | 0.913    | 7.7\n",
       "ABPL011996 | ABPL      | 1           | 1996 | 17       | 2.9     | 2.524  | 0.891    | 8.1\n",
       "ABPL011997 | ABPL      | 1           | 1997 | 18       | 4.2     | 2.231  | 0.772    | 11.6\n",
       "ABPL011999 | ABPL      | 1           | 1999 | 19       | 5.9     | 2.268  | 0.77     | 14.2\n",
       "ABPL012000 | ABPL      | 1           | 2000 | 17       | 6.2     | 2.111  | 0.745    | 9.1\n",
       "ABPL012001 | ABPL      | 1           | 2001 | 16       | 20.3    | 1.721  | 0.621    | 11.3\n",
       "ABPL012002 | ABPL      | 1           | 2002 | 13       | 7.2     | 1.715  | 0.669    | 14.5\n",
       "ABPL012003 | ABPL      | 1           | 2003 | 13       | 6.1     | 2.008  | 0.783    | 17.7\n",
       "ABPL012004 | ABPL      | 1           | 2004 | 12       | 6.3     | 1.826  | 0.735    | 18.9\n",
       "ABPL012005 | ABPL      | 1           | 2005 | 8        | 4.9     | 1.491  | 0.717    | 20.8\n",
       "... (1733 rows omitted)"
      ]
     },
     "execution_count": 12,
     "metadata": {},
     "output_type": "execute_result"
    }
   ],
   "source": [
    "# Plot vegatation trend yearly dataset\n",
    "datafile = \"data/MSH_STRUCTURE_PLOT_YEAR.csv\"\n",
    "MSH_YEAR = Table.read_table(datafile)\n",
    "MSH_YEAR"
   ]
  },
  {
   "cell_type": "markdown",
   "metadata": {},
   "source": [
    "**Unique plot names**"
   ]
  },
  {
   "cell_type": "code",
   "execution_count": 13,
   "metadata": {},
   "outputs": [
    {
     "data": {
      "text/plain": [
       "array(['ABPL', 'BUCA', 'BUCB', 'BUCC', 'BUCD', 'LAHR', 'PICA', 'PICB',\n",
       "       'PICE', 'PUPL', 'SFTR', 'STRD', 'TORD'],\n",
       "      dtype='<U4')"
      ]
     },
     "execution_count": 13,
     "metadata": {},
     "output_type": "execute_result"
    }
   ],
   "source": [
    "np.unique(MSH_YEAR.column('PLOT_NAME')) #Return unique plot names"
   ]
  },
  {
   "cell_type": "code",
   "execution_count": 14,
   "metadata": {
    "tags": []
   },
   "outputs": [
    {
     "data": {
      "text/plain": [
       "array(['Abraham Plain01', 'Abraham Plain02', 'Abraham Plain03',\n",
       "       'Abraham Plain04', 'Abraham Plain05', 'Abraham Plain06',\n",
       "       'Abraham Plain07', 'Abraham Plain08', 'Abraham Plain09',\n",
       "       'Abraham Plain10', 'Butte CampA01', 'Butte CampA03',\n",
       "       'Butte CampA04', 'Butte CampB01', 'Butte CampB02', 'Butte CampB03',\n",
       "       'Butte CampB04', 'Butte CampB05', 'Butte CampB06', 'Butte CampB07',\n",
       "       'Butte CampC01', 'Butte CampC02', 'Butte CampC03', 'Butte CampD01',\n",
       "       'Butte CampD02', 'Butte CampD03', 'Butte CampD05', 'Lahar01',\n",
       "       'Lahar02', 'Lahar04', 'Lahar05', 'Lahar06', 'Lahar07', 'Lahar08',\n",
       "       'Pine CreekA01', 'Pine CreekA02', 'Pine CreekA03', 'Pine CreekA04',\n",
       "       'Pine CreekB01', 'Pine CreekB02', 'Pine CreekB03', 'Pine CreekB04',\n",
       "       'Pine CreekB05', 'Pine CrekE02', 'Pine CrekE03', 'Pine CrekE04',\n",
       "       'Pumice Plain01', 'Pumice Plain02', 'Pumice Plain03',\n",
       "       'Pumice Plain04', 'Pumice Plain05', 'Pumice Plain06',\n",
       "       'Pumice Plain07', 'Pumice Plain08', 'Pumice Plain09',\n",
       "       'Pumice Plain10', 'Pumice Plain11', 'Pumice Plain12',\n",
       "       'South Fork Toutle01', 'South Fork Toutle02', 'South Fork Toutle03',\n",
       "       'South Fork Toutle04', 'Studebaker Ridge01', 'Studebaker Ridge02',\n",
       "       'Studebaker Ridge03', 'Studebaker Ridge04', 'Studebaker Ridge05',\n",
       "       'Studebaker Ridge06', 'Studebaker Ridge07', 'Studebaker Ridge08',\n",
       "       'Studebaker Ridge09', 'Studebaker Ridge10', 'Studebaker Ridge11',\n",
       "       'Studebaker Ridge12', 'Studebaker Ridge13', 'Studebaker Ridge14',\n",
       "       'Studebaker Ridge15', 'Studebaker Ridge16', 'Studebaker Ridge17',\n",
       "       'Studebaker Ridge18', 'Studebaker Ridge19', 'Studebaker Ridge20',\n",
       "       'Toutle Ridge01', 'Toutle Ridge02', 'Toutle Ridge03',\n",
       "       'Toutle Ridge04', 'Toutle Ridge05', 'Toutle Ridge06',\n",
       "       'Toutle Ridge07', 'Toutle Ridge08', 'Toutle Ridge09',\n",
       "       'Toutle Ridge10'],\n",
       "      dtype='<U19')"
      ]
     },
     "execution_count": 14,
     "metadata": {},
     "output_type": "execute_result"
    }
   ],
   "source": [
    "np.unique(MSH_PLOT['PLOT_NAME'])"
   ]
  },
  {
   "cell_type": "code",
   "execution_count": 15,
   "metadata": {},
   "outputs": [
    {
     "data": {
      "text/plain": [
       "array([1980, 1981, 1982, 1983, 1984, 1985, 1986, 1987, 1988, 1989, 1990,\n",
       "       1991, 1992, 1993, 1994, 1995, 1996, 1997, 1998, 1999, 2000, 2001,\n",
       "       2002, 2003, 2004, 2005, 2006, 2007, 2008, 2009])"
      ]
     },
     "execution_count": 15,
     "metadata": {},
     "output_type": "execute_result"
    }
   ],
   "source": [
    "np.unique(MSH_YEAR.column('YEAR')) #Return unique plot years"
   ]
  },
  {
   "cell_type": "markdown",
   "metadata": {},
   "source": [
    "**Select Plots**\n",
    "Example exploratory data analysis below. Select from unique plot names above with complete justification for choice."
   ]
  },
  {
   "cell_type": "code",
   "execution_count": 16,
   "metadata": {},
   "outputs": [],
   "source": [
    "myplot1 = 'PUPL'"
   ]
  },
  {
   "cell_type": "code",
   "execution_count": 18,
   "metadata": {},
   "outputs": [
    {
     "data": {
      "text/html": [
       "<table border=\"1\" class=\"dataframe\">\n",
       "    <thead>\n",
       "        <tr>\n",
       "            <th>PLOT_ID</th> <th>PLOT_NAME</th> <th>PLOT_NUMBER</th> <th>YEAR</th> <th>RICHNESS</th> <th>COVER_%</th> <th>HPRIME</th> <th>EVENNESS</th> <th>FREQUENCY</th>\n",
       "        </tr>\n",
       "    </thead>\n",
       "    <tbody>\n",
       "        <tr>\n",
       "            <td>PUPL011989</td> <td>PUPL     </td> <td>1          </td> <td>1989</td> <td>5       </td> <td>0.5    </td> <td>1.609 </td> <td>1       </td> <td>3.4      </td>\n",
       "        </tr>\n",
       "        <tr>\n",
       "            <td>PUPL021989</td> <td>PUPL     </td> <td>2          </td> <td>1989</td> <td>7       </td> <td>0.7    </td> <td>1.946 </td> <td>1       </td> <td>4.1      </td>\n",
       "        </tr>\n",
       "        <tr>\n",
       "            <td>PUPL031989</td> <td>PUPL     </td> <td>3          </td> <td>1989</td> <td>4       </td> <td>0.4    </td> <td>1.386 </td> <td>1       </td> <td>2.5      </td>\n",
       "        </tr>\n",
       "        <tr>\n",
       "            <td>PUPL041989</td> <td>PUPL     </td> <td>4          </td> <td>1989</td> <td>7       </td> <td>0.7    </td> <td>1.946 </td> <td>1       </td> <td>2.1      </td>\n",
       "        </tr>\n",
       "        <tr>\n",
       "            <td>PUPL051989</td> <td>PUPL     </td> <td>5          </td> <td>1989</td> <td>5       </td> <td>0.5    </td> <td>1.609 </td> <td>1       </td> <td>2.6      </td>\n",
       "        </tr>\n",
       "        <tr>\n",
       "            <td>PUPL061989</td> <td>PUPL     </td> <td>6          </td> <td>1989</td> <td>5       </td> <td>0.5    </td> <td>1.609 </td> <td>1       </td> <td>5        </td>\n",
       "        </tr>\n",
       "        <tr>\n",
       "            <td>PUPL071989</td> <td>PUPL     </td> <td>7          </td> <td>1989</td> <td>0       </td> <td>0      </td> <td>0     </td> <td>0       </td> <td>0        </td>\n",
       "        </tr>\n",
       "        <tr>\n",
       "            <td>PUPL081989</td> <td>PUPL     </td> <td>8          </td> <td>1989</td> <td>1       </td> <td>0.1    </td> <td>0     </td> <td>0       </td> <td>1        </td>\n",
       "        </tr>\n",
       "        <tr>\n",
       "            <td>PUPL091989</td> <td>PUPL     </td> <td>9          </td> <td>1989</td> <td>7       </td> <td>1      </td> <td>1.748 </td> <td>0.898   </td> <td>5.7      </td>\n",
       "        </tr>\n",
       "        <tr>\n",
       "            <td>PUPL101989</td> <td>PUPL     </td> <td>1          </td> <td>1989</td> <td>5       </td> <td>0.5    </td> <td>1.609 </td> <td>1       </td> <td>2.4      </td>\n",
       "        </tr>\n",
       "    </tbody>\n",
       "</table>\n",
       "<p>... (242 rows omitted)</p>"
      ],
      "text/plain": [
       "PLOT_ID    | PLOT_NAME | PLOT_NUMBER | YEAR | RICHNESS | COVER_% | HPRIME | EVENNESS | FREQUENCY\n",
       "PUPL011989 | PUPL      | 1           | 1989 | 5        | 0.5     | 1.609  | 1        | 3.4\n",
       "PUPL021989 | PUPL      | 2           | 1989 | 7        | 0.7     | 1.946  | 1        | 4.1\n",
       "PUPL031989 | PUPL      | 3           | 1989 | 4        | 0.4     | 1.386  | 1        | 2.5\n",
       "PUPL041989 | PUPL      | 4           | 1989 | 7        | 0.7     | 1.946  | 1        | 2.1\n",
       "PUPL051989 | PUPL      | 5           | 1989 | 5        | 0.5     | 1.609  | 1        | 2.6\n",
       "PUPL061989 | PUPL      | 6           | 1989 | 5        | 0.5     | 1.609  | 1        | 5\n",
       "PUPL071989 | PUPL      | 7           | 1989 | 0        | 0       | 0      | 0        | 0\n",
       "PUPL081989 | PUPL      | 8           | 1989 | 1        | 0.1     | 0      | 0        | 1\n",
       "PUPL091989 | PUPL      | 9           | 1989 | 7        | 1       | 1.748  | 0.898    | 5.7\n",
       "PUPL101989 | PUPL      | 1           | 1989 | 5        | 0.5     | 1.609  | 1        | 2.4\n",
       "... (242 rows omitted)"
      ]
     },
     "execution_count": 18,
     "metadata": {},
     "output_type": "execute_result"
    }
   ],
   "source": [
    "# Select a particular plot name based on examination of mapped data and descriptions in the plot description dataset.\n",
    "PLT = myplot1 # Put the name for study hear, i.e ='STRD'\n",
    "data1 = MSH_YEAR.where('PLOT_NAME',are.contained_in(PLT)).sort('YEAR',descending=False)\n",
    "data1"
   ]
  },
  {
   "cell_type": "code",
   "execution_count": 19,
   "metadata": {},
   "outputs": [],
   "source": [
    "myplot2 = 'STRD'"
   ]
  },
  {
   "cell_type": "code",
   "execution_count": 21,
   "metadata": {},
   "outputs": [
    {
     "data": {
      "text/html": [
       "<table border=\"1\" class=\"dataframe\">\n",
       "    <thead>\n",
       "        <tr>\n",
       "            <th>PLOT_ID</th> <th>PLOT_NAME</th> <th>PLOT_NUMBER</th> <th>YEAR</th> <th>RICHNESS</th> <th>COVER_%</th> <th>HPRIME</th> <th>EVENNESS</th> <th>FREQUENCY</th>\n",
       "        </tr>\n",
       "    </thead>\n",
       "    <tbody>\n",
       "        <tr>\n",
       "            <td>STRD011984</td> <td>STRD     </td> <td>1          </td> <td>1984</td> <td>1       </td> <td>0.1    </td> <td>0     </td> <td>0       </td> <td>7        </td>\n",
       "        </tr>\n",
       "        <tr>\n",
       "            <td>STRD021984</td> <td>STRD     </td> <td>2          </td> <td>1984</td> <td>2       </td> <td>0.2    </td> <td>0.693 </td> <td>1       </td> <td>1        </td>\n",
       "        </tr>\n",
       "        <tr>\n",
       "            <td>STRD031984</td> <td>STRD     </td> <td>3          </td> <td>1984</td> <td>0       </td> <td>0      </td> <td>0     </td> <td>0       </td> <td>1        </td>\n",
       "        </tr>\n",
       "        <tr>\n",
       "            <td>STRD041984</td> <td>STRD     </td> <td>4          </td> <td>1984</td> <td>0       </td> <td>0      </td> <td>0     </td> <td>0       </td> <td>0        </td>\n",
       "        </tr>\n",
       "        <tr>\n",
       "            <td>STRD051984</td> <td>STRD     </td> <td>5          </td> <td>1984</td> <td>0       </td> <td>0      </td> <td>0     </td> <td>0       </td> <td>0        </td>\n",
       "        </tr>\n",
       "        <tr>\n",
       "            <td>STRD061984</td> <td>STRD     </td> <td>6          </td> <td>1984</td> <td>0       </td> <td>0      </td> <td>0     </td> <td>0       </td> <td>0        </td>\n",
       "        </tr>\n",
       "        <tr>\n",
       "            <td>STRD071984</td> <td>STRD     </td> <td>7          </td> <td>1984</td> <td>0       </td> <td>0      </td> <td>0     </td> <td>0       </td> <td>0        </td>\n",
       "        </tr>\n",
       "        <tr>\n",
       "            <td>STRD081984</td> <td>STRD     </td> <td>8          </td> <td>1984</td> <td>0       </td> <td>0      </td> <td>0     </td> <td>0       </td> <td>0        </td>\n",
       "        </tr>\n",
       "        <tr>\n",
       "            <td>STRD091984</td> <td>STRD     </td> <td>9          </td> <td>1984</td> <td>2       </td> <td>0.2    </td> <td>0.693 </td> <td>1       </td> <td>1        </td>\n",
       "        </tr>\n",
       "        <tr>\n",
       "            <td>STRD101984</td> <td>STRD     </td> <td>10         </td> <td>1984</td> <td>1       </td> <td>0.1    </td> <td>0     </td> <td>0       </td> <td>1        </td>\n",
       "        </tr>\n",
       "    </tbody>\n",
       "</table>\n",
       "<p>... (411 rows omitted)</p>"
      ],
      "text/plain": [
       "PLOT_ID    | PLOT_NAME | PLOT_NUMBER | YEAR | RICHNESS | COVER_% | HPRIME | EVENNESS | FREQUENCY\n",
       "STRD011984 | STRD      | 1           | 1984 | 1        | 0.1     | 0      | 0        | 7\n",
       "STRD021984 | STRD      | 2           | 1984 | 2        | 0.2     | 0.693  | 1        | 1\n",
       "STRD031984 | STRD      | 3           | 1984 | 0        | 0       | 0      | 0        | 1\n",
       "STRD041984 | STRD      | 4           | 1984 | 0        | 0       | 0      | 0        | 0\n",
       "STRD051984 | STRD      | 5           | 1984 | 0        | 0       | 0      | 0        | 0\n",
       "STRD061984 | STRD      | 6           | 1984 | 0        | 0       | 0      | 0        | 0\n",
       "STRD071984 | STRD      | 7           | 1984 | 0        | 0       | 0      | 0        | 0\n",
       "STRD081984 | STRD      | 8           | 1984 | 0        | 0       | 0      | 0        | 0\n",
       "STRD091984 | STRD      | 9           | 1984 | 2        | 0.2     | 0.693  | 1        | 1\n",
       "STRD101984 | STRD      | 10          | 1984 | 1        | 0.1     | 0      | 0        | 1\n",
       "... (411 rows omitted)"
      ]
     },
     "execution_count": 21,
     "metadata": {},
     "output_type": "execute_result"
    }
   ],
   "source": [
    "# Select a particular plot name based on examination of mapped data and descriptions in the plot description dataset.\n",
    "PLT = myplot2 # Put the name for study hear, i.e ='STRD'\n",
    "data2 = MSH_YEAR.where('PLOT_NAME',are.contained_in(PLT)).sort('YEAR',descending=False)\n",
    "data2"
   ]
  },
  {
   "cell_type": "code",
   "execution_count": 22,
   "metadata": {},
   "outputs": [
    {
     "data": {
      "image/png": "[encoded data removed]",
      "text/plain": [
       "<Figure size 500x500 with 1 Axes>"
      ]
     },
     "metadata": {},
     "output_type": "display_data"
    }
   ],
   "source": [
    "data1.scatter('YEAR','RICHNESS')"
   ]
  },
  {
   "cell_type": "markdown",
   "metadata": {},
   "source": [
    "Group and average to get better view of time trend."
   ]
  },
  {
   "cell_type": "code",
   "execution_count": 23,
   "metadata": {},
   "outputs": [
    {
     "data": {
      "image/png": "[encoded data removed]",
      "text/plain": [
       "<Figure size 600x600 with 1 Axes>"
      ]
     },
     "metadata": {},
     "output_type": "display_data"
    }
   ],
   "source": [
    "data1.group('YEAR', np.mean).plot('YEAR','RICHNESS mean')"
   ]
  },
  {
   "cell_type": "code",
   "execution_count": 24,
   "metadata": {},
   "outputs": [
    {
     "data": {
      "text/html": [
       "<table border=\"1\" class=\"dataframe\">\n",
       "    <thead>\n",
       "        <tr>\n",
       "            <th>statistic</th> <th>PLOT_ID</th> <th>PLOT_NAME</th> <th>PLOT_NUMBER</th> <th>YEAR</th> <th>RICHNESS</th> <th>COVER_%</th> <th>HPRIME</th> <th>EVENNESS</th> <th>FREQUENCY</th>\n",
       "        </tr>\n",
       "    </thead>\n",
       "    <tbody>\n",
       "        <tr>\n",
       "            <td>min      </td> <td>PUPL011989</td> <td>PUPL     </td> <td>1          </td> <td>1989  </td> <td>0       </td> <td>0      </td> <td>0      </td> <td>0       </td> <td>0        </td>\n",
       "        </tr>\n",
       "        <tr>\n",
       "            <td>max      </td> <td>PUPL122009</td> <td>PUPL     </td> <td>9          </td> <td>2009  </td> <td>25      </td> <td>82.4   </td> <td>2.89   </td> <td>1       </td> <td>24.7     </td>\n",
       "        </tr>\n",
       "        <tr>\n",
       "            <td>median   </td> <td>          </td> <td>         </td> <td>3.5        </td> <td>1999  </td> <td>17      </td> <td>5.7    </td> <td>2.1795 </td> <td>0.7955  </td> <td>9.1      </td>\n",
       "        </tr>\n",
       "        <tr>\n",
       "            <td>sum      </td> <td>          </td> <td>         </td> <td>1008       </td> <td>503748</td> <td>4106    </td> <td>2432.6 </td> <td>523.426</td> <td>194.648 </td> <td>2532.9   </td>\n",
       "        </tr>\n",
       "    </tbody>\n",
       "</table>"
      ],
      "text/plain": [
       "statistic | PLOT_ID    | PLOT_NAME | PLOT_NUMBER | YEAR   | RICHNESS | COVER_% | HPRIME  | EVENNESS | FREQUENCY\n",
       "min       | PUPL011989 | PUPL      | 1           | 1989   | 0        | 0       | 0       | 0        | 0\n",
       "max       | PUPL122009 | PUPL      | 9           | 2009   | 25       | 82.4    | 2.89    | 1        | 24.7\n",
       "median    |            |           | 3.5         | 1999   | 17       | 5.7     | 2.1795  | 0.7955   | 9.1\n",
       "sum       |            |           | 1008        | 503748 | 4106     | 2432.6  | 523.426 | 194.648  | 2532.9"
      ]
     },
     "execution_count": 24,
     "metadata": {},
     "output_type": "execute_result"
    }
   ],
   "source": [
    "data1.stats()"
   ]
  },
  {
   "cell_type": "code",
   "execution_count": 25,
   "metadata": {},
   "outputs": [],
   "source": [
    "def five_num_sum(table,column):\n",
    "    nums=[]\n",
    "    array = table.column(column)\n",
    "    nums.append(np.min(array))\n",
    "    nums.append(np.max(array))\n",
    "    nums.append(np.mean(array))\n",
    "    nums.append(np.median(array))\n",
    "    nums.append(np.std(array))\n",
    "    print(f'min: {nums[0]} \\nmax: {nums[1]} \\nmean: {nums[2]:.3f} \\nmedian: {nums[3]:.3f} \\nstd: {nums[4]:.3f}')\n",
    "    return nums"
   ]
  },
  {
   "cell_type": "code",
   "execution_count": 26,
   "metadata": {},
   "outputs": [
    {
     "name": "stdout",
     "output_type": "stream",
     "text": [
      "min: 0 \n",
      "max: 25 \n",
      "mean: 16.294 \n",
      "median: 17.000 \n",
      "std: 5.194\n"
     ]
    },
    {
     "data": {
      "text/plain": [
       "[0, 25, 16.293650793650794, 17.0, 5.1939639269906674]"
      ]
     },
     "execution_count": 26,
     "metadata": {},
     "output_type": "execute_result"
    }
   ],
   "source": [
    "five_num_sum(data1,'RICHNESS')"
   ]
  },
  {
   "cell_type": "code",
   "execution_count": 27,
   "metadata": {},
   "outputs": [
    {
     "name": "stdout",
     "output_type": "stream",
     "text": [
      "min: 0 \n",
      "max: 25 \n",
      "mean: 13.686 \n",
      "median: 16.000 \n",
      "std: 6.131\n"
     ]
    },
    {
     "data": {
      "text/plain": [
       "[0, 25, 13.68646080760095, 16.0, 6.1309178743831421]"
      ]
     },
     "execution_count": 27,
     "metadata": {},
     "output_type": "execute_result"
    }
   ],
   "source": [
    "five_num_sum(data2,'RICHNESS')"
   ]
  },
  {
   "cell_type": "code",
   "execution_count": 28,
   "metadata": {},
   "outputs": [
    {
     "name": "stdout",
     "output_type": "stream",
     "text": [
      "min: 0.0 \n",
      "max: 82.4 \n",
      "mean: 9.653 \n",
      "median: 5.700 \n",
      "std: 11.989\n"
     ]
    },
    {
     "data": {
      "text/plain": [
       "[0.0,\n",
       " 82.400000000000006,\n",
       " 9.6531746031746053,\n",
       " 5.6999999999999993,\n",
       " 11.988755886232418]"
      ]
     },
     "execution_count": 28,
     "metadata": {},
     "output_type": "execute_result"
    }
   ],
   "source": [
    "five_num_sum(data1,'COVER_%')"
   ]
  },
  {
   "cell_type": "code",
   "execution_count": 29,
   "metadata": {},
   "outputs": [
    {
     "name": "stdout",
     "output_type": "stream",
     "text": [
      "min: 0.0 \n",
      "max: 79.7 \n",
      "mean: 13.042 \n",
      "median: 3.800 \n",
      "std: 19.244\n"
     ]
    },
    {
     "data": {
      "text/plain": [
       "[0.0,\n",
       " 79.700000000000003,\n",
       " 13.041805225653208,\n",
       " 3.7999999999999998,\n",
       " 19.244362115324087]"
      ]
     },
     "execution_count": 29,
     "metadata": {},
     "output_type": "execute_result"
    }
   ],
   "source": [
    "five_num_sum(data2,'COVER_%')"
   ]
  },
  {
   "cell_type": "markdown",
   "metadata": {
    "editable": true,
    "slideshow": {
     "slide_type": ""
    },
    "tags": []
   },
   "source": [
    "### <font color='green'> ***Question 3***</font>\n",
    "We want to understand how particular plot types evolve following the eruption.  We can look also look at the degree to which certain plot types recover differently based on their location and the type of transformation that occured following the eruption. In question 4 we look within each plot for these changes.\n",
    "- Formulate a hypothesis regarding plant vegetation (*COVER_%*) and biodiversity (*RICHNESS*) following the eruption. You can refer to the above links and papers for ideas. Create a detailed markdown cell to detail this hypothesis.\n",
    "- State the NULL hypothesis for each measure.\n",
    "<br>Use below markdown cells"
   ]
  },
  {
   "cell_type": "markdown",
   "metadata": {},
   "source": [
    "<font color='blue'>***COVER_% Hypothesis***"
   ]
  },
  {
   "cell_type": "markdown",
   "metadata": {},
   "source": [
    "COVER_% will increase as plant life reestablishes itself following eruption"
   ]
  },
  {
   "cell_type": "markdown",
   "metadata": {},
   "source": [
    "<font color='blue'>***RICHNESS Hypothesis***"
   ]
  },
  {
   "cell_type": "markdown",
   "metadata": {},
   "source": [
    "RICHNESS will increase as plant succession begins following eruption"
   ]
  },
  {
   "cell_type": "markdown",
   "metadata": {},
   "source": [
    "<font color='blue'>***COVER_% NULL Hypothesis***"
   ]
  },
  {
   "cell_type": "markdown",
   "metadata": {},
   "source": [
    "Changes in COVER_% will fluctuate around initial value without discernible pattern"
   ]
  },
  {
   "cell_type": "markdown",
   "metadata": {},
   "source": [
    "<font color='blue'>***RICHNESS NULL Hypothesis***"
   ]
  },
  {
   "cell_type": "markdown",
   "metadata": {},
   "source": [
    "Changes in RICHNESS will fluctuate around initial value without discernible pattern"
   ]
  },
  {
   "cell_type": "markdown",
   "metadata": {
    "editable": true,
    "slideshow": {
     "slide_type": ""
    },
    "tags": []
   },
   "source": [
    "### <font color='green'> ***Question 4***</font>\n",
    "Consider the change in COVER_% between the first year of your data and 15 years after the 1980 volcanic eruption. We will use the multiple data points at each year for each plot to perform a difference of means. Use the paired t-test as in lab 07 to test your hypothesis regarding COVER_%"
   ]
  },
  {
   "cell_type": "markdown",
   "metadata": {},
   "source": [
    "<font color='blue'>Reminder: </font>The `data` Table variable is defined above for myplot1 and then myplot2, keep track of which plot you are examining and clarify with markdown and code for each case. <font color='red'>Each plot covers a different time range so you may need to adjust time range in hypothesis for specific plots."
   ]
  },
  {
   "cell_type": "markdown",
   "metadata": {},
   "source": [
    "Look at myplot1 first:"
   ]
  },
  {
   "cell_type": "code",
   "execution_count": 30,
   "metadata": {
    "tags": []
   },
   "outputs": [
    {
     "data": {
      "text/plain": [
       "'PUPL'"
      ]
     },
     "execution_count": 30,
     "metadata": {},
     "output_type": "execute_result"
    }
   ],
   "source": [
    "myplot1"
   ]
  },
  {
   "cell_type": "code",
   "execution_count": 31,
   "metadata": {},
   "outputs": [
    {
     "data": {
      "text/plain": [
       "1989"
      ]
     },
     "execution_count": 31,
     "metadata": {},
     "output_type": "execute_result"
    }
   ],
   "source": [
    "data1['YEAR'].min() # Using example plot"
   ]
  },
  {
   "cell_type": "code",
   "execution_count": 32,
   "metadata": {},
   "outputs": [
    {
     "data": {
      "text/plain": [
       "array([1989, 1989, 1989, 1989, 1989, 1989, 1989, 1989, 1989, 1989, 1989,\n",
       "       1989, 1990, 1990, 1990, 1990, 1990, 1990, 1990, 1990, 1990, 1990,\n",
       "       1990, 1990, 1991, 1991, 1991, 1991, 1991, 1991, 1991, 1991, 1991,\n",
       "       1991, 1991, 1991, 1992, 1992, 1992, 1992, 1992, 1992, 1992, 1992,\n",
       "       1992, 1992, 1992, 1992, 1993, 1993, 1993, 1993, 1993, 1993, 1993,\n",
       "       1993, 1993, 1993, 1993, 1993, 1994, 1994, 1994, 1994, 1994, 1994,\n",
       "       1994, 1994, 1994, 1994, 1994, 1994, 1995, 1995, 1995, 1995, 1995,\n",
       "       1995, 1995, 1995, 1995, 1995, 1995, 1995, 1996, 1996, 1996, 1996,\n",
       "       1996, 1996, 1996, 1996, 1996, 1996, 1996, 1996, 1997, 1997, 1997,\n",
       "       1997, 1997, 1997, 1997, 1997, 1997, 1997, 1997, 1997, 1998, 1998,\n",
       "       1998, 1998, 1998, 1998, 1998, 1998, 1998, 1998, 1998, 1998, 1999,\n",
       "       1999, 1999, 1999, 1999, 1999, 1999, 1999, 1999, 1999, 1999, 1999,\n",
       "       2000, 2000, 2000, 2000, 2000, 2000, 2000, 2000, 2000, 2000, 2000,\n",
       "       2000, 2001, 2001, 2001, 2001, 2001, 2001, 2001, 2001, 2001, 2001,\n",
       "       2001, 2001, 2002, 2002, 2002, 2002, 2002, 2002, 2002, 2002, 2002,\n",
       "       2002, 2002, 2002, 2003, 2003, 2003, 2003, 2003, 2003, 2003, 2003,\n",
       "       2003, 2003, 2003, 2003, 2004, 2004, 2004, 2004, 2004, 2004, 2004,\n",
       "       2004, 2004, 2004, 2004, 2004, 2005, 2005, 2005, 2005, 2005, 2005,\n",
       "       2005, 2005, 2005, 2005, 2005, 2005, 2006, 2006, 2006, 2006, 2006,\n",
       "       2006, 2006, 2006, 2006, 2006, 2006, 2006, 2007, 2007, 2007, 2007,\n",
       "       2007, 2007, 2007, 2007, 2007, 2007, 2007, 2007, 2008, 2008, 2008,\n",
       "       2008, 2008, 2008, 2008, 2008, 2008, 2008, 2008, 2008, 2009, 2009,\n",
       "       2009, 2009, 2009, 2009, 2009, 2009, 2009, 2009, 2009, 2009])"
      ]
     },
     "execution_count": 32,
     "metadata": {},
     "output_type": "execute_result"
    }
   ],
   "source": [
    "data1['YEAR']"
   ]
  },
  {
   "cell_type": "code",
   "execution_count": 33,
   "metadata": {},
   "outputs": [],
   "source": [
    "YEAR1 = 1989\n",
    "YEAR2 = 1995"
   ]
  },
  {
   "cell_type": "code",
   "execution_count": 35,
   "metadata": {},
   "outputs": [
    {
     "data": {
      "text/plain": [
       "2.5499999999999998"
      ]
     },
     "execution_count": 35,
     "metadata": {},
     "output_type": "execute_result"
    }
   ],
   "source": [
    "np.mean(data1.where('YEAR',YEAR2)['COVER_%'])"
   ]
  },
  {
   "cell_type": "code",
   "execution_count": 36,
   "metadata": {},
   "outputs": [
    {
     "data": {
      "text/plain": [
       "0.45000000000000001"
      ]
     },
     "execution_count": 36,
     "metadata": {},
     "output_type": "execute_result"
    }
   ],
   "source": [
    "np.mean(data1.where('YEAR',YEAR1)['COVER_%'])"
   ]
  },
  {
   "cell_type": "code",
   "execution_count": 37,
   "metadata": {
    "editable": true,
    "slideshow": {
     "slide_type": ""
    },
    "tags": []
   },
   "outputs": [
    {
     "data": {
      "text/plain": [
       "2.0999999999999996"
      ]
     },
     "execution_count": 37,
     "metadata": {},
     "output_type": "execute_result"
    }
   ],
   "source": [
    "diff_means = np.mean(data1.where('YEAR',YEAR2)['COVER_%'])-np.mean(data1.where('YEAR',YEAR1)['COVER_%'])\n",
    "diff_means"
   ]
  },
  {
   "cell_type": "code",
   "execution_count": 38,
   "metadata": {
    "editable": true,
    "slideshow": {
     "slide_type": ""
    },
    "tags": []
   },
   "outputs": [
    {
     "name": "stdout",
     "output_type": "stream",
     "text": [
      "The mean COVER_% change is: 2.10\n",
      "The standard deviation of the COVER_% in 1989 is: 0.284\n",
      "The standard deviation of the COVER_% in 1995 is: 1.378\n",
      "The standard error is: 0.2872\n",
      "The degrees of freedom is: 22\n"
     ]
    }
   ],
   "source": [
    "s1 = np.std(data1.where('YEAR',YEAR1)['COVER_%'])\n",
    "s2 = np.std(data1.where('YEAR',YEAR2)['COVER_%'])\n",
    "dof = 2 * data1.where('YEAR',YEAR2).num_rows - 2\n",
    "\n",
    "mean_diff = np.mean(data1.where('YEAR',YEAR2)['COVER_%'])-np.mean(data1.where('YEAR',YEAR1)['COVER_%'])\n",
    "\n",
    "n = data1.where('YEAR',YEAR2).num_rows\n",
    "se1 = s1/np.sqrt(n)\n",
    "se2 = s2/np.sqrt(n)\n",
    "std_error =  np.sqrt((se1**2+se2**2)/2)\n",
    "\n",
    "print(f'The mean COVER_% change is: {mean_diff:.2f}')\n",
    "print(f'The standard deviation of the COVER_% in {YEAR1} is: {s1:.3f}')\n",
    "print(f'The standard deviation of the COVER_% in {YEAR2} is: {s2:.3f}')\n",
    "print(f'The standard error is: {std_error:.4f}')\n",
    "print(f'The degrees of freedom is: {dof}')"
   ]
  },
  {
   "cell_type": "code",
   "execution_count": 39,
   "metadata": {
    "editable": true,
    "slideshow": {
     "slide_type": ""
    },
    "tags": []
   },
   "outputs": [
    {
     "name": "stdout",
     "output_type": "stream",
     "text": [
      "The t value is: Ellipsis\n"
     ]
    }
   ],
   "source": [
    "t = ...\n",
    "print(\"The t value is:\", t)"
   ]
  },
  {
   "cell_type": "code",
   "execution_count": 40,
   "metadata": {
    "editable": true,
    "slideshow": {
     "slide_type": ""
    },
    "tags": []
   },
   "outputs": [
    {
     "name": "stdout",
     "output_type": "stream",
     "text": [
      "The t value is: 7.31126155014\n"
     ]
    }
   ],
   "source": [
    "### ANSWER\n",
    "t = mean_diff/std_error\n",
    "print(\"The t value is:\", t)"
   ]
  },
  {
   "cell_type": "markdown",
   "metadata": {
    "editable": true,
    "slideshow": {
     "slide_type": ""
    },
    "tags": []
   },
   "source": [
    "<font color='blue'>***Find the p-value, accept or reject null hypothesis?***</font>\n",
    "You can use either the t-test approach or the simulation approach similar to what you did in Lab 07. Be sure to document your choice and all the steps in new cells below. The p-value is the probability that the observed COVER_% increases are random. So do we accept or reject the null hypothesis? Explain in the cell below the check of the p-value."
   ]
  },
  {
   "cell_type": "code",
   "execution_count": 41,
   "metadata": {
    "editable": true,
    "slideshow": {
     "slide_type": ""
    },
    "tags": []
   },
   "outputs": [],
   "source": [
    "p = 0.001 # From Table below, actual p is lower\n",
    "# Reject null hypothesis at 99% level"
   ]
  },
  {
   "cell_type": "code",
   "execution_count": 42,
   "metadata": {},
   "outputs": [
    {
     "data": {
      "text/plain": [
       "'STRD'"
      ]
     },
     "execution_count": 42,
     "metadata": {},
     "output_type": "execute_result"
    }
   ],
   "source": [
    "myplot2"
   ]
  },
  {
   "cell_type": "code",
   "execution_count": 43,
   "metadata": {
    "editable": true,
    "slideshow": {
     "slide_type": ""
    },
    "tags": []
   },
   "outputs": [
    {
     "name": "stdout",
     "output_type": "stream",
     "text": [
      "The mean COVER_% change is: 4.39\n",
      "The standard deviation of the COVER_% in 1989 is: 11.958\n",
      "The standard deviation of the COVER_% in 1995 is: 16.216\n",
      "The standard error is: 3.1858\n",
      "The degrees of freedom is: 38\n"
     ]
    }
   ],
   "source": [
    "s1 = np.std(data2.where('YEAR',YEAR1)['COVER_%'])\n",
    "s2 = np.std(data2.where('YEAR',YEAR2)['COVER_%'])\n",
    "dof = 2 * data2.where('YEAR',YEAR2).num_rows - 2\n",
    "\n",
    "mean_diff = np.mean(data2.where('YEAR',YEAR2)['COVER_%'])-np.mean(data2.where('YEAR',YEAR1)['COVER_%'])\n",
    "\n",
    "n = data2.where('YEAR',YEAR2).num_rows\n",
    "se1 = s1/np.sqrt(n)\n",
    "se2 = s2/np.sqrt(n)\n",
    "std_error =  np.sqrt((se1**2+se2**2)/2)\n",
    "\n",
    "print(f'The mean COVER_% change is: {mean_diff:.2f}')\n",
    "print(f'The standard deviation of the COVER_% in {YEAR1} is: {s1:.3f}')\n",
    "print(f'The standard deviation of the COVER_% in {YEAR2} is: {s2:.3f}')\n",
    "print(f'The standard error is: {std_error:.4f}')\n",
    "print(f'The degrees of freedom is: {dof}')"
   ]
  },
  {
   "cell_type": "code",
   "execution_count": 44,
   "metadata": {
    "editable": true,
    "slideshow": {
     "slide_type": ""
    },
    "tags": []
   },
   "outputs": [
    {
     "name": "stdout",
     "output_type": "stream",
     "text": [
      "The t value is: Ellipsis\n"
     ]
    }
   ],
   "source": [
    "t = ...\n",
    "print(\"The t value is:\", t)"
   ]
  },
  {
   "cell_type": "code",
   "execution_count": 45,
   "metadata": {
    "editable": true,
    "slideshow": {
     "slide_type": ""
    },
    "tags": []
   },
   "outputs": [
    {
     "name": "stdout",
     "output_type": "stream",
     "text": [
      "The t value is: 1.37956182702\n"
     ]
    }
   ],
   "source": [
    "## ANSWER\n",
    "t = mean_diff/std_error\n",
    "print(\"The t value is:\", t)"
   ]
  },
  {
   "cell_type": "markdown",
   "metadata": {
    "editable": true,
    "slideshow": {
     "slide_type": ""
    },
    "tags": []
   },
   "source": [
    "p > 0.01 # From Table below, actual p is lower\n",
    "# Can not reject null hypothesis at 99% level"
   ]
  },
  {
   "cell_type": "markdown",
   "metadata": {},
   "source": [
    "<font color='blue'>**Now repeat the process to consider the change in RICHNESS**</font> between the first year of your data and 15 years after the 1980 volcanic eruption. We will use the multiple data points at each year for each plot to perform a difference of means. Use the paired t-test as in lab 07 to test your hypothesis regarding RICHNESS"
   ]
  },
  {
   "cell_type": "code",
   "execution_count": 46,
   "metadata": {
    "tags": []
   },
   "outputs": [
    {
     "data": {
      "text/plain": [
       "'PUPL'"
      ]
     },
     "execution_count": 46,
     "metadata": {},
     "output_type": "execute_result"
    }
   ],
   "source": [
    "myplot1"
   ]
  },
  {
   "cell_type": "code",
   "execution_count": 47,
   "metadata": {
    "editable": true,
    "slideshow": {
     "slide_type": ""
    },
    "tags": []
   },
   "outputs": [
    {
     "name": "stdout",
     "output_type": "stream",
     "text": [
      "The mean COVER_% change is: 11.58\n",
      "The standard deviation of the COVER_% in 1989 is: 0.284\n",
      "The standard deviation of the COVER_% in 1995 is: 1.378\n",
      "The standard error is: 0.2872\n",
      "The degrees of freedom is: 22\n"
     ]
    }
   ],
   "source": [
    "s1 = np.std(data1.where('YEAR',YEAR1)['COVER_%'])\n",
    "s2 = np.std(data1.where('YEAR',YEAR2)['COVER_%'])\n",
    "dof = 2 * data1.where('YEAR',YEAR2).num_rows - 2\n",
    "\n",
    "mean_diff = np.mean(data1.where('YEAR',YEAR2)['RICHNESS'])-np.mean(data1.where('YEAR',YEAR1)['RICHNESS'])\n",
    "\n",
    "n = data1.where('YEAR',YEAR2).num_rows\n",
    "se1 = s1/np.sqrt(n)\n",
    "se2 = s2/np.sqrt(n)\n",
    "std_error =  np.sqrt((se1**2+se2**2)/2)\n",
    "\n",
    "print(f'The mean COVER_% change is: {mean_diff:.2f}')\n",
    "print(f'The standard deviation of the COVER_% in {YEAR1} is: {s1:.3f}')\n",
    "print(f'The standard deviation of the COVER_% in {YEAR2} is: {s2:.3f}')\n",
    "print(f'The standard error is: {std_error:.4f}')\n",
    "print(f'The degrees of freedom is: {dof}')"
   ]
  },
  {
   "cell_type": "code",
   "execution_count": 48,
   "metadata": {
    "editable": true,
    "slideshow": {
     "slide_type": ""
    },
    "tags": []
   },
   "outputs": [
    {
     "name": "stdout",
     "output_type": "stream",
     "text": [
      "The t value is: 40.3279902964\n"
     ]
    }
   ],
   "source": [
    "## ANSWER\n",
    "t = mean_diff/std_error\n",
    "print(\"The t value is:\", t)"
   ]
  },
  {
   "cell_type": "code",
   "execution_count": 49,
   "metadata": {
    "editable": true,
    "slideshow": {
     "slide_type": ""
    },
    "tags": []
   },
   "outputs": [],
   "source": [
    "p = 0.001 # From Table below, actual p is lower\n",
    "# Reject null hypothesis at 99% level"
   ]
  },
  {
   "cell_type": "code",
   "execution_count": 50,
   "metadata": {
    "tags": []
   },
   "outputs": [
    {
     "data": {
      "text/plain": [
       "'STRD'"
      ]
     },
     "execution_count": 50,
     "metadata": {},
     "output_type": "execute_result"
    }
   ],
   "source": [
    "myplot2"
   ]
  },
  {
   "cell_type": "code",
   "execution_count": 51,
   "metadata": {
    "editable": true,
    "slideshow": {
     "slide_type": ""
    },
    "tags": []
   },
   "outputs": [
    {
     "name": "stdout",
     "output_type": "stream",
     "text": [
      "The mean COVER_% change is: 10.00\n",
      "The standard deviation of the COVER_% in 1989 is: 11.958\n",
      "The standard deviation of the COVER_% in 1995 is: 16.216\n",
      "The standard error is: 3.1858\n",
      "The degrees of freedom is: 38\n"
     ]
    }
   ],
   "source": [
    "s1 = np.std(data2.where('YEAR',YEAR1)['COVER_%'])\n",
    "s2 = np.std(data2.where('YEAR',YEAR2)['COVER_%'])\n",
    "dof = 2 * data2.where('YEAR',YEAR2).num_rows - 2\n",
    "\n",
    "mean_diff = np.mean(data2.where('YEAR',YEAR2)['RICHNESS'])-np.mean(data2.where('YEAR',YEAR1)['RICHNESS'])\n",
    "\n",
    "n = data2.where('YEAR',YEAR2).num_rows\n",
    "se1 = s1/np.sqrt(n)\n",
    "se2 = s2/np.sqrt(n)\n",
    "std_error =  np.sqrt((se1**2+se2**2)/2)\n",
    "\n",
    "print(f'The mean COVER_% change is: {mean_diff:.2f}')\n",
    "print(f'The standard deviation of the COVER_% in {YEAR1} is: {s1:.3f}')\n",
    "print(f'The standard deviation of the COVER_% in {YEAR2} is: {s2:.3f}')\n",
    "print(f'The standard error is: {std_error:.4f}')\n",
    "print(f'The degrees of freedom is: {dof}')"
   ]
  },
  {
   "cell_type": "code",
   "execution_count": 52,
   "metadata": {
    "editable": true,
    "slideshow": {
     "slide_type": ""
    },
    "tags": []
   },
   "outputs": [
    {
     "name": "stdout",
     "output_type": "stream",
     "text": [
      "The t value is: 3.13893476\n"
     ]
    }
   ],
   "source": [
    "## ANSWER\n",
    "t = mean_diff/std_error\n",
    "print(\"The t value is:\", t)"
   ]
  },
  {
   "cell_type": "code",
   "execution_count": 53,
   "metadata": {
    "editable": true,
    "slideshow": {
     "slide_type": ""
    },
    "tags": []
   },
   "outputs": [],
   "source": [
    "p = 0.001 # From Table below, actual p is lower\n",
    "# Reject null hypothesis at 99% level"
   ]
  },
  {
   "cell_type": "markdown",
   "metadata": {},
   "source": [
    "### <font color='green'> ***Question 5***</font>\n",
    "Now we will look at the degree to which certain plot types recover differently based on their location and the type of transformation that occured following the eruption. We will look at COVER_% for our two selected plots. In this case we  will use the unpaired t-test to test a hypothesis regarding COVER_%. <font color='red'>Each plot covers a different time range so you may need to adjust time range in hypothesis for specific plots."
   ]
  },
  {
   "cell_type": "markdown",
   "metadata": {},
   "source": [
    "<font color='blue'>***COVER_% Hypothesis across my two selected plots***"
   ]
  },
  {
   "cell_type": "markdown",
   "metadata": {},
   "source": [
    "Data comparison"
   ]
  },
  {
   "cell_type": "code",
   "execution_count": 54,
   "metadata": {
    "tags": []
   },
   "outputs": [
    {
     "data": {
      "text/html": [
       "<table border=\"1\" class=\"dataframe\">\n",
       "    <thead>\n",
       "        <tr>\n",
       "            <th>PLOT_NAME</th> <th>PLOT_CODE</th> <th>FIRST_YEAR</th> <th>LAST_YEAR</th> <th>UTMGRID</th> <th>UTMEAST</th> <th>UTMNORTH</th> <th>LONG</th> <th>LAT</th> <th>POT._RAD.</th> <th>HEAT_LOAD</th> <th>ELEVATION(M)</th> <th>ASPECT</th> <th>SLOPE</th> <th>IMPACT_TYPE</th> <th>SUCCESSION_TYPE</th> <th>NLONG</th>\n",
       "        </tr>\n",
       "    </thead>\n",
       "    <tbody>\n",
       "        <tr>\n",
       "            <td>Pumice Plain01</td> <td>PUPL01   </td> <td>1989      </td> <td>2009     </td> <td>10T    </td> <td>564794 </td> <td>5120405 </td> <td>122.16</td> <td>46.2341</td> <td>0.863    </td> <td>0.887    </td> <td>1248        </td> <td>NW    </td> <td>4    </td> <td>Blast; pumice</td> <td>Primary        </td> <td>-122.16</td>\n",
       "        </tr>\n",
       "    </tbody>\n",
       "</table>"
      ],
      "text/plain": [
       "PLOT_NAME      | PLOT_CODE | FIRST_YEAR | LAST_YEAR | UTMGRID | UTMEAST | UTMNORTH | LONG   | LAT     | POT._RAD. | HEAT_LOAD | ELEVATION(M) | ASPECT | SLOPE | IMPACT_TYPE   | SUCCESSION_TYPE | NLONG\n",
       "Pumice Plain01 | PUPL01    | 1989       | 2009      | 10T     | 564794  | 5120405  | 122.16 | 46.2341 | 0.863     | 0.887     | 1248         | NW     | 4     | Blast; pumice | Primary         | -122.16"
      ]
     },
     "execution_count": 54,
     "metadata": {},
     "output_type": "execute_result"
    }
   ],
   "source": [
    "MSH_PLOT.where('PLOT_NAME','Pumice Plain01')"
   ]
  },
  {
   "cell_type": "code",
   "execution_count": 55,
   "metadata": {
    "tags": []
   },
   "outputs": [
    {
     "data": {
      "text/html": [
       "<table border=\"1\" class=\"dataframe\">\n",
       "    <thead>\n",
       "        <tr>\n",
       "            <th>PLOT_NAME</th> <th>PLOT_CODE</th> <th>FIRST_YEAR</th> <th>LAST_YEAR</th> <th>UTMGRID</th> <th>UTMEAST</th> <th>UTMNORTH</th> <th>LONG</th> <th>LAT</th> <th>POT._RAD.</th> <th>HEAT_LOAD</th> <th>ELEVATION(M)</th> <th>ASPECT</th> <th>SLOPE</th> <th>IMPACT_TYPE</th> <th>SUCCESSION_TYPE</th> <th>NLONG</th>\n",
       "        </tr>\n",
       "    </thead>\n",
       "    <tbody>\n",
       "        <tr>\n",
       "            <td>Studebaker Ridge01</td> <td>STRD01   </td> <td>1984      </td> <td>2009     </td> <td>10T    </td> <td>562081 </td> <td>5120588 </td> <td>122.195</td> <td>46.236</td> <td>0.739    </td> <td>0.739    </td> <td>1218        </td> <td>NNE   </td> <td>14   </td> <td>Blast      </td> <td>Primary        </td> <td>-122.195</td>\n",
       "        </tr>\n",
       "    </tbody>\n",
       "</table>"
      ],
      "text/plain": [
       "PLOT_NAME          | PLOT_CODE | FIRST_YEAR | LAST_YEAR | UTMGRID | UTMEAST | UTMNORTH | LONG    | LAT    | POT._RAD. | HEAT_LOAD | ELEVATION(M) | ASPECT | SLOPE | IMPACT_TYPE | SUCCESSION_TYPE | NLONG\n",
       "Studebaker Ridge01 | STRD01    | 1984       | 2009      | 10T     | 562081  | 5120588  | 122.195 | 46.236 | 0.739     | 0.739     | 1218         | NNE    | 14    | Blast       | Primary         | -122.195"
      ]
     },
     "execution_count": 55,
     "metadata": {},
     "output_type": "execute_result"
    }
   ],
   "source": [
    "MSH_PLOT.where('PLOT_NAME','Studebaker Ridge01')"
   ]
  },
  {
   "cell_type": "markdown",
   "metadata": {},
   "source": [
    "The Pumice plain is NW instead of NNE so may have experienced a bit less of the worst effects of the eruption. Pumice is a good material for nurturing plant growth so may also enhance COVER_% and RICHNESS for PUPL relative to Studebaker ridge"
   ]
  },
  {
   "cell_type": "markdown",
   "metadata": {},
   "source": [
    "<font color='blue'>***COVER_% Null Hypothesis across my two selected plots***"
   ]
  },
  {
   "cell_type": "markdown",
   "metadata": {},
   "source": [
    "The two plots will not be statistically different"
   ]
  },
  {
   "cell_type": "markdown",
   "metadata": {},
   "source": [
    "### unpaired t-test\n",
    "assumptions, differs from paired test used above and in Lab 07. The main difference is that we are comparing two different groups of plots as compared to the question 4 test which was applied to the same plots undergoing a 'treatment' of time passage following the eruption (paired). \n",
    "\n",
    "* **IF** two samples are independent\n",
    "* and **IF** the samples are random\n",
    "* and **IF** both samples come from populations with a normal distribution\n",
    "* and **IF** both populations have approximately the same standard deviation\n",
    "* and **IF** dependent variable is measured on an incremental level, such as ratios or intervals. \n",
    "* **THEN** we can calculate the following t-statistic\n",
    "\n",
    " $$ \n",
    " t = \\frac{\\bar{x_1} - \\bar{x_2}}{SE} \\tag{1} \n",
    " $$\n",
    "  \n",
    "with is the difference between the means of the two samples divided by average standard error of the mean, or standard error, for short.\n",
    "\n",
    "$$ \n",
    "SE^2 = \\frac{(SE)_1^2 + (SE)_2^2}{2} \\tag{2}\n",
    "$$\n",
    "\n",
    "What is the \"standard error?\" It is sample standard deviation divided by the square root of the number of observations:\n",
    "\n",
    "$$ SE = \\frac{s}{\\sqrt{n}}  \\tag{3} $$\n",
    "\n",
    "Here we need to compute the standard error (eq. 3) for each sample, SE, with a given number of observations, n. Then the overall standard error is computed by combining the two standard errors in equation 2.\n",
    "\n",
    "The degrees of freedome will be $\\nu = n_1 + n_2 - 4$\n"
   ]
  },
  {
   "cell_type": "markdown",
   "metadata": {},
   "source": [
    "<br>**<center>Critical Values of <i>t**\n",
    "    <center>See: [NIST](https://www.itl.nist.gov/div898/handbook/eda/section3/eda3672.htm)\n",
    "\n",
    "|$\\nu$<br>degrees of freedom|95%<br>p = 0.05|99%<br>p = 0.01|\n",
    "|:-:|:--|:--|\n",
    "|2|4.303|9.92|\n",
    "|3|3.18|5.84|\n",
    "|4|2.78|4.60|\n",
    "|5|2.57|4.03|\n",
    "|6|2.45|3.71|\n",
    "|7|2.36|3.50|\n",
    "|8|2.31|3.36|\n",
    "|9|2.26|3.25|\n",
    "|10|2.23|3.17|\n",
    "|15|2.13|2.95|\n",
    "|20|2.09|2.85|\n",
    "|30|2.04|2.75|\n",
    "|$\\infty$|1.96|2.58|\n",
    "\n",
    "\n"
   ]
  },
  {
   "cell_type": "markdown",
   "metadata": {},
   "source": [
    "First we need a measure to compare between plots to meet the above criteria of the unpaired t-test, <i>'dependent variable is measured on an incremental level, such as ratios or intervals.' "
   ]
  },
  {
   "cell_type": "code",
   "execution_count": 72,
   "metadata": {},
   "outputs": [],
   "source": [
    "YEAR1 = 1990\n",
    "YEAR2 = 1995"
   ]
  },
  {
   "cell_type": "code",
   "execution_count": 73,
   "metadata": {},
   "outputs": [
    {
     "data": {
      "text/plain": [
       "'PUPL'"
      ]
     },
     "execution_count": 73,
     "metadata": {},
     "output_type": "execute_result"
    }
   ],
   "source": [
    "myplot1"
   ]
  },
  {
   "cell_type": "code",
   "execution_count": 74,
   "metadata": {},
   "outputs": [
    {
     "data": {
      "text/html": [
       "<table border=\"1\" class=\"dataframe\">\n",
       "    <thead>\n",
       "        <tr>\n",
       "            <th>PLOT_ID</th> <th>PLOT_NAME</th> <th>PLOT_NUMBER</th> <th>YEAR</th> <th>RICHNESS</th> <th>COVER_%</th> <th>HPRIME</th> <th>EVENNESS</th> <th>FREQUENCY</th>\n",
       "        </tr>\n",
       "    </thead>\n",
       "    <tbody>\n",
       "        <tr>\n",
       "            <td>PUPL011989</td> <td>PUPL     </td> <td>1          </td> <td>1989</td> <td>5       </td> <td>0.5    </td> <td>1.609 </td> <td>1       </td> <td>3.4      </td>\n",
       "        </tr>\n",
       "        <tr>\n",
       "            <td>PUPL021989</td> <td>PUPL     </td> <td>2          </td> <td>1989</td> <td>7       </td> <td>0.7    </td> <td>1.946 </td> <td>1       </td> <td>4.1      </td>\n",
       "        </tr>\n",
       "        <tr>\n",
       "            <td>PUPL031989</td> <td>PUPL     </td> <td>3          </td> <td>1989</td> <td>4       </td> <td>0.4    </td> <td>1.386 </td> <td>1       </td> <td>2.5      </td>\n",
       "        </tr>\n",
       "        <tr>\n",
       "            <td>PUPL041989</td> <td>PUPL     </td> <td>4          </td> <td>1989</td> <td>7       </td> <td>0.7    </td> <td>1.946 </td> <td>1       </td> <td>2.1      </td>\n",
       "        </tr>\n",
       "        <tr>\n",
       "            <td>PUPL051989</td> <td>PUPL     </td> <td>5          </td> <td>1989</td> <td>5       </td> <td>0.5    </td> <td>1.609 </td> <td>1       </td> <td>2.6      </td>\n",
       "        </tr>\n",
       "        <tr>\n",
       "            <td>PUPL061989</td> <td>PUPL     </td> <td>6          </td> <td>1989</td> <td>5       </td> <td>0.5    </td> <td>1.609 </td> <td>1       </td> <td>5        </td>\n",
       "        </tr>\n",
       "        <tr>\n",
       "            <td>PUPL071989</td> <td>PUPL     </td> <td>7          </td> <td>1989</td> <td>0       </td> <td>0      </td> <td>0     </td> <td>0       </td> <td>0        </td>\n",
       "        </tr>\n",
       "        <tr>\n",
       "            <td>PUPL081989</td> <td>PUPL     </td> <td>8          </td> <td>1989</td> <td>1       </td> <td>0.1    </td> <td>0     </td> <td>0       </td> <td>1        </td>\n",
       "        </tr>\n",
       "        <tr>\n",
       "            <td>PUPL091989</td> <td>PUPL     </td> <td>9          </td> <td>1989</td> <td>7       </td> <td>1      </td> <td>1.748 </td> <td>0.898   </td> <td>5.7      </td>\n",
       "        </tr>\n",
       "        <tr>\n",
       "            <td>PUPL101989</td> <td>PUPL     </td> <td>1          </td> <td>1989</td> <td>5       </td> <td>0.5    </td> <td>1.609 </td> <td>1       </td> <td>2.4      </td>\n",
       "        </tr>\n",
       "    </tbody>\n",
       "</table>\n",
       "<p>... (242 rows omitted)</p>"
      ],
      "text/plain": [
       "PLOT_ID    | PLOT_NAME | PLOT_NUMBER | YEAR | RICHNESS | COVER_% | HPRIME | EVENNESS | FREQUENCY\n",
       "PUPL011989 | PUPL      | 1           | 1989 | 5        | 0.5     | 1.609  | 1        | 3.4\n",
       "PUPL021989 | PUPL      | 2           | 1989 | 7        | 0.7     | 1.946  | 1        | 4.1\n",
       "PUPL031989 | PUPL      | 3           | 1989 | 4        | 0.4     | 1.386  | 1        | 2.5\n",
       "PUPL041989 | PUPL      | 4           | 1989 | 7        | 0.7     | 1.946  | 1        | 2.1\n",
       "PUPL051989 | PUPL      | 5           | 1989 | 5        | 0.5     | 1.609  | 1        | 2.6\n",
       "PUPL061989 | PUPL      | 6           | 1989 | 5        | 0.5     | 1.609  | 1        | 5\n",
       "PUPL071989 | PUPL      | 7           | 1989 | 0        | 0       | 0      | 0        | 0\n",
       "PUPL081989 | PUPL      | 8           | 1989 | 1        | 0.1     | 0      | 0        | 1\n",
       "PUPL091989 | PUPL      | 9           | 1989 | 7        | 1       | 1.748  | 0.898    | 5.7\n",
       "PUPL101989 | PUPL      | 1           | 1989 | 5        | 0.5     | 1.609  | 1        | 2.4\n",
       "... (242 rows omitted)"
      ]
     },
     "execution_count": 74,
     "metadata": {},
     "output_type": "execute_result"
    }
   ],
   "source": [
    "# Select a particular plot name based on examination of mapped data and descriptions in the plot description dataset.\n",
    "PLT = myplot1 # Put the name for study hear, i.e ='STRD'\n",
    "data1 = MSH_YEAR.where('PLOT_NAME',are.contained_in(PLT)).sort('YEAR',descending=False)\n",
    "data1"
   ]
  },
  {
   "cell_type": "code",
   "execution_count": 75,
   "metadata": {},
   "outputs": [
    {
     "data": {
      "text/plain": [
       "array([ 2.14285714,  1.75      ,  2.44444444,  4.7       ,  2.5       ,\n",
       "        4.4       ,  4.5       ,  2.4       ,  4.69230769,  2.75      ,\n",
       "        3.5       ,  3.75      ])"
      ]
     },
     "execution_count": 75,
     "metadata": {},
     "output_type": "execute_result"
    }
   ],
   "source": [
    "growth1 = data1.where('YEAR',YEAR2)['COVER_%']/data1.where('YEAR',YEAR1)['COVER_%']\n",
    "growth1"
   ]
  },
  {
   "cell_type": "code",
   "execution_count": 76,
   "metadata": {},
   "outputs": [],
   "source": [
    "s1 = np.std(growth1)"
   ]
  },
  {
   "cell_type": "code",
   "execution_count": 77,
   "metadata": {},
   "outputs": [
    {
     "data": {
      "text/plain": [
       "'STRD'"
      ]
     },
     "execution_count": 77,
     "metadata": {},
     "output_type": "execute_result"
    }
   ],
   "source": [
    "myplot2 "
   ]
  },
  {
   "cell_type": "code",
   "execution_count": 78,
   "metadata": {},
   "outputs": [
    {
     "data": {
      "text/html": [
       "<table border=\"1\" class=\"dataframe\">\n",
       "    <thead>\n",
       "        <tr>\n",
       "            <th>PLOT_ID</th> <th>PLOT_NAME</th> <th>PLOT_NUMBER</th> <th>YEAR</th> <th>RICHNESS</th> <th>COVER_%</th> <th>HPRIME</th> <th>EVENNESS</th> <th>FREQUENCY</th>\n",
       "        </tr>\n",
       "    </thead>\n",
       "    <tbody>\n",
       "        <tr>\n",
       "            <td>STRD011984</td> <td>STRD     </td> <td>1          </td> <td>1984</td> <td>1       </td> <td>0.1    </td> <td>0     </td> <td>0       </td> <td>7        </td>\n",
       "        </tr>\n",
       "        <tr>\n",
       "            <td>STRD021984</td> <td>STRD     </td> <td>2          </td> <td>1984</td> <td>2       </td> <td>0.2    </td> <td>0.693 </td> <td>1       </td> <td>1        </td>\n",
       "        </tr>\n",
       "        <tr>\n",
       "            <td>STRD031984</td> <td>STRD     </td> <td>3          </td> <td>1984</td> <td>0       </td> <td>0      </td> <td>0     </td> <td>0       </td> <td>1        </td>\n",
       "        </tr>\n",
       "        <tr>\n",
       "            <td>STRD041984</td> <td>STRD     </td> <td>4          </td> <td>1984</td> <td>0       </td> <td>0      </td> <td>0     </td> <td>0       </td> <td>0        </td>\n",
       "        </tr>\n",
       "        <tr>\n",
       "            <td>STRD051984</td> <td>STRD     </td> <td>5          </td> <td>1984</td> <td>0       </td> <td>0      </td> <td>0     </td> <td>0       </td> <td>0        </td>\n",
       "        </tr>\n",
       "        <tr>\n",
       "            <td>STRD061984</td> <td>STRD     </td> <td>6          </td> <td>1984</td> <td>0       </td> <td>0      </td> <td>0     </td> <td>0       </td> <td>0        </td>\n",
       "        </tr>\n",
       "        <tr>\n",
       "            <td>STRD071984</td> <td>STRD     </td> <td>7          </td> <td>1984</td> <td>0       </td> <td>0      </td> <td>0     </td> <td>0       </td> <td>0        </td>\n",
       "        </tr>\n",
       "        <tr>\n",
       "            <td>STRD081984</td> <td>STRD     </td> <td>8          </td> <td>1984</td> <td>0       </td> <td>0      </td> <td>0     </td> <td>0       </td> <td>0        </td>\n",
       "        </tr>\n",
       "        <tr>\n",
       "            <td>STRD091984</td> <td>STRD     </td> <td>9          </td> <td>1984</td> <td>2       </td> <td>0.2    </td> <td>0.693 </td> <td>1       </td> <td>1        </td>\n",
       "        </tr>\n",
       "        <tr>\n",
       "            <td>STRD101984</td> <td>STRD     </td> <td>10         </td> <td>1984</td> <td>1       </td> <td>0.1    </td> <td>0     </td> <td>0       </td> <td>1        </td>\n",
       "        </tr>\n",
       "    </tbody>\n",
       "</table>\n",
       "<p>... (411 rows omitted)</p>"
      ],
      "text/plain": [
       "PLOT_ID    | PLOT_NAME | PLOT_NUMBER | YEAR | RICHNESS | COVER_% | HPRIME | EVENNESS | FREQUENCY\n",
       "STRD011984 | STRD      | 1           | 1984 | 1        | 0.1     | 0      | 0        | 7\n",
       "STRD021984 | STRD      | 2           | 1984 | 2        | 0.2     | 0.693  | 1        | 1\n",
       "STRD031984 | STRD      | 3           | 1984 | 0        | 0       | 0      | 0        | 1\n",
       "STRD041984 | STRD      | 4           | 1984 | 0        | 0       | 0      | 0        | 0\n",
       "STRD051984 | STRD      | 5           | 1984 | 0        | 0       | 0      | 0        | 0\n",
       "STRD061984 | STRD      | 6           | 1984 | 0        | 0       | 0      | 0        | 0\n",
       "STRD071984 | STRD      | 7           | 1984 | 0        | 0       | 0      | 0        | 0\n",
       "STRD081984 | STRD      | 8           | 1984 | 0        | 0       | 0      | 0        | 0\n",
       "STRD091984 | STRD      | 9           | 1984 | 2        | 0.2     | 0.693  | 1        | 1\n",
       "STRD101984 | STRD      | 10          | 1984 | 1        | 0.1     | 0      | 0        | 1\n",
       "... (411 rows omitted)"
      ]
     },
     "execution_count": 78,
     "metadata": {},
     "output_type": "execute_result"
    }
   ],
   "source": [
    "# Select a particular plot name based on examination of mapped data and descriptions in the plot description dataset.\n",
    "PLT = myplot2 # Put the name for study hear, i.e ='STRD'\n",
    "data2 = MSH_YEAR.where('PLOT_NAME',are.contained_in(PLT)).sort('YEAR',descending=False)\n",
    "data2.sort('YEAR')"
   ]
  },
  {
   "cell_type": "code",
   "execution_count": null,
   "metadata": {},
   "outputs": [],
   "source": [
    "growth2 = ...\n",
    "growth2"
   ]
  },
  {
   "cell_type": "code",
   "execution_count": 79,
   "metadata": {},
   "outputs": [
    {
     "data": {
      "text/plain": [
       "array([  5.75590551,   9.86666667,   4.        ,  11.        ,\n",
       "         5.        ,   6.30769231,   3.        ,   2.66666667,\n",
       "         3.27272727,   2.71428571,   2.58333333,   5.        ,\n",
       "         2.42857143,   3.2       ,   2.83333333,   2.75      ,\n",
       "         3.2       ,   2.83333333,   4.66666667,   3.4       ])"
      ]
     },
     "execution_count": 79,
     "metadata": {},
     "output_type": "execute_result"
    }
   ],
   "source": [
    "## ANSWER\n",
    "growth2 = data2.where('YEAR',YEAR2)['COVER_%']/data2.where('YEAR',YEAR1)['COVER_%']\n",
    "growth2"
   ]
  },
  {
   "cell_type": "code",
   "execution_count": 80,
   "metadata": {},
   "outputs": [],
   "source": [
    "s2 = np.std(growth2)"
   ]
  },
  {
   "cell_type": "code",
   "execution_count": 84,
   "metadata": {},
   "outputs": [
    {
     "data": {
      "text/plain": [
       "1.0298250051202804"
      ]
     },
     "execution_count": 84,
     "metadata": {},
     "output_type": "execute_result"
    }
   ],
   "source": [
    "diffmean = np.mean(growth2) - np.mean(growth1)\n",
    "diffmean"
   ]
  },
  {
   "cell_type": "code",
   "execution_count": null,
   "metadata": {},
   "outputs": [],
   "source": [
    "s =\n",
    "n =\n",
    "SE = "
   ]
  },
  {
   "cell_type": "code",
   "execution_count": 86,
   "metadata": {
    "tags": []
   },
   "outputs": [
    {
     "name": "stdout",
     "output_type": "stream",
     "text": [
      "The mean COVER_% change is: 1.03\n",
      "The standard deviation of the growth in PUPL is: 1.041\n",
      "The standard deviation of the growth in STRD is: 2.319\n",
      "The standard error is: 0.3669\n",
      "The degrees of freedom is: 22\n"
     ]
    }
   ],
   "source": [
    "### ANSWER\n",
    "dof = 2 * len(growth1) - 2\n",
    "\n",
    "\n",
    "n = 2 * len(growth1)\n",
    "se1 = s1/np.sqrt(n)\n",
    "se2 = s2/np.sqrt(n)\n",
    "std_error =  np.sqrt((se1**2+se2**2)/2)\n",
    "\n",
    "print(f'The mean COVER_% change is: {diffmean:.2f}')\n",
    "print(f'The standard deviation of the growth in {myplot1} is: {s1:.3f}')\n",
    "print(f'The standard deviation of the growth in {myplot2} is: {s2:.3f}')\n",
    "print(f'The standard error is: {std_error:.4f}')\n",
    "print(f'The degrees of freedom is: {dof}')"
   ]
  },
  {
   "cell_type": "code",
   "execution_count": 87,
   "metadata": {},
   "outputs": [
    {
     "name": "stdout",
     "output_type": "stream",
     "text": [
      "The t value is: Ellipsis\n"
     ]
    }
   ],
   "source": [
    "t = ...\n",
    "print(\"The t value is:\", t)"
   ]
  },
  {
   "cell_type": "code",
   "execution_count": 88,
   "metadata": {},
   "outputs": [
    {
     "name": "stdout",
     "output_type": "stream",
     "text": [
      "The t value is: 2.80687109375\n"
     ]
    }
   ],
   "source": [
    "t = diffmean/std_error\n",
    "print(\"The t value is:\", t)"
   ]
  },
  {
   "cell_type": "markdown",
   "metadata": {},
   "source": [
    "|$\\nu$<br>degrees of freedom|95%<br>p = 0.05|99%<br>p = 0.01|\n",
    "|:-:|:--|:--|\n",
    "|20|2.09|2.85|"
   ]
  },
  {
   "cell_type": "markdown",
   "metadata": {},
   "source": [
    "p = 0.05 # Reject null with 95% confidence, significant at 5% level but not at 1% level given a critical p-value of 2.09 for 5% level and our t = 2.81 with 22 dof"
   ]
  },
  {
   "cell_type": "markdown",
   "metadata": {},
   "source": [
    "<font color='blue'>***Outcome of Hypothesis Test and conclusion about selected plots...***"
   ]
  },
  {
   "cell_type": "markdown",
   "metadata": {},
   "source": [
    "p = 0.05 # Reject null with 95% confidence, significant at 5% level but not at 1% level given a critical p-value of 2.09 for 5% level and our t = 2.81 with 22 dof"
   ]
  },
  {
   "cell_type": "markdown",
   "metadata": {},
   "source": [
    "Given that `diffmean = np.mean(growth2) - np.mean(growth1)` and that growth1 is connected with PUPL and growth2 is connected with STRD, STRD actually had a greater change in COVER_% "
   ]
  },
  {
   "cell_type": "markdown",
   "metadata": {
    "editable": true,
    "slideshow": {
     "slide_type": ""
    },
    "tags": []
   },
   "source": [
    "## Part 2: Testing a trend"
   ]
  },
  {
   "cell_type": "markdown",
   "metadata": {
    "editable": true,
    "slideshow": {
     "slide_type": ""
    },
    "tags": []
   },
   "source": [
    "### <font color='green'> ***Question 6***</font>\n",
    "Now we will look at the time trend of COVER_% and RICHNESS using the `changes` function you developed and used  in Part 2 of Lab 07. With `changes` we are looking at the number of increases minus decreases over the time period."
   ]
  },
  {
   "cell_type": "markdown",
   "metadata": {},
   "source": [
    "`changes` function:"
   ]
  },
  {
   "cell_type": "code",
   "execution_count": 90,
   "metadata": {},
   "outputs": [],
   "source": [
    "def diff_n(values, n):\n",
    "    '''\n",
    "    Parameters:\n",
    "    values is an array of numbers\n",
    "    n is the offset (how far apart the numbers are in the array)\n",
    "    '''\n",
    "    return np.array(values)[n:] - np.array(values)[:-n]"
   ]
  },
  {
   "cell_type": "code",
   "execution_count": null,
   "metadata": {
    "editable": true,
    "slideshow": {
     "slide_type": ""
    },
    "tags": []
   },
   "outputs": [],
   "source": [
    "def changes(array, years = 1):\n",
    "    \"Return the number of increases minus the number of decreases\"\n",
    "    ..."
   ]
  },
  {
   "cell_type": "code",
   "execution_count": 92,
   "metadata": {
    "tags": []
   },
   "outputs": [],
   "source": [
    "### ANSWER\n",
    "def changes(array, years = 1):\n",
    "    \"Return the number of increases minus the number of decreases after two years.\"\n",
    "    differences = diff_n(array, years)  \n",
    "    positives = np.count_nonzero(differences > 0)\n",
    "    negatives = np.count_nonzero(differences < 0) \n",
    "    return positives - negatives  "
   ]
  },
  {
   "cell_type": "markdown",
   "metadata": {},
   "source": [
    "### <font color='chartreuse'>Need to look at the grouped mean of the annual data not whole data set."
   ]
  },
  {
   "cell_type": "code",
   "execution_count": 96,
   "metadata": {
    "tags": []
   },
   "outputs": [
    {
     "data": {
      "text/html": [
       "<table border=\"1\" class=\"dataframe\">\n",
       "    <thead>\n",
       "        <tr>\n",
       "            <th>YEAR</th> <th>PLOT_ID mean</th> <th>PLOT_NAME mean</th> <th>PLOT_NUMBER mean</th> <th>RICHNESS mean</th> <th>COVER_% mean</th> <th>HPRIME mean</th> <th>EVENNESS mean</th> <th>FREQUENCY mean</th>\n",
       "        </tr>\n",
       "    </thead>\n",
       "    <tbody>\n",
       "        <tr>\n",
       "            <td>1989</td> <td>            </td> <td>              </td> <td>4               </td> <td>4.25         </td> <td>0.45        </td> <td>1.25592    </td> <td>0.7415       </td> <td>2.61667       </td>\n",
       "        </tr>\n",
       "        <tr>\n",
       "            <td>1990</td> <td>            </td> <td>              </td> <td>4               </td> <td>6.58333      </td> <td>0.791667    </td> <td>1.7875     </td> <td>0.973083     </td> <td>3.68333       </td>\n",
       "        </tr>\n",
       "        <tr>\n",
       "            <td>1991</td> <td>            </td> <td>              </td> <td>4               </td> <td>9            </td> <td>1.01667     </td> <td>2.11708    </td> <td>0.979833     </td> <td>3.1           </td>\n",
       "        </tr>\n",
       "        <tr>\n",
       "            <td>1992</td> <td>            </td> <td>              </td> <td>4               </td> <td>11.6667      </td> <td>1.34167     </td> <td>2.36067    </td> <td>0.9735       </td> <td>3.425         </td>\n",
       "        </tr>\n",
       "        <tr>\n",
       "            <td>1993</td> <td>            </td> <td>              </td> <td>4               </td> <td>14.8333      </td> <td>1.95        </td> <td>2.508      </td> <td>0.941333     </td> <td>3             </td>\n",
       "        </tr>\n",
       "        <tr>\n",
       "            <td>1994</td> <td>            </td> <td>              </td> <td>4               </td> <td>15.5         </td> <td>2.05833     </td> <td>2.56633    </td> <td>0.943083     </td> <td>4.10833       </td>\n",
       "        </tr>\n",
       "        <tr>\n",
       "            <td>1995</td> <td>            </td> <td>              </td> <td>4               </td> <td>15.8333      </td> <td>2.55        </td> <td>2.47225    </td> <td>0.90175      </td> <td>4.53333       </td>\n",
       "        </tr>\n",
       "        <tr>\n",
       "            <td>1996</td> <td>            </td> <td>              </td> <td>4               </td> <td>16.5         </td> <td>2.90833     </td> <td>2.49292    </td> <td>0.89375      </td> <td>5.39167       </td>\n",
       "        </tr>\n",
       "        <tr>\n",
       "            <td>1997</td> <td>            </td> <td>              </td> <td>4               </td> <td>17.5833      </td> <td>3.76667     </td> <td>2.34125    </td> <td>0.820917     </td> <td>6.65          </td>\n",
       "        </tr>\n",
       "        <tr>\n",
       "            <td>1998</td> <td>            </td> <td>              </td> <td>4               </td> <td>19.3333      </td> <td>5.29167     </td> <td>2.38525    </td> <td>0.807917     </td> <td>9.79167       </td>\n",
       "        </tr>\n",
       "    </tbody>\n",
       "</table>\n",
       "<p>... (11 rows omitted)</p>"
      ],
      "text/plain": [
       "YEAR | PLOT_ID mean | PLOT_NAME mean | PLOT_NUMBER mean | RICHNESS mean | COVER_% mean | HPRIME mean | EVENNESS mean | FREQUENCY mean\n",
       "1989 |              |                | 4                | 4.25          | 0.45         | 1.25592     | 0.7415        | 2.61667\n",
       "1990 |              |                | 4                | 6.58333       | 0.791667     | 1.7875      | 0.973083      | 3.68333\n",
       "1991 |              |                | 4                | 9             | 1.01667      | 2.11708     | 0.979833      | 3.1\n",
       "1992 |              |                | 4                | 11.6667       | 1.34167      | 2.36067     | 0.9735        | 3.425\n",
       "1993 |              |                | 4                | 14.8333       | 1.95         | 2.508       | 0.941333      | 3\n",
       "1994 |              |                | 4                | 15.5          | 2.05833      | 2.56633     | 0.943083      | 4.10833\n",
       "1995 |              |                | 4                | 15.8333       | 2.55         | 2.47225     | 0.90175       | 4.53333\n",
       "1996 |              |                | 4                | 16.5          | 2.90833      | 2.49292     | 0.89375       | 5.39167\n",
       "1997 |              |                | 4                | 17.5833       | 3.76667      | 2.34125     | 0.820917      | 6.65\n",
       "1998 |              |                | 4                | 19.3333       | 5.29167      | 2.38525     | 0.807917      | 9.79167\n",
       "... (11 rows omitted)"
      ]
     },
     "execution_count": 96,
     "metadata": {},
     "output_type": "execute_result"
    }
   ],
   "source": [
    "data1.group('YEAR',np.mean)"
   ]
  },
  {
   "cell_type": "code",
   "execution_count": 99,
   "metadata": {},
   "outputs": [
    {
     "name": "stdout",
     "output_type": "stream",
     "text": [
      "Total increases minus total decreases, across all years 14.000 for PUPL\n"
     ]
    }
   ],
   "source": [
    "test_stat = changes(data1.group('YEAR',np.mean)['COVER_% mean'])\n",
    "print(f'Total increases minus total decreases, across all years {test_stat:.3f} for {myplot1}' )"
   ]
  },
  {
   "cell_type": "code",
   "execution_count": 100,
   "metadata": {},
   "outputs": [
    {
     "name": "stdout",
     "output_type": "stream",
     "text": [
      "Total increases minus total decreases, across all years 9.000 for PUPL\n"
     ]
    }
   ],
   "source": [
    "test_stat = changes(data1.group('YEAR',np.mean)['RICHNESS mean'])\n",
    "print(f'Total increases minus total decreases, across all years {test_stat:.3f} for {myplot1}' )"
   ]
  },
  {
   "cell_type": "code",
   "execution_count": 103,
   "metadata": {},
   "outputs": [
    {
     "name": "stdout",
     "output_type": "stream",
     "text": [
      "Total increases minus total decreases, across all years 9.000 for STRD\n"
     ]
    }
   ],
   "source": [
    "test_stat = changes(data2.group('YEAR',np.mean)['RICHNESS mean'])\n",
    "print(f'Total increases minus total decreases, across all years {test_stat:.3f} for {myplot2}' )"
   ]
  },
  {
   "cell_type": "code",
   "execution_count": 104,
   "metadata": {},
   "outputs": [
    {
     "name": "stdout",
     "output_type": "stream",
     "text": [
      "Total increases minus total decreases, across all years 9.000 for STRD\n"
     ]
    }
   ],
   "source": [
    "test_stat = changes(data2.group('YEAR',np.mean)['COVER_% mean'])\n",
    "print(f'Total increases minus total decreases, across all years {test_stat:.3f} for {myplot2}' )"
   ]
  },
  {
   "cell_type": "code",
   "execution_count": null,
   "metadata": {},
   "outputs": [],
   "source": []
  },
  {
   "cell_type": "markdown",
   "metadata": {},
   "source": [
    "### <font color='green'> ***Question 7***</font>\n",
    "Carry out 1000 simulations. Statistically test whether data supports the alternate hypothesis\n",
    "    1. Compute a P-value. (Hint: you can use np.count_nonzero())\n",
    "    2. Using a 5% P-value cutoff, draw a conclusion about the null and alternative hypotheses.\n",
    "    3. Describe your findings using simple, non-technical language."
   ]
  },
  {
   "cell_type": "markdown",
   "metadata": {},
   "source": [
    "### <font color='purple'>Make sure the number of changes possible for the simulation mirrors the number of years in the grouped data."
   ]
  },
  {
   "cell_type": "code",
   "execution_count": 105,
   "metadata": {
    "tags": []
   },
   "outputs": [],
   "source": [
    "### ANSWER\n",
    "def simulate_under_null(num_chances_to_change):\n",
    "    uniform = Table().with_columns(\n",
    "        \"Change\", make_array('Increase', 'Decrease'),\n",
    "        \"Chance\", make_array(0.5,        0.5))\n",
    "    sample = uniform.sample_from_distribution('Chance', num_chances_to_change)  ##ANSWER   \n",
    "    increases = sample.column(\"Chance sample\").item(0)  ##ANSWER\n",
    "    decreases = sample.column(\"Chance sample\").item(1)  ##ANSWER    \n",
    "    ## return test statistic of increases minus decreases\n",
    "    return increases - decreases  ##ANSWER"
   ]
  },
  {
   "cell_type": "code",
   "execution_count": 115,
   "metadata": {
    "tags": []
   },
   "outputs": [],
   "source": [
    "### ANSWER\n",
    "def empirical_distribution(possible_changes):\n",
    "    num_changes = possible_changes ##ANSWER\n",
    "    samples = make_array()\n",
    "    for i in np.arange(10000):\n",
    "        samples = np.append(samples, simulate_under_null(num_changes))  ##ANSWER\n",
    "    Table().with_column('Test statistic under null', samples).hist(bins=np.arange(0, max(samples) + max(samples) * 0.05, 2),edgecolor='red', linewidth=1.2 )\n",
    "    return samples"
   ]
  },
  {
   "cell_type": "code",
   "execution_count": 116,
   "metadata": {
    "tags": []
   },
   "outputs": [
    {
     "data": {
      "text/plain": [
       "21"
      ]
     },
     "execution_count": 116,
     "metadata": {},
     "output_type": "execute_result"
    }
   ],
   "source": [
    "possible_changes1 = len(data1.group('YEAR',np.mean)['COVER_% mean']) # Maximum possible changes\n",
    "possible_changes1"
   ]
  },
  {
   "cell_type": "code",
   "execution_count": 108,
   "metadata": {
    "tags": []
   },
   "outputs": [
    {
     "data": {
      "text/plain": [
       "24"
      ]
     },
     "execution_count": 108,
     "metadata": {},
     "output_type": "execute_result"
    }
   ],
   "source": [
    "possible_changes2 = len(data2.group('YEAR',np.mean)['COVER_% mean']) # Maximum possible changes\n",
    "possible_changes2"
   ]
  },
  {
   "cell_type": "code",
   "execution_count": 130,
   "metadata": {
    "tags": []
   },
   "outputs": [
    {
     "data": {
      "text/plain": [
       "<matplotlib.legend.Legend at 0x79bfad6b2230>"
      ]
     },
     "execution_count": 130,
     "metadata": {},
     "output_type": "execute_result"
    },
    {
     "data": {
      "image/png": "[encoded data removed]",
      "text/plain": [
       "<Figure size 600x400 with 1 Axes>"
      ]
     },
     "metadata": {},
     "output_type": "display_data"
    }
   ],
   "source": [
    "empirical_distribution(possible_changes1)\n",
    "plt.scatter(changes(data1.group('YEAR',np.mean)['COVER_% mean']),0,s=200,c='green', edgecolor='black',label=myplot1+' COVER_%')\n",
    "plt.scatter(changes(data1.group('YEAR',np.mean)['RICHNESS mean']),0,s=200,c='chartreuse', edgecolor='black',label=myplot1+' RICHNESS')\n",
    "plt.legend()"
   ]
  },
  {
   "cell_type": "code",
   "execution_count": 133,
   "metadata": {
    "tags": []
   },
   "outputs": [
    {
     "data": {
      "text/plain": [
       "<matplotlib.legend.Legend at 0x79bfad4dd990>"
      ]
     },
     "execution_count": 133,
     "metadata": {},
     "output_type": "execute_result"
    },
    {
     "data": {
      "image/png": "[encoded data removed]",
      "text/plain": [
       "<Figure size 600x400 with 1 Axes>"
      ]
     },
     "metadata": {},
     "output_type": "display_data"
    }
   ],
   "source": [
    "empirical_distribution(possible_changes2)\n",
    "plt.scatter(changes(data2.group('YEAR',np.mean)['COVER_% mean']),0,s=200,c='green', edgecolor='black',label=myplot2+' COVER_%')\n",
    "plt.scatter(changes(data2.group('YEAR',np.mean)['RICHNESS mean']),.01,s=200,c='chartreuse', edgecolor='black',label=myplot2+' RICHNESS')\n",
    "plt.legend()"
   ]
  },
  {
   "cell_type": "markdown",
   "metadata": {},
   "source": [
    "### <font color='green'> ***Question 8: Conclusions***</font>\n",
    "Summarize your conclusions from your study of two plots. Contrast the features of the two plots and how they might lead to different or similar conclusions in the magnitude and significance of the studied quantities, COVER_% or RICHNESS. Use a markdown Table to summarize part of your conclusions. A markdown table uses `|` to divide headings and `|---|` to draw lines between rows. Below you will find an example of a started table, replace these entries with your results. There should be one row for each of the two tests."
   ]
  },
  {
   "cell_type": "markdown",
   "metadata": {},
   "source": []
  },
  {
   "cell_type": "markdown",
   "metadata": {},
   "source": [
    "|Plot Name|Hypothesis|p-value|conclusion|\n",
    "|---|---|---|---|\n",
    "|myplot1| COVER_% increases after eruption| p-value = 0.001, simulation, p-value = 0.000|reject Null hypothesis|"
   ]
  },
  {
   "cell_type": "markdown",
   "metadata": {},
   "source": [
    "### <font color='green'> ***Question 9***</font>\n",
    "- What techniques did you use from Lab 07?\n",
    "- What part was the most challenging?\n",
    "- How long did you spend on the lab?\n",
    "- What did you learn from this 2nd mini-project?"
   ]
  },
  {
   "cell_type": "markdown",
   "metadata": {},
   "source": []
  },
  {
   "cell_type": "code",
   "execution_count": 134,
   "metadata": {
    "editable": true,
    "slideshow": {
     "slide_type": ""
    },
    "tags": []
   },
   "outputs": [
    {
     "name": "stdout",
     "output_type": "stream",
     "text": [
      " Submitted by  ERUPTOR jmsmith1@temple.edu  at  22:24:07 on Wednesday, March the 27th, 2024\n"
     ]
    }
   ],
   "source": [
    "# Last cell to execute\n",
    "import datetime\n",
    "now = datetime.datetime.now()\n",
    "now = now.strftime('%H:%M:%S on %A, %B the %dth, %Y')\n",
    "print(\" Submitted by \", name, user, \" at \", now )"
   ]
  },
  {
   "cell_type": "code",
   "execution_count": null,
   "metadata": {},
   "outputs": [],
   "source": []
  }
 ],
 "metadata": {
  "kernelspec": {
   "display_name": "Python 3 (ipykernel)",
   "language": "python",
   "name": "python3"
  },
  "language_info": {
   "codemirror_mode": {
    "name": "ipython",
    "version": 3
   },
   "file_extension": ".py",
   "mimetype": "text/x-python",
   "name": "python",
   "nbconvert_exporter": "python",
   "pygments_lexer": "ipython3",
   "version": "3.10.11"
  }
 },
 "nbformat": 4,
 "nbformat_minor": 4
}
