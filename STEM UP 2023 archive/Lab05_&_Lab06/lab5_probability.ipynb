{
 "cells": [
  {
   "cell_type": "markdown",
   "metadata": {},
   "source": [
    "# Lab 5: Probability & Randomization\n",
    "\n",
    "Welcome to our 2nd Module on statistics and lab 5! This week, we will go over conditionals and iteration, and introduce the concept of randomness. Randomness and probability are central concepts to statistics. All of this material is covered in [Chapter 8](https://inferentialthinking.com/chapters/09/Randomness.html) of the textbook. \n",
    "\n",
    "First, set up the tests and imports by running the cell below."
   ]
  },
  {
   "cell_type": "code",
   "execution_count": null,
   "metadata": {},
   "outputs": [],
   "source": [
    "name = ..."
   ]
  },
  {
   "cell_type": "code",
   "execution_count": 2,
   "metadata": {},
   "outputs": [],
   "source": [
    "import numpy as np\n",
    "from datascience import *\n",
    "%matplotlib inline\n",
    "import matplotlib.pyplot as plt\n",
    "plt.style.use('ggplot')\n",
    "import os\n",
    "user = os.getenv('JUPYTERHUB_USER')\n",
    "from gofer.ok import check"
   ]
  },
  {
   "cell_type": "markdown",
   "metadata": {},
   "source": [
    "## 1. Conditionals"
   ]
  },
  {
   "cell_type": "markdown",
   "metadata": {},
   "source": [
    "In Python, Boolean values can either be `True` or `False`. We get Boolean values when using comparison operators, among which are `<` (less than), `>` (greater than), and `==` (equal to). For a complete list, refer to [Booleans and Comparison](https://inferentialthinking.com/chapters/09/Randomness.html) at the start of Chapter 8.\n",
    "\n",
    "Run the cell below to see an example of a comparison operator in action."
   ]
  },
  {
   "cell_type": "code",
   "execution_count": 3,
   "metadata": {},
   "outputs": [
    {
     "data": {
      "text/plain": [
       "True"
      ]
     },
     "execution_count": 3,
     "metadata": {},
     "output_type": "execute_result"
    }
   ],
   "source": [
    "bool_expression = 3 > 1 + 1\n",
    "bool_expression"
   ]
  },
  {
   "cell_type": "markdown",
   "metadata": {},
   "source": [
    "Arrays are compatible with comparison operators. The output is an array of boolean values."
   ]
  },
  {
   "cell_type": "code",
   "execution_count": 4,
   "metadata": {},
   "outputs": [
    {
     "data": {
      "text/plain": [
       "array([False,  True,  True,  True, False, False], dtype=bool)"
      ]
     },
     "execution_count": 4,
     "metadata": {},
     "output_type": "execute_result"
    }
   ],
   "source": [
    "make_array(1, 5, 7, 8, 3, -1) > 3"
   ]
  },
  {
   "cell_type": "markdown",
   "metadata": {},
   "source": [
    "In Python, `True` is also equivalent to the integer 1, and `False` is equivalent to the integer 0."
   ]
  },
  {
   "cell_type": "code",
   "execution_count": 5,
   "metadata": {},
   "outputs": [
    {
     "data": {
      "text/plain": [
       "True"
      ]
     },
     "execution_count": 5,
     "metadata": {},
     "output_type": "execute_result"
    }
   ],
   "source": [
    "bool_expression == 1"
   ]
  },
  {
   "cell_type": "markdown",
   "metadata": {},
   "source": [
    "You're hanging out with friends and ordered pizza.  You have a stack of pizza boxes that include plain cheese, veggie, supreme, and pepperoni.  \n",
    "\n",
    "Using the function call `np.random.choice(array_name)`, let's simulate opening a pizza box at random. Start by running the cell below several times, and observe how the results change."
   ]
  },
  {
   "cell_type": "code",
   "execution_count": null,
   "metadata": {},
   "outputs": [],
   "source": [
    "pizza = make_array('cheese', 'veggie', 'supreme', 'pepperoni')\n",
    "np.random.choice(pizza)"
   ]
  },
  {
   "cell_type": "markdown",
   "metadata": {},
   "source": [
    "### <font color=blue> **Question 1.** </font> \n",
    "Assume we took 7 slices of pizza at random, and stored the results in an array called `seven_slices`. Find the number of slices of pepperoni pizza (do not hardcode the answer).  \n",
    "\n",
    "*Hint:* Our solution involves a comparison operator and the `np.count_nonzero` method. This is because Python considers any non-zero integer to be True, and zero to be False."
   ]
  },
  {
   "cell_type": "code",
   "execution_count": null,
   "metadata": {},
   "outputs": [],
   "source": [
    "seven_slices = make_array('cheese', 'supreme', 'cheese', 'pepperoni', 'veggie', 'veggie', 'cheese')\n",
    "number_pepperoni = ...\n",
    "number_pepperoni"
   ]
  },
  {
   "cell_type": "code",
   "execution_count": null,
   "metadata": {},
   "outputs": [],
   "source": [
    "check('tests/q1.py')"
   ]
  },
  {
   "cell_type": "markdown",
   "metadata": {},
   "source": [
    "**Conditional Statements**\n",
    "\n",
    "A conditional statement is made up of many lines that allow Python to choose from different alternatives based on whether some condition is true.\n",
    "\n",
    "Here is a basic example.\n",
    "\n",
    "```\n",
    "def sign(x):\n",
    "    if x > 0:\n",
    "        return 'Positive'\n",
    "```\n",
    "\n",
    "How the function works is if the input `x` is greater than `0`, we get the string `'Positive'` back.\n",
    "\n",
    "If we want to test multiple conditions at once, we use the following general format.\n",
    "\n",
    "```\n",
    "if <if expression>:\n",
    "    <if body>\n",
    "elif <elif expression 0>:\n",
    "    <elif body 0>\n",
    "elif <elif expression 1>:\n",
    "    <elif body 1>\n",
    "...\n",
    "else:\n",
    "    <else body>\n",
    "```\n",
    "\n",
    "Only one of the bodies will ever be executed. Each `if` and `elif` expression is evaluated and considered in order, starting at the top. As soon as a true value is found, the corresponding body is executed, and the rest of the expression is skipped. If none of the `if` or `elif` expressions are true, then the `else body` is executed. For more examples and explanation, refer to [Section 8.1](https://www.inferentialthinking.com/chapters/08/1/conditional-statements.html)."
   ]
  },
  {
   "cell_type": "markdown",
   "metadata": {},
   "source": [
    "### <font color=blue> **Question 2.** </font> \n",
    "We want to write a function that returns the price of a pizza depending on the type.  The function takes in the type of pizza as a string and returns a price: 10 dollars for cheese,  12 dollars for veggie, 13 dollars for pepperoni, and 15 dollars for supreme.  "
   ]
  },
  {
   "cell_type": "code",
   "execution_count": null,
   "metadata": {},
   "outputs": [],
   "source": [
    "def pizza_price(pizza):\n",
    "    if ...\n",
    "        return 10\n",
    "    # next condition should return 12\n",
    "    ...\n",
    "    # next condition should return 13\n",
    "    ...\n",
    "    # next condition should return 15\n",
    "    ...\n",
    "\n",
    "plain_price = pizza_price('cheese')\n",
    "plain_price"
   ]
  },
  {
   "cell_type": "code",
   "execution_count": null,
   "metadata": {},
   "outputs": [],
   "source": [
    "check('tests/q2.py')"
   ]
  },
  {
   "cell_type": "markdown",
   "metadata": {},
   "source": [
    "## 2. Iteration\n",
    "\n",
    "Using a `for` statement, we can perform a task multiple times. This is known as iteration. Here, we'll simulate drawing different suits from a deck of cards. "
   ]
  },
  {
   "cell_type": "code",
   "execution_count": null,
   "metadata": {},
   "outputs": [],
   "source": [
    "suits = make_array(\"♤\", \"♡\", \"♢\", \"♧\")\n",
    "draws = make_array()\n",
    "repetitions = 6\n",
    "for i in np.arange(repetitions):\n",
    "    draws = np.append(draws, np.random.choice(suits))\n",
    "draws"
   ]
  },
  {
   "cell_type": "markdown",
   "metadata": {},
   "source": [
    "Another use of iteration is to loop through a set of values. For instance, we can print out all of the colors of the rainbow."
   ]
  },
  {
   "cell_type": "code",
   "execution_count": null,
   "metadata": {},
   "outputs": [],
   "source": [
    "rainbow = make_array(\"red\", \"orange\", \"yellow\", \"green\", \"blue\", \"indigo\", \"violet\")\n",
    "for color in rainbow:\n",
    "    print(color)"
   ]
  },
  {
   "cell_type": "markdown",
   "metadata": {},
   "source": [
    "We can see that the indented part of the `for` loop, known as the body, is executed once for each item in `rainbow`. Note that the name `color` is arbitrary; we could easily have named it something else."
   ]
  },
  {
   "cell_type": "markdown",
   "metadata": {},
   "source": [
    "### <font color=blue> **Question 3.** </font>  \n",
    "You're working at a pizza shop, and we want to simulate the amount of money the shop brings in over two weeks (the shop sells 500 pizzas a week on average).  Write code that simulates the total money made after 2 weeks using your `pizza_price` function above assuming orders for the different pizza types are equally likely."
   ]
  },
  {
   "cell_type": "code",
   "execution_count": null,
   "metadata": {},
   "outputs": [],
   "source": [
    "possible_pizzas = ... # make an array of pizza types\n",
    "pizzas = 1000\n",
    "\n",
    "total_money = ... # Initialize the value of total *before* you start the loop\n",
    "\n",
    "for ... in ...: # Create a loop over the 1000 pizzas\n",
    "    pizza = ... # Select a pizza type at random from your array\n",
    "    cost = ...  # Use your function to determine its cost\n",
    "    ...         # Add the cost to your running total\n",
    "\n",
    "total_money"
   ]
  },
  {
   "cell_type": "code",
   "execution_count": null,
   "metadata": {},
   "outputs": [],
   "source": [
    "check('tests/q3.py')"
   ]
  },
  {
   "cell_type": "markdown",
   "metadata": {},
   "source": [
    "### <font color=blue> **Question 4.** </font> \n",
    "Charles Darwin is a famous naturalist and biologist from the late 1800s.  While Darwin is known for several different theories, one of his most well known theory involved the finches on Galapagos Islands and helped form his theory on natural selection and speciation.  In this question, we are going to loop through Charles Darwin's book on the Origin of Species and count up the number of times he refers to bird or birds in the text.\n",
    "\n",
    "*Hint:* We want to count all instances of bird, birds, Bird and Birds."
   ]
  },
  {
   "cell_type": "code",
   "execution_count": null,
   "metadata": {},
   "outputs": [],
   "source": [
    "darwin_string = open('darwin_origin_species.txt', encoding='utf-8').read()\n",
    "darwin_words = np.array(darwin_string.split())\n",
    "\n",
    "birds = ...\n",
    "...\n",
    "\n",
    "\n",
    "birds "
   ]
  },
  {
   "cell_type": "code",
   "execution_count": null,
   "metadata": {},
   "outputs": [],
   "source": [
    "import numpy as np\n",
    "darwin_string = open('darwin_origin_species.txt', encoding='utf-8').read()\n",
    "darwin_words = np.array(darwin_string.split())\n",
    "len(darwin_words)"
   ]
  },
  {
   "cell_type": "code",
   "execution_count": null,
   "metadata": {},
   "outputs": [],
   "source": [
    "check('tests/q4.py')"
   ]
  },
  {
   "cell_type": "markdown",
   "metadata": {},
   "source": [
    "## 3. Probability"
   ]
  },
  {
   "cell_type": "markdown",
   "metadata": {},
   "source": [
    "Astronomers have their telescope pointed towards a particular section of sky.  During an hour period, astronomers have 0.7 chance of seeing a Meteoroid in the sky. \n",
    "\n",
    "### <font color=blue> **Question 5.** </font> \n",
    "What is the probability that the astronomer will not see a Meteoroid in this hour?"
   ]
  },
  {
   "cell_type": "code",
   "execution_count": null,
   "metadata": {},
   "outputs": [],
   "source": [
    "no_meteoroid = ...\n",
    "no_meteoroid"
   ]
  },
  {
   "cell_type": "code",
   "execution_count": null,
   "metadata": {},
   "outputs": [],
   "source": [
    "check('tests/q5.py')"
   ]
  },
  {
   "cell_type": "markdown",
   "metadata": {},
   "source": [
    "### <font color=blue> **Question 6.** </font> \n",
    "What is the probability of seeing a meteroid in the first hour and then seeing a meteoroid in the second hour?"
   ]
  },
  {
   "cell_type": "code",
   "execution_count": null,
   "metadata": {},
   "outputs": [],
   "source": [
    "two_meteoroids = ...\n",
    "two_meteoroids"
   ]
  },
  {
   "cell_type": "code",
   "execution_count": null,
   "metadata": {},
   "outputs": [],
   "source": [
    "check('tests/q6.py')"
   ]
  },
  {
   "cell_type": "markdown",
   "metadata": {},
   "source": [
    "### <font color=blue> **Question 6 Discussion.** </font>\n",
    "We are assuming here that the probabilities are \"unconditional.\" That is that the probability of seeing a meteoroid in the second hour does not depend on whether or not you saw one in the first hour. Not all probabilities are unconditional. **Create a markdown cell below this one and describe an instance of conditional probability, and explain why the odds change depending on the previous outcome.**"
   ]
  },
  {
   "cell_type": "markdown",
   "metadata": {},
   "source": [
    "### <font color=blue> **Question 7.** </font> \n",
    "A club on campus is holding a contest.  There is a bag with two red marbles, two green marbles, and two blue marbles. You have to draw three marbles separately. In order to win, all three of these marbles must be of different colors.  What is the probability of you winning the contest?"
   ]
  },
  {
   "cell_type": "code",
   "execution_count": null,
   "metadata": {},
   "outputs": [],
   "source": [
    "winning_prob = ...\n",
    "winning_prob"
   ]
  },
  {
   "cell_type": "code",
   "execution_count": null,
   "metadata": {},
   "outputs": [],
   "source": [
    "check('tests/q7.py')"
   ]
  },
  {
   "cell_type": "markdown",
   "metadata": {},
   "source": [
    "## 4. Application:  Groundhog's Day\n",
    "\n",
    "Researchers seek to understand whether Groundhogs are able to predict the onset of spring any better than chance.  In this particular study, researchers look at 33 groundhogs across North America (USA and Canada) and gather data for several years.  This includes whether the groundhog saw its shadow and whether the onset of spring was late or early - which for our uses are going to be the two columns we're going to focus on.  In the cell below, we read in dataset into a table called `groundhogdata`.  "
   ]
  },
  {
   "cell_type": "code",
   "execution_count": 6,
   "metadata": {},
   "outputs": [
    {
     "data": {
      "text/html": [
       "<table border=\"1\" class=\"dataframe\">\n",
       "    <thead>\n",
       "        <tr>\n",
       "            <th>hogID</th> <th>year</th> <th>shadowPres</th> <th>dateSample</th> <th>julDay</th> <th>GDD</th> <th>cGDD</th> <th>numObs</th> <th>meanJulSpringDay</th> <th>sdJulSpringDay</th> <th>seJulSpringDay</th> <th>earlyOrLate</th>\n",
       "        </tr>\n",
       "    </thead>\n",
       "    <tbody>\n",
       "        <tr>\n",
       "            <td>BC   </td> <td>2018</td> <td>yes       </td> <td>2018-04-11</td> <td>101   </td> <td>3.05556 </td> <td>127.222</td> <td>30    </td> <td>85.8667         </td> <td>12.4367       </td> <td>2.27062       </td> <td>late       </td>\n",
       "        </tr>\n",
       "        <tr>\n",
       "            <td>BC   </td> <td>2019</td> <td>no        </td> <td>2019-04-06</td> <td>96    </td> <td>8.33333 </td> <td>123.889</td> <td>30    </td> <td>85.8667         </td> <td>12.4367       </td> <td>2.27062       </td> <td>late       </td>\n",
       "        </tr>\n",
       "        <tr>\n",
       "            <td>BECK </td> <td>2006</td> <td>yes       </td> <td>2006-02-15</td> <td>46    </td> <td>7.22222 </td> <td>127.006</td> <td>30    </td> <td>72.4333         </td> <td>14.6586       </td> <td>2.67628       </td> <td>early      </td>\n",
       "        </tr>\n",
       "        <tr>\n",
       "            <td>BECK </td> <td>2007</td> <td>no        </td> <td>2007-03-14</td> <td>73    </td> <td>14.1667 </td> <td>129.167</td> <td>30    </td> <td>72.4333         </td> <td>14.6586       </td> <td>2.67628       </td> <td>late       </td>\n",
       "        </tr>\n",
       "        <tr>\n",
       "            <td>BECK </td> <td>2008</td> <td>no        </td> <td>2008-03-17</td> <td>77    </td> <td>0.833333</td> <td>128.611</td> <td>30    </td> <td>72.4333         </td> <td>14.6586       </td> <td>2.67628       </td> <td>late       </td>\n",
       "        </tr>\n",
       "        <tr>\n",
       "            <td>BECK </td> <td>2009</td> <td>yes       </td> <td>2009-03-10</td> <td>69    </td> <td>12.2222 </td> <td>130    </td> <td>30    </td> <td>72.4333         </td> <td>14.6586       </td> <td>2.67628       </td> <td>early      </td>\n",
       "        </tr>\n",
       "        <tr>\n",
       "            <td>BECK </td> <td>2010</td> <td>no        </td> <td>2010-03-21</td> <td>80    </td> <td>7.22222 </td> <td>129.444</td> <td>30    </td> <td>72.4333         </td> <td>14.6586       </td> <td>2.67628       </td> <td>late       </td>\n",
       "        </tr>\n",
       "        <tr>\n",
       "            <td>BECK </td> <td>2011</td> <td>no        </td> <td>2011-03-20</td> <td>79    </td> <td>7.77778 </td> <td>133.611</td> <td>30    </td> <td>72.4333         </td> <td>14.6586       </td> <td>2.67628       </td> <td>late       </td>\n",
       "        </tr>\n",
       "        <tr>\n",
       "            <td>BECK </td> <td>2012</td> <td>no        </td> <td>2012-03-07</td> <td>67    </td> <td>13.3333 </td> <td>129.444</td> <td>30    </td> <td>72.4333         </td> <td>14.6586       </td> <td>2.67628       </td> <td>early      </td>\n",
       "        </tr>\n",
       "        <tr>\n",
       "            <td>BECK </td> <td>2013</td> <td>no        </td> <td>2013-03-30</td> <td>89    </td> <td>3.88889 </td> <td>128.611</td> <td>30    </td> <td>72.4333         </td> <td>14.6586       </td> <td>2.67628       </td> <td>late       </td>\n",
       "        </tr>\n",
       "    </tbody>\n",
       "</table>\n",
       "<p>... (520 rows omitted)</p>"
      ],
      "text/plain": [
       "hogID | year | shadowPres | dateSample | julDay | GDD      | cGDD    | numObs | meanJulSpringDay | sdJulSpringDay | seJulSpringDay | earlyOrLate\n",
       "BC    | 2018 | yes        | 2018-04-11 | 101    | 3.05556  | 127.222 | 30     | 85.8667          | 12.4367        | 2.27062        | late\n",
       "BC    | 2019 | no         | 2019-04-06 | 96     | 8.33333  | 123.889 | 30     | 85.8667          | 12.4367        | 2.27062        | late\n",
       "BECK  | 2006 | yes        | 2006-02-15 | 46     | 7.22222  | 127.006 | 30     | 72.4333          | 14.6586        | 2.67628        | early\n",
       "BECK  | 2007 | no         | 2007-03-14 | 73     | 14.1667  | 129.167 | 30     | 72.4333          | 14.6586        | 2.67628        | late\n",
       "BECK  | 2008 | no         | 2008-03-17 | 77     | 0.833333 | 128.611 | 30     | 72.4333          | 14.6586        | 2.67628        | late\n",
       "BECK  | 2009 | yes        | 2009-03-10 | 69     | 12.2222  | 130     | 30     | 72.4333          | 14.6586        | 2.67628        | early\n",
       "BECK  | 2010 | no         | 2010-03-21 | 80     | 7.22222  | 129.444 | 30     | 72.4333          | 14.6586        | 2.67628        | late\n",
       "BECK  | 2011 | no         | 2011-03-20 | 79     | 7.77778  | 133.611 | 30     | 72.4333          | 14.6586        | 2.67628        | late\n",
       "BECK  | 2012 | no         | 2012-03-07 | 67     | 13.3333  | 129.444 | 30     | 72.4333          | 14.6586        | 2.67628        | early\n",
       "BECK  | 2013 | no         | 2013-03-30 | 89     | 3.88889  | 128.611 | 30     | 72.4333          | 14.6586        | 2.67628        | late\n",
       "... (520 rows omitted)"
      ]
     },
     "execution_count": 6,
     "metadata": {},
     "output_type": "execute_result"
    }
   ],
   "source": [
    "groundhogdata = Table.read_table('GroundHogData/summarizedGroundhogData_20210326.csv')\n",
    "groundhogdata"
   ]
  },
  {
   "cell_type": "markdown",
   "metadata": {},
   "source": [
    "Each groundhog has the options of either seeing their shadow or not seeing their shadow.  If the groundhog sees their shadow, they are then predicting that spring will come late.  If a groundhog doesn't see their shadow, then they are predicting that spring will come early. We are trying to see if the groundhog has special perception and can predict the onset of Spring better  than a coin toss (50/50).\n",
    "\n",
    "### <font color=blue> **Question 8.** </font>\n",
    "Create a table that contains all the rows where the Groundhogs correctly predicted the onset of Spring. Since there are two ways the groundhogs could be correct, you may want to make multiple tables and then combine them. \n",
    "\n",
    "*Hint:* You can combine tables with the same columns using the append() method. [See the documentation.](https://www.data8.org/datascience/_autosummary/datascience.tables.Table.append.html#datascience.tables.Table.append)"
   ]
  },
  {
   "cell_type": "code",
   "execution_count": null,
   "metadata": {},
   "outputs": [],
   "source": [
    "...\n",
    "\n",
    "correct_tbl = ..."
   ]
  },
  {
   "cell_type": "code",
   "execution_count": 32,
   "metadata": {},
   "outputs": [],
   "source": [
    "yes_late = groundhogdata.where('shadowPres', 'yes').where('earlyOrLate', 'late')\n",
    "no_early = groundhogdata.where('shadowPres', 'no').where('earlyOrLate', 'early')\n",
    "\n",
    "correct_tbl = yes_late.append(no_early)"
   ]
  },
  {
   "cell_type": "code",
   "execution_count": null,
   "metadata": {},
   "outputs": [],
   "source": [
    "check('tests/q8.py')"
   ]
  },
  {
   "cell_type": "markdown",
   "metadata": {},
   "source": [
    "### <font color=blue> **Question 9.** </font>\n",
    "Calculate the percent of time that the groundhogs correctly identified the onset of Spring.  "
   ]
  },
  {
   "cell_type": "code",
   "execution_count": null,
   "metadata": {},
   "outputs": [],
   "source": [
    "percent_correct = ...\n",
    "percent_correct"
   ]
  },
  {
   "cell_type": "code",
   "execution_count": null,
   "metadata": {},
   "outputs": [],
   "source": [
    "check('tests/q9.py')"
   ]
  },
  {
   "cell_type": "markdown",
   "metadata": {},
   "source": [
    "Now that we know how often groundhogs across North America correctly identify the onset of spring, we want to simulate groundhog data to see if the groundhogs do better than random.  \n",
    "\n",
    "### <font color=blue> **Question 10.** </font>\n",
    "Let's set up the needed options and iterations.  Set the possible options for whether the groundhog sees shadows and the spring onset.  Set num_observations to the total number of groundhog observations from the dataset.  "
   ]
  },
  {
   "cell_type": "code",
   "execution_count": 9,
   "metadata": {},
   "outputs": [],
   "source": [
    "shadow_options = ...\n",
    "spring_options = ...\n",
    "num_observations = 530"
   ]
  },
  {
   "cell_type": "code",
   "execution_count": 13,
   "metadata": {},
   "outputs": [],
   "source": [
    "shadow_options = np.array(['yes', 'no'])\n",
    "spring_options = np.array(['late', 'early'])\n",
    "num_observations = groundhogdata.num_rows"
   ]
  },
  {
   "cell_type": "code",
   "execution_count": 14,
   "metadata": {},
   "outputs": [
    {
     "data": {
      "text/html": [
       "\n",
       "    \n",
       "    \n",
       "        <p>All tests passed!</p>\n",
       "    \n",
       "    "
      ],
      "text/plain": [
       "<gofer.ok.OKTestsResult at 0x121a1ab20>"
      ]
     },
     "execution_count": 14,
     "metadata": {},
     "output_type": "execute_result"
    }
   ],
   "source": [
    "check('tests/q10.py')"
   ]
  },
  {
   "cell_type": "markdown",
   "metadata": {},
   "source": [
    "### <font color=blue> **Question 11.** </font>\n",
    "Now let's set up the simulation. For each of the observations, random choose whether the groundhog sees their shadow and then randomly choose when spring starts.  Depending on the random choices, we can use conditional statements to either record the choice as right or wrong by adding one to `right` or `wrong` variables (increment).  Use concepts in Questions 2 and 3."
   ]
  },
  {
   "cell_type": "code",
   "execution_count": null,
   "metadata": {},
   "outputs": [],
   "source": [
    "right = 0 # Initialize at zero \n",
    "wrong = ...\n",
    "# Iteration\n",
    "for obs in range():\n",
    "    shadow = np.random.choice(shadow_options)\n",
    "    spring = ...\n",
    "    # Now decide of silicon groundhog is right or wrong\n",
    "    if shadow == 'yes' and spring == 'late':\n",
    "        ...\n",
    "    elif ...:\n",
    "        ...\n",
    "    else ...:\n",
    "        ...\n",
    "    \n",
    "# Calculate the fraction of simulated correct answers\n",
    "simulated_frac_correct = ...\n",
    "simulated_frac_correct"
   ]
  },
  {
   "cell_type": "code",
   "execution_count": null,
   "metadata": {},
   "outputs": [],
   "source": [
    "check('tests/q11.py')"
   ]
  },
  {
   "cell_type": "markdown",
   "metadata": {},
   "source": [
    "### <font color=blue> **Question 12.** </font> \n",
    "In the markdown cell below, compare the results of your simulation in question 11 and the actual number of correctly identified spring onsets by the groundhogs in the study. <font color='green'>Does the Groundhog have true insights into the upcoming weather and timing of Spring or would a coin toss at the 50 yard line of the field at the Linc do just as well at predicting Spring's onset?"
   ]
  },
  {
   "cell_type": "markdown",
   "metadata": {},
   "source": [
    " <font color='blue'>Use this cell to write your answer to question 12.</font>\n",
    "    \n",
    "\n",
    "    "
   ]
  },
  {
   "cell_type": "markdown",
   "metadata": {},
   "source": [
    "### <font color=blue> **Question 13.** </font> \n",
    "Now we can test if the Groundhog's prediction is statistically significant using a test known as the p-test. 'p' stands for probability which is the probability that the result is simply the same as chance or as if the Groundhog randomly guessed an answer."
   ]
  },
  {
   "cell_type": "markdown",
   "metadata": {},
   "source": [
    "First we have to repeat the simulation many times because one simulation could simply generate a surpisingly good set of observations but many repeats will give us the sense of the true probability of a random guess yielding a correct prediction."
   ]
  },
  {
   "cell_type": "code",
   "execution_count": 19,
   "metadata": {},
   "outputs": [],
   "source": [
    "def sim_ground(repeats):\n",
    "    correct_obs = []\n",
    "    for i in np.arange(repeats):\n",
    "        right = 0 \n",
    "        wrong = 0\n",
    "        for obs in range(num_observations):\n",
    "            shadow = np.random.choice(shadow_options)\n",
    "            spring = np.random.choice(spring_options)\n",
    "            if shadow == 'yes' and spring == 'late':\n",
    "                right += 1\n",
    "            elif shadow == 'no' and spring == 'early':\n",
    "                right += 1\n",
    "            else:\n",
    "                wrong += 1\n",
    "        simulated_frac_correct = right / num_observations\n",
    "        correct_obs.append(simulated_frac_correct)\n",
    "    return correct_obs        "
   ]
  },
  {
   "cell_type": "markdown",
   "metadata": {},
   "source": [
    "If we look at the average for one set of random guesses we get the below figure which will vary each time we run the simulation.\n",
    "Compare two simulations by running them below."
   ]
  },
  {
   "cell_type": "markdown",
   "metadata": {},
   "source": [
    "<font color='blue'>Simulation #1"
   ]
  },
  {
   "cell_type": "code",
   "execution_count": 29,
   "metadata": {},
   "outputs": [
    {
     "data": {
      "image/png": "[encoded data removed]",
      "text/plain": [
       "<Figure size 640x480 with 1 Axes>"
      ]
     },
     "metadata": {},
     "output_type": "display_data"
    }
   ],
   "source": [
    "plt.hist(sim_ground(1),bins=np.arange(0.4,0.6,.01),color = \"skyblue\", ec=\"red\")\n",
    "plt.title('Simulated Groundhog outcomes')\n",
    "plt.xlabel('simulated_frac_correct')\n",
    "plt.savefig('sim_ground.png')\n",
    "plt.show()"
   ]
  },
  {
   "cell_type": "markdown",
   "metadata": {},
   "source": [
    "<font color='blue'>Simulation #2"
   ]
  },
  {
   "cell_type": "code",
   "execution_count": 29,
   "metadata": {},
   "outputs": [
    {
     "data": {
      "image/png": "[encoded data removed]",
      "text/plain": [
       "<Figure size 640x480 with 1 Axes>"
      ]
     },
     "metadata": {},
     "output_type": "display_data"
    }
   ],
   "source": [
    "plt.hist(sim_ground(1),bins=np.arange(0.4,0.6,.01),color = \"skyblue\", ec=\"red\")\n",
    "plt.title('Simulated Groundhog outcomes')\n",
    "plt.xlabel('simulated_frac_correct')\n",
    "plt.savefig('sim_ground.png')\n",
    "plt.show()"
   ]
  },
  {
   "cell_type": "markdown",
   "metadata": {},
   "source": [
    " <font color='blue'>Use this cell to compare simulation #1 with #2.</font>"
   ]
  },
  {
   "cell_type": "markdown",
   "metadata": {},
   "source": [
    "##### Now we will simulate 1000 repeats and compare them to our Groundhogs' observation to ultimamtely get the p-value"
   ]
  },
  {
   "cell_type": "code",
   "execution_count": 20,
   "metadata": {},
   "outputs": [
    {
     "data": {
      "image/png": "[encoded data removed]",
      "text/plain": [
       "<Figure size 640x480 with 1 Axes>"
      ]
     },
     "metadata": {},
     "output_type": "display_data"
    }
   ],
   "source": [
    "plt.hist(sim_ground(1000),bins=np.arange(0.4,0.6,.01),color = \"skyblue\", ec=\"red\")\n",
    "plt.title('Simulated Groundhog outcomes')\n",
    "plt.xlabel('simulated_frac_correct')\n",
    "plt.savefig('sim_ground.png')\n",
    "plt.show()"
   ]
  },
  {
   "cell_type": "code",
   "execution_count": 17,
   "metadata": {},
   "outputs": [
    {
     "data": {
      "text/html": [
       "<table border=\"1\" class=\"dataframe\">\n",
       "    <thead>\n",
       "        <tr>\n",
       "            <th>Correct</th>\n",
       "        </tr>\n",
       "    </thead>\n",
       "    <tbody>\n",
       "        <tr>\n",
       "            <td>0.473585</td>\n",
       "        </tr>\n",
       "        <tr>\n",
       "            <td>0.473585</td>\n",
       "        </tr>\n",
       "        <tr>\n",
       "            <td>0.5     </td>\n",
       "        </tr>\n",
       "        <tr>\n",
       "            <td>0.481132</td>\n",
       "        </tr>\n",
       "        <tr>\n",
       "            <td>0.515094</td>\n",
       "        </tr>\n",
       "        <tr>\n",
       "            <td>0.469811</td>\n",
       "        </tr>\n",
       "        <tr>\n",
       "            <td>0.532075</td>\n",
       "        </tr>\n",
       "        <tr>\n",
       "            <td>0.533962</td>\n",
       "        </tr>\n",
       "        <tr>\n",
       "            <td>0.50566 </td>\n",
       "        </tr>\n",
       "        <tr>\n",
       "            <td>0.486792</td>\n",
       "        </tr>\n",
       "    </tbody>\n",
       "</table>\n",
       "<p>... (1490 rows omitted)</p>"
      ],
      "text/plain": [
       "Correct\n",
       "0.473585\n",
       "0.473585\n",
       "0.5\n",
       "0.481132\n",
       "0.515094\n",
       "0.469811\n",
       "0.532075\n",
       "0.533962\n",
       "0.50566\n",
       "0.486792\n",
       "... (1490 rows omitted)"
      ]
     },
     "execution_count": 17,
     "metadata": {},
     "output_type": "execute_result"
    }
   ],
   "source": [
    "hogsimdata = Table().with_columns(\"Correct\",sim_ground(1500))\n",
    "hogsimdata"
   ]
  },
  {
   "cell_type": "code",
   "execution_count": 21,
   "metadata": {},
   "outputs": [],
   "source": [
    "percent_correct = 51.19"
   ]
  },
  {
   "cell_type": "code",
   "execution_count": 22,
   "metadata": {},
   "outputs": [
    {
     "data": {
      "image/png": "[encoded data removed]",
      "text/plain": [
       "<Figure size 600x400 with 1 Axes>"
      ]
     },
     "metadata": {},
     "output_type": "display_data"
    }
   ],
   "source": [
    "hogsimdata.hist(0,bins=np.arange(0.4,0.6,.01))\n",
    "plt.scatter(percent_correct/100, 0, color='red', s=200);\n",
    "plt.title('Simulated Groundhog outcomes')\n",
    "plt.savefig('sim_ground_correct.png')\n",
    "plt.show()"
   ]
  },
  {
   "cell_type": "markdown",
   "metadata": {},
   "source": [
    "### p value\n",
    "The p value is the proportion of the randomly generated results which are better than the observation we are examining. In this case this is the observation we are 'testing' is the collected Groundhog prediction accuracy, `percent_correct`."
   ]
  },
  {
   "cell_type": "code",
   "execution_count": 25,
   "metadata": {},
   "outputs": [
    {
     "data": {
      "text/plain": [
       "0.284"
      ]
     },
     "execution_count": 25,
     "metadata": {},
     "output_type": "execute_result"
    }
   ],
   "source": [
    "p_value = np.count_nonzero(hogsimdata.column('Correct') >= percent_correct/100) / 1500\n",
    "p_value"
   ]
  },
  {
   "cell_type": "markdown",
   "metadata": {},
   "source": [
    "The Groundhogs' collective observations are the same or worse than chance `p_value`*100% of the time which is larger than 5% so statistically we would often accept the hypothesis that the Groundhog's observations are not better than chance."
   ]
  },
  {
   "cell_type": "code",
   "execution_count": null,
   "metadata": {},
   "outputs": [],
   "source": []
  },
  {
   "cell_type": "markdown",
   "metadata": {},
   "source": [
    "#### Essex Ed\n",
    "Essex Ed seems to be a far better prognosticator then our group of Groundhogs. Let's see if Essex Ed's prediction are better than chance."
   ]
  },
  {
   "cell_type": "code",
   "execution_count": 30,
   "metadata": {},
   "outputs": [
    {
     "data": {
      "text/html": [
       "<table border=\"1\" class=\"dataframe\">\n",
       "    <thead>\n",
       "        <tr>\n",
       "            <th>hogID</th> <th>year</th> <th>shadowPres</th> <th>dateSample</th> <th>julDay</th> <th>GDD</th> <th>cGDD</th> <th>numObs</th> <th>meanJulSpringDay</th> <th>sdJulSpringDay</th> <th>seJulSpringDay</th> <th>earlyOrLate</th>\n",
       "        </tr>\n",
       "    </thead>\n",
       "    <tbody>\n",
       "        <tr>\n",
       "            <td>EE   </td> <td>2011</td> <td>yes       </td> <td>2011-03-05</td> <td>64    </td> <td>11.9444</td> <td>135.556</td> <td>30    </td> <td>50.8333         </td> <td>15.7329       </td> <td>2.87241       </td> <td>late       </td>\n",
       "        </tr>\n",
       "        <tr>\n",
       "            <td>EE   </td> <td>2012</td> <td>no        </td> <td>2012-02-01</td> <td>32    </td> <td>12.7778</td> <td>131.111</td> <td>30    </td> <td>50.8333         </td> <td>15.7329       </td> <td>2.87241       </td> <td>early      </td>\n",
       "        </tr>\n",
       "        <tr>\n",
       "            <td>EE   </td> <td>2013</td> <td>no        </td> <td>2013-02-15</td> <td>46    </td> <td>6.94444</td> <td>129.167</td> <td>30    </td> <td>50.8333         </td> <td>15.7329       </td> <td>2.87241       </td> <td>early      </td>\n",
       "        </tr>\n",
       "        <tr>\n",
       "            <td>EE   </td> <td>2014</td> <td>yes       </td> <td>2014-03-15</td> <td>74    </td> <td>10.8333</td> <td>133.611</td> <td>30    </td> <td>50.8333         </td> <td>15.7329       </td> <td>2.87241       </td> <td>late       </td>\n",
       "        </tr>\n",
       "        <tr>\n",
       "            <td>EE   </td> <td>2015</td> <td>yes       </td> <td>2015-03-27</td> <td>86    </td> <td>6.38889</td> <td>130.278</td> <td>30    </td> <td>50.8333         </td> <td>15.7329       </td> <td>2.87241       </td> <td>late       </td>\n",
       "        </tr>\n",
       "        <tr>\n",
       "            <td>EE   </td> <td>2016</td> <td>yes       </td> <td>2016-02-21</td> <td>52    </td> <td>8.33333</td> <td>131.667</td> <td>30    </td> <td>50.8333         </td> <td>15.7329       </td> <td>2.87241       </td> <td>late       </td>\n",
       "        </tr>\n",
       "        <tr>\n",
       "            <td>EE   </td> <td>2017</td> <td>yes       </td> <td>2017-02-01</td> <td>32    </td> <td>3.88889</td> <td>129.722</td> <td>30    </td> <td>50.8333         </td> <td>15.7329       </td> <td>2.87241       </td> <td>early      </td>\n",
       "        </tr>\n",
       "        <tr>\n",
       "            <td>EE   </td> <td>2018</td> <td>no        </td> <td>2018-02-16</td> <td>47    </td> <td>8.61111</td> <td>134.167</td> <td>30    </td> <td>50.8333         </td> <td>15.7329       </td> <td>2.87241       </td> <td>early      </td>\n",
       "        </tr>\n",
       "        <tr>\n",
       "            <td>EE   </td> <td>2019</td> <td>no        </td> <td>2019-02-22</td> <td>53    </td> <td>4.72222</td> <td>131.667</td> <td>30    </td> <td>50.8333         </td> <td>15.7329       </td> <td>2.87241       </td> <td>late       </td>\n",
       "        </tr>\n",
       "    </tbody>\n",
       "</table>"
      ],
      "text/plain": [
       "hogID | year | shadowPres | dateSample | julDay | GDD     | cGDD    | numObs | meanJulSpringDay | sdJulSpringDay | seJulSpringDay | earlyOrLate\n",
       "EE    | 2011 | yes        | 2011-03-05 | 64     | 11.9444 | 135.556 | 30     | 50.8333          | 15.7329        | 2.87241        | late\n",
       "EE    | 2012 | no         | 2012-02-01 | 32     | 12.7778 | 131.111 | 30     | 50.8333          | 15.7329        | 2.87241        | early\n",
       "EE    | 2013 | no         | 2013-02-15 | 46     | 6.94444 | 129.167 | 30     | 50.8333          | 15.7329        | 2.87241        | early\n",
       "EE    | 2014 | yes        | 2014-03-15 | 74     | 10.8333 | 133.611 | 30     | 50.8333          | 15.7329        | 2.87241        | late\n",
       "EE    | 2015 | yes        | 2015-03-27 | 86     | 6.38889 | 130.278 | 30     | 50.8333          | 15.7329        | 2.87241        | late\n",
       "EE    | 2016 | yes        | 2016-02-21 | 52     | 8.33333 | 131.667 | 30     | 50.8333          | 15.7329        | 2.87241        | late\n",
       "EE    | 2017 | yes        | 2017-02-01 | 32     | 3.88889 | 129.722 | 30     | 50.8333          | 15.7329        | 2.87241        | early\n",
       "EE    | 2018 | no         | 2018-02-16 | 47     | 8.61111 | 134.167 | 30     | 50.8333          | 15.7329        | 2.87241        | early\n",
       "EE    | 2019 | no         | 2019-02-22 | 53     | 4.72222 | 131.667 | 30     | 50.8333          | 15.7329        | 2.87241        | late"
      ]
     },
     "execution_count": 30,
     "metadata": {},
     "output_type": "execute_result"
    }
   ],
   "source": [
    "groundhogdata.where('hogID',\"EE\")"
   ]
  },
  {
   "cell_type": "code",
   "execution_count": 33,
   "metadata": {},
   "outputs": [
    {
     "data": {
      "text/html": [
       "<table border=\"1\" class=\"dataframe\">\n",
       "    <thead>\n",
       "        <tr>\n",
       "            <th>hogID</th> <th>year</th> <th>shadowPres</th> <th>dateSample</th> <th>julDay</th> <th>GDD</th> <th>cGDD</th> <th>numObs</th> <th>meanJulSpringDay</th> <th>sdJulSpringDay</th> <th>seJulSpringDay</th> <th>earlyOrLate</th>\n",
       "        </tr>\n",
       "    </thead>\n",
       "    <tbody>\n",
       "        <tr>\n",
       "            <td>EE   </td> <td>2011</td> <td>yes       </td> <td>2011-03-05</td> <td>64    </td> <td>11.9444</td> <td>135.556</td> <td>30    </td> <td>50.8333         </td> <td>15.7329       </td> <td>2.87241       </td> <td>late       </td>\n",
       "        </tr>\n",
       "        <tr>\n",
       "            <td>EE   </td> <td>2014</td> <td>yes       </td> <td>2014-03-15</td> <td>74    </td> <td>10.8333</td> <td>133.611</td> <td>30    </td> <td>50.8333         </td> <td>15.7329       </td> <td>2.87241       </td> <td>late       </td>\n",
       "        </tr>\n",
       "        <tr>\n",
       "            <td>EE   </td> <td>2015</td> <td>yes       </td> <td>2015-03-27</td> <td>86    </td> <td>6.38889</td> <td>130.278</td> <td>30    </td> <td>50.8333         </td> <td>15.7329       </td> <td>2.87241       </td> <td>late       </td>\n",
       "        </tr>\n",
       "        <tr>\n",
       "            <td>EE   </td> <td>2016</td> <td>yes       </td> <td>2016-02-21</td> <td>52    </td> <td>8.33333</td> <td>131.667</td> <td>30    </td> <td>50.8333         </td> <td>15.7329       </td> <td>2.87241       </td> <td>late       </td>\n",
       "        </tr>\n",
       "        <tr>\n",
       "            <td>EE   </td> <td>2012</td> <td>no        </td> <td>2012-02-01</td> <td>32    </td> <td>12.7778</td> <td>131.111</td> <td>30    </td> <td>50.8333         </td> <td>15.7329       </td> <td>2.87241       </td> <td>early      </td>\n",
       "        </tr>\n",
       "        <tr>\n",
       "            <td>EE   </td> <td>2013</td> <td>no        </td> <td>2013-02-15</td> <td>46    </td> <td>6.94444</td> <td>129.167</td> <td>30    </td> <td>50.8333         </td> <td>15.7329       </td> <td>2.87241       </td> <td>early      </td>\n",
       "        </tr>\n",
       "        <tr>\n",
       "            <td>EE   </td> <td>2018</td> <td>no        </td> <td>2018-02-16</td> <td>47    </td> <td>8.61111</td> <td>134.167</td> <td>30    </td> <td>50.8333         </td> <td>15.7329       </td> <td>2.87241       </td> <td>early      </td>\n",
       "        </tr>\n",
       "    </tbody>\n",
       "</table>"
      ],
      "text/plain": [
       "hogID | year | shadowPres | dateSample | julDay | GDD     | cGDD    | numObs | meanJulSpringDay | sdJulSpringDay | seJulSpringDay | earlyOrLate\n",
       "EE    | 2011 | yes        | 2011-03-05 | 64     | 11.9444 | 135.556 | 30     | 50.8333          | 15.7329        | 2.87241        | late\n",
       "EE    | 2014 | yes        | 2014-03-15 | 74     | 10.8333 | 133.611 | 30     | 50.8333          | 15.7329        | 2.87241        | late\n",
       "EE    | 2015 | yes        | 2015-03-27 | 86     | 6.38889 | 130.278 | 30     | 50.8333          | 15.7329        | 2.87241        | late\n",
       "EE    | 2016 | yes        | 2016-02-21 | 52     | 8.33333 | 131.667 | 30     | 50.8333          | 15.7329        | 2.87241        | late\n",
       "EE    | 2012 | no         | 2012-02-01 | 32     | 12.7778 | 131.111 | 30     | 50.8333          | 15.7329        | 2.87241        | early\n",
       "EE    | 2013 | no         | 2013-02-15 | 46     | 6.94444 | 129.167 | 30     | 50.8333          | 15.7329        | 2.87241        | early\n",
       "EE    | 2018 | no         | 2018-02-16 | 47     | 8.61111 | 134.167 | 30     | 50.8333          | 15.7329        | 2.87241        | early"
      ]
     },
     "execution_count": 33,
     "metadata": {},
     "output_type": "execute_result"
    }
   ],
   "source": [
    "correct_tbl.where('hogID',\"EE\")"
   ]
  },
  {
   "cell_type": "code",
   "execution_count": 34,
   "metadata": {},
   "outputs": [
    {
     "data": {
      "text/plain": [
       "77.77777777777779"
      ]
     },
     "execution_count": 34,
     "metadata": {},
     "output_type": "execute_result"
    }
   ],
   "source": [
    "percent_correct = correct_tbl.where('hogID',\"EE\").num_rows / groundhogdata.where('hogID',\"EE\").num_rows * 100\n",
    "percent_correct"
   ]
  },
  {
   "cell_type": "code",
   "execution_count": 35,
   "metadata": {},
   "outputs": [
    {
     "data": {
      "image/png": "[encoded data removed]",
      "text/plain": [
       "<Figure size 600x400 with 1 Axes>"
      ]
     },
     "metadata": {},
     "output_type": "display_data"
    }
   ],
   "source": [
    "hogsimdata.hist(0,bins=np.arange(0.4,0.6,.01))\n",
    "plt.scatter(percent_correct/100, 0, color='red', s=200);\n",
    "plt.title('Simulated Groundhog outcomes')\n",
    "plt.savefig('sim_ground_correct.png')\n",
    "plt.show()"
   ]
  },
  {
   "cell_type": "code",
   "execution_count": 36,
   "metadata": {},
   "outputs": [
    {
     "data": {
      "text/plain": [
       "0.0"
      ]
     },
     "execution_count": 36,
     "metadata": {},
     "output_type": "execute_result"
    }
   ],
   "source": [
    "p_value = np.count_nonzero(hogsimdata.column('Correct') >= percent_correct/100) / 1500\n",
    "p_value"
   ]
  },
  {
   "cell_type": "markdown",
   "metadata": {},
   "source": [
    "### <font color=blue>Is Essex Ed a better predictor then chance? Why or why not given the above p-value? Answer in the below markdown cell."
   ]
  },
  {
   "cell_type": "markdown",
   "metadata": {},
   "source": [
    "<font color=red>ANSWER"
   ]
  },
  {
   "cell_type": "markdown",
   "metadata": {},
   "source": [
    "#### Punxsutawney Phil (PYPL)\n",
    "Let's see how our local hero, Punxsutawney Phil, does at predicting relative to chance. "
   ]
  },
  {
   "cell_type": "code",
   "execution_count": 37,
   "metadata": {},
   "outputs": [
    {
     "data": {
      "text/html": [
       "<table border=\"1\" class=\"dataframe\">\n",
       "    <thead>\n",
       "        <tr>\n",
       "            <th>hogID</th> <th>year</th> <th>shadowPres</th> <th>dateSample</th> <th>julDay</th> <th>GDD</th> <th>cGDD</th> <th>numObs</th> <th>meanJulSpringDay</th> <th>sdJulSpringDay</th> <th>seJulSpringDay</th> <th>earlyOrLate</th>\n",
       "        </tr>\n",
       "    </thead>\n",
       "    <tbody>\n",
       "        <tr>\n",
       "            <td>PYPL </td> <td>1898</td> <td>yes       </td> <td>1898-03-21</td> <td>80    </td> <td>4.44444</td> <td>126.111</td> <td>109   </td> <td>88.2202         </td> <td>14.1698       </td> <td>1.35722       </td> <td>early      </td>\n",
       "        </tr>\n",
       "        <tr>\n",
       "            <td>PYPL </td> <td>1901</td> <td>yes       </td> <td>1901-04-15</td> <td>105   </td> <td>8.33333</td> <td>127.778</td> <td>109   </td> <td>88.2202         </td> <td>14.1698       </td> <td>1.35722       </td> <td>late       </td>\n",
       "        </tr>\n",
       "        <tr>\n",
       "            <td>PYPL </td> <td>1904</td> <td>yes       </td> <td>1904-04-21</td> <td>112   </td> <td>4.44444</td> <td>127.5  </td> <td>109   </td> <td>88.2202         </td> <td>14.1698       </td> <td>1.35722       </td> <td>late       </td>\n",
       "        </tr>\n",
       "        <tr>\n",
       "            <td>PYPL </td> <td>1905</td> <td>yes       </td> <td>1905-03-31</td> <td>90    </td> <td>10.8333</td> <td>131.389</td> <td>109   </td> <td>88.2202         </td> <td>14.1698       </td> <td>1.35722       </td> <td>late       </td>\n",
       "        </tr>\n",
       "        <tr>\n",
       "            <td>PYPL </td> <td>1906</td> <td>yes       </td> <td>1906-04-10</td> <td>100   </td> <td>4.16667</td> <td>131.944</td> <td>109   </td> <td>88.2202         </td> <td>14.1698       </td> <td>1.35722       </td> <td>late       </td>\n",
       "        </tr>\n",
       "        <tr>\n",
       "            <td>PYPL </td> <td>1909</td> <td>yes       </td> <td>1909-03-13</td> <td>72    </td> <td>7.5    </td> <td>130.556</td> <td>109   </td> <td>88.2202         </td> <td>14.1698       </td> <td>1.35722       </td> <td>early      </td>\n",
       "        </tr>\n",
       "        <tr>\n",
       "            <td>PYPL </td> <td>1910</td> <td>yes       </td> <td>1910-03-27</td> <td>86    </td> <td>9.44444</td> <td>124.167</td> <td>109   </td> <td>88.2202         </td> <td>14.1698       </td> <td>1.35722       </td> <td>early      </td>\n",
       "        </tr>\n",
       "        <tr>\n",
       "            <td>PYPL </td> <td>1913</td> <td>yes       </td> <td>1913-03-21</td> <td>80    </td> <td>13.8889</td> <td>130.278</td> <td>109   </td> <td>88.2202         </td> <td>14.1698       </td> <td>1.35722       </td> <td>early      </td>\n",
       "        </tr>\n",
       "        <tr>\n",
       "            <td>PYPL </td> <td>1914</td> <td>yes       </td> <td>1914-03-29</td> <td>88    </td> <td>6.38889</td> <td>128.611</td> <td>109   </td> <td>88.2202         </td> <td>14.1698       </td> <td>1.35722       </td> <td>early      </td>\n",
       "        </tr>\n",
       "        <tr>\n",
       "            <td>PYPL </td> <td>1915</td> <td>yes       </td> <td>1915-04-13</td> <td>103   </td> <td>5.27778</td> <td>131.111</td> <td>109   </td> <td>88.2202         </td> <td>14.1698       </td> <td>1.35722       </td> <td>late       </td>\n",
       "        </tr>\n",
       "    </tbody>\n",
       "</table>\n",
       "<p>... (97 rows omitted)</p>"
      ],
      "text/plain": [
       "hogID | year | shadowPres | dateSample | julDay | GDD     | cGDD    | numObs | meanJulSpringDay | sdJulSpringDay | seJulSpringDay | earlyOrLate\n",
       "PYPL  | 1898 | yes        | 1898-03-21 | 80     | 4.44444 | 126.111 | 109    | 88.2202          | 14.1698        | 1.35722        | early\n",
       "PYPL  | 1901 | yes        | 1901-04-15 | 105    | 8.33333 | 127.778 | 109    | 88.2202          | 14.1698        | 1.35722        | late\n",
       "PYPL  | 1904 | yes        | 1904-04-21 | 112    | 4.44444 | 127.5   | 109    | 88.2202          | 14.1698        | 1.35722        | late\n",
       "PYPL  | 1905 | yes        | 1905-03-31 | 90     | 10.8333 | 131.389 | 109    | 88.2202          | 14.1698        | 1.35722        | late\n",
       "PYPL  | 1906 | yes        | 1906-04-10 | 100    | 4.16667 | 131.944 | 109    | 88.2202          | 14.1698        | 1.35722        | late\n",
       "PYPL  | 1909 | yes        | 1909-03-13 | 72     | 7.5     | 130.556 | 109    | 88.2202          | 14.1698        | 1.35722        | early\n",
       "PYPL  | 1910 | yes        | 1910-03-27 | 86     | 9.44444 | 124.167 | 109    | 88.2202          | 14.1698        | 1.35722        | early\n",
       "PYPL  | 1913 | yes        | 1913-03-21 | 80     | 13.8889 | 130.278 | 109    | 88.2202          | 14.1698        | 1.35722        | early\n",
       "PYPL  | 1914 | yes        | 1914-03-29 | 88     | 6.38889 | 128.611 | 109    | 88.2202          | 14.1698        | 1.35722        | early\n",
       "PYPL  | 1915 | yes        | 1915-04-13 | 103    | 5.27778 | 131.111 | 109    | 88.2202          | 14.1698        | 1.35722        | late\n",
       "... (97 rows omitted)"
      ]
     },
     "execution_count": 37,
     "metadata": {},
     "output_type": "execute_result"
    }
   ],
   "source": [
    "groundhogdata.where('hogID',\"PYPL\")"
   ]
  },
  {
   "cell_type": "code",
   "execution_count": 38,
   "metadata": {},
   "outputs": [
    {
     "data": {
      "text/html": [
       "<table border=\"1\" class=\"dataframe\">\n",
       "    <thead>\n",
       "        <tr>\n",
       "            <th>hogID</th> <th>year</th> <th>shadowPres</th> <th>dateSample</th> <th>julDay</th> <th>GDD</th> <th>cGDD</th> <th>numObs</th> <th>meanJulSpringDay</th> <th>sdJulSpringDay</th> <th>seJulSpringDay</th> <th>earlyOrLate</th>\n",
       "        </tr>\n",
       "    </thead>\n",
       "    <tbody>\n",
       "        <tr>\n",
       "            <td>PYPL </td> <td>1901</td> <td>yes       </td> <td>1901-04-15</td> <td>105   </td> <td>8.33333</td> <td>127.778</td> <td>109   </td> <td>88.2202         </td> <td>14.1698       </td> <td>1.35722       </td> <td>late       </td>\n",
       "        </tr>\n",
       "        <tr>\n",
       "            <td>PYPL </td> <td>1904</td> <td>yes       </td> <td>1904-04-21</td> <td>112   </td> <td>4.44444</td> <td>127.5  </td> <td>109   </td> <td>88.2202         </td> <td>14.1698       </td> <td>1.35722       </td> <td>late       </td>\n",
       "        </tr>\n",
       "        <tr>\n",
       "            <td>PYPL </td> <td>1905</td> <td>yes       </td> <td>1905-03-31</td> <td>90    </td> <td>10.8333</td> <td>131.389</td> <td>109   </td> <td>88.2202         </td> <td>14.1698       </td> <td>1.35722       </td> <td>late       </td>\n",
       "        </tr>\n",
       "        <tr>\n",
       "            <td>PYPL </td> <td>1906</td> <td>yes       </td> <td>1906-04-10</td> <td>100   </td> <td>4.16667</td> <td>131.944</td> <td>109   </td> <td>88.2202         </td> <td>14.1698       </td> <td>1.35722       </td> <td>late       </td>\n",
       "        </tr>\n",
       "        <tr>\n",
       "            <td>PYPL </td> <td>1915</td> <td>yes       </td> <td>1915-04-13</td> <td>103   </td> <td>5.27778</td> <td>131.111</td> <td>109   </td> <td>88.2202         </td> <td>14.1698       </td> <td>1.35722       </td> <td>late       </td>\n",
       "        </tr>\n",
       "        <tr>\n",
       "            <td>PYPL </td> <td>1917</td> <td>yes       </td> <td>1917-03-31</td> <td>90    </td> <td>9.44444</td> <td>128.611</td> <td>109   </td> <td>88.2202         </td> <td>14.1698       </td> <td>1.35722       </td> <td>late       </td>\n",
       "        </tr>\n",
       "        <tr>\n",
       "            <td>PYPL </td> <td>1920</td> <td>yes       </td> <td>1920-04-01</td> <td>92    </td> <td>9.72222</td> <td>133.333</td> <td>109   </td> <td>88.2202         </td> <td>14.1698       </td> <td>1.35722       </td> <td>late       </td>\n",
       "        </tr>\n",
       "        <tr>\n",
       "            <td>PYPL </td> <td>1923</td> <td>yes       </td> <td>1923-04-07</td> <td>97    </td> <td>8.88889</td> <td>131.944</td> <td>109   </td> <td>88.2202         </td> <td>14.1698       </td> <td>1.35722       </td> <td>late       </td>\n",
       "        </tr>\n",
       "        <tr>\n",
       "            <td>PYPL </td> <td>1924</td> <td>yes       </td> <td>1924-04-16</td> <td>107   </td> <td>8.88889</td> <td>131.111</td> <td>109   </td> <td>88.2202         </td> <td>14.1698       </td> <td>1.35722       </td> <td>late       </td>\n",
       "        </tr>\n",
       "        <tr>\n",
       "            <td>PYPL </td> <td>1926</td> <td>yes       </td> <td>1926-04-13</td> <td>103   </td> <td>4.72222</td> <td>131.667</td> <td>109   </td> <td>88.2202         </td> <td>14.1698       </td> <td>1.35722       </td> <td>late       </td>\n",
       "        </tr>\n",
       "    </tbody>\n",
       "</table>\n",
       "<p>... (46 rows omitted)</p>"
      ],
      "text/plain": [
       "hogID | year | shadowPres | dateSample | julDay | GDD     | cGDD    | numObs | meanJulSpringDay | sdJulSpringDay | seJulSpringDay | earlyOrLate\n",
       "PYPL  | 1901 | yes        | 1901-04-15 | 105    | 8.33333 | 127.778 | 109    | 88.2202          | 14.1698        | 1.35722        | late\n",
       "PYPL  | 1904 | yes        | 1904-04-21 | 112    | 4.44444 | 127.5   | 109    | 88.2202          | 14.1698        | 1.35722        | late\n",
       "PYPL  | 1905 | yes        | 1905-03-31 | 90     | 10.8333 | 131.389 | 109    | 88.2202          | 14.1698        | 1.35722        | late\n",
       "PYPL  | 1906 | yes        | 1906-04-10 | 100    | 4.16667 | 131.944 | 109    | 88.2202          | 14.1698        | 1.35722        | late\n",
       "PYPL  | 1915 | yes        | 1915-04-13 | 103    | 5.27778 | 131.111 | 109    | 88.2202          | 14.1698        | 1.35722        | late\n",
       "PYPL  | 1917 | yes        | 1917-03-31 | 90     | 9.44444 | 128.611 | 109    | 88.2202          | 14.1698        | 1.35722        | late\n",
       "PYPL  | 1920 | yes        | 1920-04-01 | 92     | 9.72222 | 133.333 | 109    | 88.2202          | 14.1698        | 1.35722        | late\n",
       "PYPL  | 1923 | yes        | 1923-04-07 | 97     | 8.88889 | 131.944 | 109    | 88.2202          | 14.1698        | 1.35722        | late\n",
       "PYPL  | 1924 | yes        | 1924-04-16 | 107    | 8.88889 | 131.111 | 109    | 88.2202          | 14.1698        | 1.35722        | late\n",
       "PYPL  | 1926 | yes        | 1926-04-13 | 103    | 4.72222 | 131.667 | 109    | 88.2202          | 14.1698        | 1.35722        | late\n",
       "... (46 rows omitted)"
      ]
     },
     "execution_count": 38,
     "metadata": {},
     "output_type": "execute_result"
    }
   ],
   "source": [
    "correct_tbl.where('hogID',\"PYPL\")"
   ]
  },
  {
   "cell_type": "code",
   "execution_count": 39,
   "metadata": {},
   "outputs": [
    {
     "data": {
      "text/plain": [
       "52.336448598130836"
      ]
     },
     "execution_count": 39,
     "metadata": {},
     "output_type": "execute_result"
    }
   ],
   "source": [
    "percent_correct = correct_tbl.where('hogID',\"PYPL\").num_rows / groundhogdata.where('hogID',\"PYPL\").num_rows * 100\n",
    "percent_correct"
   ]
  },
  {
   "cell_type": "code",
   "execution_count": 40,
   "metadata": {},
   "outputs": [
    {
     "data": {
      "image/png": "[encoded data removed]",
      "text/plain": [
       "<Figure size 600x400 with 1 Axes>"
      ]
     },
     "metadata": {},
     "output_type": "display_data"
    }
   ],
   "source": [
    "hogsimdata.hist(0,bins=np.arange(0.4,0.6,.01))\n",
    "plt.scatter(percent_correct/100, 0, color='red', s=200);\n",
    "plt.title('Simulated Groundhog outcomes')\n",
    "plt.savefig('sim_ground_correct.png')\n",
    "plt.show()"
   ]
  },
  {
   "cell_type": "code",
   "execution_count": 42,
   "metadata": {},
   "outputs": [
    {
     "data": {
      "text/plain": [
       "0.13933333333333334"
      ]
     },
     "execution_count": 42,
     "metadata": {},
     "output_type": "execute_result"
    }
   ],
   "source": [
    "p_PYPL = np.count_nonzero(hogsimdata.column('Correct') >= percent_correct/100) / 1500\n",
    "p_PYPL"
   ]
  },
  {
   "cell_type": "markdown",
   "metadata": {},
   "source": []
  },
  {
   "cell_type": "markdown",
   "metadata": {},
   "source": [
    "### <font color=blue>Is Punxsutawney Phil a better predictor then chance? Why or why not given the above p-value? Answer in the below markdown cell."
   ]
  },
  {
   "cell_type": "markdown",
   "metadata": {},
   "source": [
    "<font color=red>ANSWER"
   ]
  },
  {
   "cell_type": "markdown",
   "metadata": {},
   "source": [
    "### <font color=blue> **Question 14.** </font>\n",
    "\n",
    "At the end of each lab, please include a reflection. \n",
    "* How did this lab go? \n",
    "* What aspects of this introduction to probability do you find confusing?\n",
    "* Were there questions you found especially challenging you would like your instructor to review in class? \n",
    "* How long did the lab take you to complete?\n",
    "\n",
    "Share your feedback so we can continue to improve this class!\n",
    "\n",
    "**Insert a markdown cell below this one and write your reflection on this lab.**"
   ]
  },
  {
   "cell_type": "code",
   "execution_count": null,
   "metadata": {},
   "outputs": [],
   "source": [
    "# For your convenience, you can run this cell to run all the tests at once!\n",
    "import glob\n",
    "from gofer.ok import check\n",
    "correct = 0\n",
    "total = 11\n",
    "for x in range(1, total+1):\n",
    "    print('Testing question {}: '.format(str(x)))\n",
    "    g = check('tests/q{}.py'.format(str(x)))\n",
    "    if g.grade == 1.0:\n",
    "        print(\"Passed\")\n",
    "        correct += 1\n",
    "    else:\n",
    "        print('Failed')\n",
    "        display(g)\n",
    "\n",
    "print('Grade:  {}'.format(str(correct/total)))"
   ]
  },
  {
   "cell_type": "code",
   "execution_count": null,
   "metadata": {},
   "outputs": [],
   "source": [
    "print(\"Nice work \",name, user)\n",
    "import time;\n",
    "localtime = time.asctime( time.localtime(time.time()) )\n",
    "print(\"Submitted @ \", localtime)"
   ]
  }
 ],
 "metadata": {
  "kernelspec": {
   "display_name": "Python 3 (ipykernel)",
   "language": "python",
   "name": "python3"
  },
  "language_info": {
   "codemirror_mode": {
    "name": "ipython",
    "version": 3
   },
   "file_extension": ".py",
   "mimetype": "text/x-python",
   "name": "python",
   "nbconvert_exporter": "python",
   "pygments_lexer": "ipython3",
   "version": "3.9.19"
  }
 },
 "nbformat": 4,
 "nbformat_minor": 4
}
