{
 "cells": [
  {
   "cell_type": "code",
   "execution_count": null,
   "id": "c7763a93-22ac-4813-ad7e-cee5ee053d93",
   "metadata": {},
   "outputs": [],
   "source": [
    "import numpy as np\n",
    "from datascience import * # Brings into Python the datascience Table object\n",
    "import warnings\n",
    "warnings.filterwarnings('ignore')"
   ]
  },
  {
   "cell_type": "markdown",
   "id": "c76b455d-24fb-4abe-989c-05538e3aa90a",
   "metadata": {},
   "source": [
    "### Learning from Lab 00/01\n",
    "Working with Jupyter Notebooks\n",
    "- Expressions\n",
    "- Variables & upcoming Data Types\n",
    "    - Strings\n",
    "    - Integer\n",
    "    - Float\n",
    "- built-in functions: print(\"Hello World\")\n",
    "- Kernel\n",
    "- errors\n",
    "- check work with check('tests/q2_1.py')\n",
    "- Shortcuts"
   ]
  },
  {
   "cell_type": "code",
   "execution_count": null,
   "id": "44061d12-7d30-43df-8420-c0c3c159ba49",
   "metadata": {},
   "outputs": [],
   "source": [
    "print(\"Welcome \\N{EARTH GLOBE ASIA-AUSTRALIA}!\")"
   ]
  },
  {
   "cell_type": "code",
   "execution_count": null,
   "id": "5b14d1c2-10a5-48fa-a37d-418b483e14cf",
   "metadata": {},
   "outputs": [],
   "source": []
  },
  {
   "cell_type": "markdown",
   "id": "fc4f1a2f-94e0-4b5a-baf4-5862031ac0fe",
   "metadata": {},
   "source": [
    "## Upcoming Learning Goals from Lab 02\n",
    "Data Types: See video of same name\n",
    "- Expressions & numbers revisited\n",
    "- Variables & Data Types\n",
    "    - Strings\n",
    "    - Integer\n",
    "    - Float\n",
    "- more built-in functions: max(), min(), abs(), pow(), round()\n",
    "- Translating science into Python formulas: Newton's equations\n",
    "- importing code functionality: import math\n",
    "    - math.pi()\n",
    "    - math.sqrt()\n",
    "    - math.log()\n",
    "    - math.factorial()\n",
    "- arrays: from datascience import *\n",
    "    - make_array(0.125, 4.75, -1.3)\n",
    "- arrays: import numpy as np\n",
    "    - np.array([0, 1, -1, math.pi, math.e])\n",
    "- lists: [1, 2, 3, 4]"
   ]
  },
  {
   "cell_type": "code",
   "execution_count": null,
   "id": "676d5160-6423-4201-af3d-41d30234aaf7",
   "metadata": {},
   "outputs": [],
   "source": [
    "maximum_number=max(3,4.4)\n",
    "maximum_number"
   ]
  },
  {
   "cell_type": "code",
   "execution_count": null,
   "id": "de71d933-28b7-460b-a4f2-7a6ef89d75e3",
   "metadata": {},
   "outputs": [],
   "source": [
    "import math\n",
    "radius = 4\n",
    "area_of_circle = math.pi * radius**2 \n",
    "print(area_of_circle)"
   ]
  },
  {
   "cell_type": "code",
   "execution_count": null,
   "id": "6aa7abb6-4dd2-4672-bb77-87306e4f35c2",
   "metadata": {},
   "outputs": [],
   "source": [
    "math.e"
   ]
  },
  {
   "cell_type": "code",
   "execution_count": null,
   "id": "4ef87b1d-5e1b-42e2-8a01-f40160df5287",
   "metadata": {},
   "outputs": [],
   "source": [
    "area_of_circle = radius**2 * math.pi"
   ]
  },
  {
   "cell_type": "code",
   "execution_count": null,
   "id": "4f15e4fe-45d7-4ab2-948f-f6f0451a62d8",
   "metadata": {},
   "outputs": [],
   "source": [
    "area_of_circle"
   ]
  },
  {
   "cell_type": "markdown",
   "id": "d92ed156-0db1-4c29-81b3-b9401c858fa9",
   "metadata": {
    "tags": []
   },
   "source": [
    "## Parenthesis ()\n",
    "In standard math notation, the first expression below is\n",
    "\n",
    "$$9 + 6 \\times 5 - 6 \\times 3^2 \\times \\frac{2^3}{4} \\times 7,$$\n",
    "\n",
    "while the second expression below is\n",
    "\n",
    "$$9 + (6 \\times 5 - (6 \\times 3))^2 \\times (\\frac{(2^3)}{4} \\times 7).$$\n",
    "\n",
    "<font color=green>Different values!\n"
   ]
  },
  {
   "cell_type": "code",
   "execution_count": null,
   "id": "a233b689-5e1f-4f7f-b399-c50aad592a4b",
   "metadata": {},
   "outputs": [],
   "source": [
    "9+6*5-6*3**2*2**3/4*7"
   ]
  },
  {
   "cell_type": "code",
   "execution_count": null,
   "id": "8ed7a57e-a69f-4388-940a-372e068e71a1",
   "metadata": {},
   "outputs": [],
   "source": [
    "9+(6*5-(6*3))**2*((2**3)/4*7)"
   ]
  },
  {
   "cell_type": "markdown",
   "id": "9983c067-4a19-44c7-9448-2cb5e1eef14a",
   "metadata": {},
   "source": [
    "### Fun\n",
    "It is still hot out!"
   ]
  },
  {
   "cell_type": "code",
   "execution_count": null,
   "id": "89574bac-2aec-4e65-a45f-617c1d56ca38",
   "metadata": {},
   "outputs": [],
   "source": [
    "!pip install meteostat"
   ]
  },
  {
   "cell_type": "code",
   "execution_count": null,
   "id": "f47d16f3-8c98-4a63-ad6e-2b23f8eb3417",
   "metadata": {},
   "outputs": [],
   "source": [
    "# Import Meteostat library and dependencies\n",
    "from datetime import datetime\n",
    "%matplotlib inline\n",
    "import matplotlib.pyplot as plt\n",
    "from meteostat import Point, Daily"
   ]
  },
  {
   "cell_type": "code",
   "execution_count": null,
   "id": "b5666d16-06f2-4ba1-a9f6-f5ad48bdef20",
   "metadata": {},
   "outputs": [],
   "source": [
    "# Set time period\n",
    "start = datetime(2024, 1, 1)\n",
    "end = datetime(2024, 12, 31)\n",
    "# Create Point for Vancouver, BC\n",
    "location = Point(49.2497, -123.1193, 70) # latitude, longitude, altitude"
   ]
  },
  {
   "cell_type": "code",
   "execution_count": null,
   "id": "7a69775b-618c-42ad-a5ff-ffcd5c364c87",
   "metadata": {},
   "outputs": [],
   "source": [
    "# Get daily data for 2024\n",
    "data = Daily(location, start, end)\n",
    "data = data.fetch()\n",
    "\n",
    "# Plot line chart including average, minimum and maximum temperature\n",
    "data.plot(y=['tavg', 'tmin', 'tmax'])\n",
    "plt.show()"
   ]
  },
  {
   "cell_type": "code",
   "execution_count": null,
   "id": "f66762ee-ea15-4ff6-9bee-b63823e476b6",
   "metadata": {},
   "outputs": [],
   "source": [
    "# Set time period\n",
    "start = datetime(2024, 1, 1)\n",
    "end = datetime(2024, 1, 24)\n",
    "# Create Point for Philadelphia? 39.981, -75.153\n",
    "location = Point(39.981, -75.153, 10)"
   ]
  },
  {
   "cell_type": "code",
   "execution_count": null,
   "id": "106868dc-b07c-4f4c-91f2-015b3e1f84a1",
   "metadata": {},
   "outputs": [],
   "source": [
    "# Get daily data for 2024\n",
    "data = Daily(location, start, end)\n",
    "data = data.fetch()\n",
    "\n",
    "# Plot line chart including average, minimum and maximum temperature\n",
    "data.plot(y=['tavg', 'tmin', 'tmax'])\n",
    "plt.show()"
   ]
  },
  {
   "cell_type": "code",
   "execution_count": null,
   "id": "295a6e67-d054-4674-97bb-cdb97eac698e",
   "metadata": {},
   "outputs": [],
   "source": []
  },
  {
   "cell_type": "code",
   "execution_count": null,
   "id": "60e604ce-6483-44ff-9c2e-68c08955a2f4",
   "metadata": {},
   "outputs": [],
   "source": [
    "# Get daily data for 2021\n",
    "start = datetime(1940, 1, 1)\n",
    "end = datetime(2024, 1, 18)\n",
    "data = Daily(location, start, end)\n",
    "data = data.fetch()\n",
    "\n",
    "# Plot line chart including average, minimum and maximum temperature\n",
    "data.plot(y=['tavg', 'tmin', 'tmax'])\n",
    "plt.show()"
   ]
  },
  {
   "cell_type": "code",
   "execution_count": null,
   "id": "9d52ff36-63f2-4bf5-bd37-f41581ecbe21",
   "metadata": {},
   "outputs": [],
   "source": [
    "data.plot(y=['snow'])"
   ]
  },
  {
   "cell_type": "code",
   "execution_count": null,
   "id": "ff1143a1-fcd4-466b-b156-e131501512a1",
   "metadata": {},
   "outputs": [],
   "source": [
    "import pandas as pd"
   ]
  },
  {
   "cell_type": "code",
   "execution_count": null,
   "id": "bc57ccef-6a08-4bab-b53f-d03228824ec1",
   "metadata": {},
   "outputs": [],
   "source": [
    "data.index = pd.to_datetime(data.index)"
   ]
  },
  {
   "cell_type": "code",
   "execution_count": null,
   "id": "10413203-bb2c-4348-820a-20f2787830ab",
   "metadata": {},
   "outputs": [],
   "source": [
    "data.groupby(data.index.year)['snow'].sum()/25.4"
   ]
  },
  {
   "cell_type": "code",
   "execution_count": null,
   "id": "f52d9602-b953-41b4-b386-d0a75d92d623",
   "metadata": {},
   "outputs": [],
   "source": [
    "# Mount Pocono\n",
    "location = Point(41.122, -75.3646, 70) # latitude, longitude, altitude"
   ]
  },
  {
   "cell_type": "code",
   "execution_count": null,
   "id": "d0b67347-fa8d-44ef-ba10-8f598f621e86",
   "metadata": {},
   "outputs": [],
   "source": [
    "# Create Point for Philadelphia? 39.981, -75.153\n",
    "location = Point(39.981, -75.153, 10)"
   ]
  },
  {
   "cell_type": "code",
   "execution_count": null,
   "id": "853496a3-c2c2-4cb8-8772-23130186addc",
   "metadata": {},
   "outputs": [],
   "source": [
    "start = datetime(1940, 1, 1)\n",
    "end = datetime(2024, 1, 18)\n",
    "data = Daily(location, start, end)\n",
    "data = data.fetch()\n",
    "snow = data.groupby(data.index.year)['snow'].sum()/25.4"
   ]
  },
  {
   "cell_type": "code",
   "execution_count": null,
   "id": "ac22bcbb-e1b4-4c4f-8a1e-e7239c367d42",
   "metadata": {},
   "outputs": [],
   "source": [
    "snow.plot(y='snow')\n",
    "plt.xlabel('Year')\n",
    "plt.ylabel('Annual Snowfall [inch]')"
   ]
  },
  {
   "cell_type": "code",
   "execution_count": null,
   "id": "ee566058-17ec-4eb9-a36c-5dcfda3ae38a",
   "metadata": {},
   "outputs": [],
   "source": [
    "snow.mean()"
   ]
  },
  {
   "cell_type": "code",
   "execution_count": null,
   "id": "80c08e69-7c4e-4be8-81bc-dbb20d6a214c",
   "metadata": {},
   "outputs": [],
   "source": [
    "type(snow)"
   ]
  },
  {
   "cell_type": "code",
   "execution_count": null,
   "id": "d620e86c-5d20-48bf-9969-112274f9bdef",
   "metadata": {},
   "outputs": [],
   "source": [
    "plt.scatter(snow.index, snow)"
   ]
  },
  {
   "cell_type": "code",
   "execution_count": null,
   "id": "6f723490-4911-4985-9332-965892660fe9",
   "metadata": {},
   "outputs": [],
   "source": []
  }
 ],
 "metadata": {
  "kernelspec": {
   "display_name": "Python 3 (ipykernel)",
   "language": "python",
   "name": "python3"
  },
  "language_info": {
   "codemirror_mode": {
    "name": "ipython",
    "version": 3
   },
   "file_extension": ".py",
   "mimetype": "text/x-python",
   "name": "python",
   "nbconvert_exporter": "python",
   "pygments_lexer": "ipython3",
   "version": "3.11.6"
  }
 },
 "nbformat": 4,
 "nbformat_minor": 5
}
